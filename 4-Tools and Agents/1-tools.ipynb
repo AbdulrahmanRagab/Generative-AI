{
 "cells": [
  {
   "cell_type": "code",
   "execution_count": 100,
   "id": "acb530be",
   "metadata": {},
   "outputs": [
    {
     "data": {
      "text/plain": [
       "True"
      ]
     },
     "execution_count": 100,
     "metadata": {},
     "output_type": "execute_result"
    }
   ],
   "source": [
    "import os\n",
    "from openai import OpenAI\n",
    "# from langchain.chat_models import ChatOpenAI \n",
    "from langchain_openai import ChatOpenAI\n",
    "\n",
    "# Use dotenv to load your environment variables (if running in Jupyter, `%dotenv` is fine)\n",
    "from dotenv import load_dotenv\n",
    "load_dotenv()  # loads .env file into environment variables"
   ]
  },
  {
   "cell_type": "code",
   "execution_count": null,
   "id": "e4b137bb",
   "metadata": {},
   "outputs": [
    {
     "name": "stdout",
     "output_type": "stream",
     "text": [
      "OPENROUTER_API_KEY is loaded: Yes\n"
     ]
    }
   ],
   "source": [
    "# Confirm your key is loaded\n",
    "api_key = os.getenv(\"OPENROUTER_API_KEY\")\n",
    "if api_key is None:\n",
    "    raise ValueError(\"OPENROUTER_API_KEY not found in environment variables\")\n",
    "print(f\"OPENROUTER_API_KEY is loaded: {'Yes' if api_key else 'No'}\")"
   ]
  },
  {
   "cell_type": "markdown",
   "id": "733abfde",
   "metadata": {},
   "source": [
    "nousresearch/hermes-3-llama-3.1-8b:free , meta-llama/llama-3.3-70b-instruct:free, meta-llama/llama-4-maverick:free"
   ]
  },
  {
   "cell_type": "code",
   "execution_count": null,
   "id": "f5a0f41b",
   "metadata": {},
   "outputs": [],
   "source": [
    "# # Initialize OpenAI client with your OPENROUTER_API_KEY\n",
    "# client = OpenAI(api_key=api_key)\n",
    "\n",
    "# # Initialize LangChain ChatOpenAI model with your desired parameters\n",
    "# llm = ChatOpenAI(model_name='meta-llama/llama-3.2-3b-instruct:free',\n",
    "#                   temperature=0, max_tokens=250, openai_api_key=api_key,\n",
    "#                   openai_api_base=\"https://openrouter.ai/api/v1\")"
   ]
  },
  {
   "cell_type": "code",
   "execution_count": 104,
   "id": "98c91d7c",
   "metadata": {},
   "outputs": [],
   "source": [
    "llm = ChatOpenAI(model='gpt-4o-mini', temperature=0.7,max_completion_tokens=100)"
   ]
  },
  {
   "cell_type": "code",
   "execution_count": 105,
   "id": "cdff5a6c",
   "metadata": {},
   "outputs": [
    {
     "name": "stdout",
     "output_type": "stream",
     "text": [
      "You are currently interacting with OpenAI's GPT-3 model. If you have any specific questions or need assistance, feel free to ask!\n"
     ]
    }
   ],
   "source": [
    "# Query the model\n",
    "response = llm.invoke(\"what is the model i use now?\")\n",
    "\n",
    "# Print the response content\n",
    "print(response.content)"
   ]
  },
  {
   "cell_type": "code",
   "execution_count": 106,
   "id": "3e7edab1",
   "metadata": {},
   "outputs": [],
   "source": [
    "from langchain_core.tools import tool"
   ]
  },
  {
   "cell_type": "code",
   "execution_count": 107,
   "id": "865ceca5",
   "metadata": {},
   "outputs": [],
   "source": [
    "@tool\n",
    "def add(a, b):\n",
    "    \"\"\"\n",
    "    Add two integer numbers together\n",
    "    \n",
    "    Args:\n",
    "    a: First Integer\n",
    "    b: Second Integer\n",
    "    \"\"\"\n",
    "    return a + b"
   ]
  },
  {
   "cell_type": "code",
   "execution_count": 108,
   "id": "a6e56825",
   "metadata": {},
   "outputs": [
    {
     "name": "stderr",
     "output_type": "stream",
     "text": [
      "C:\\Users\\Abdelrahman\\AppData\\Local\\Temp\\ipykernel_15128\\2446820333.py:1: PydanticDeprecatedSince20: The `schema` method is deprecated; use `model_json_schema` instead. Deprecated in Pydantic V2.0 to be removed in V3.0. See Pydantic V2 Migration Guide at https://errors.pydantic.dev/2.11/migration/\n",
      "  add.name, add.description, add.args, add.args_schema.schema()\n"
     ]
    },
    {
     "data": {
      "text/plain": [
       "('add',\n",
       " 'Add two integer numbers together\\n\\nArgs:\\na: First Integer\\nb: Second Integer',\n",
       " {'a': {'title': 'A'}, 'b': {'title': 'B'}},\n",
       " {'description': 'Add two integer numbers together\\n\\nArgs:\\na: First Integer\\nb: Second Integer',\n",
       "  'properties': {'a': {'title': 'A'}, 'b': {'title': 'B'}},\n",
       "  'required': ['a', 'b'],\n",
       "  'title': 'add',\n",
       "  'type': 'object'})"
      ]
     },
     "execution_count": 108,
     "metadata": {},
     "output_type": "execute_result"
    }
   ],
   "source": [
    "add.name, add.description, add.args, add.args_schema.schema()"
   ]
  },
  {
   "cell_type": "code",
   "execution_count": 109,
   "id": "6e26f650",
   "metadata": {},
   "outputs": [
    {
     "data": {
      "text/plain": [
       "3"
      ]
     },
     "execution_count": 109,
     "metadata": {},
     "output_type": "execute_result"
    }
   ],
   "source": [
    "add.invoke({'a' : 1, 'b' : 2})"
   ]
  },
  {
   "cell_type": "code",
   "execution_count": 110,
   "id": "b7756dbc",
   "metadata": {},
   "outputs": [
    {
     "data": {
      "text/plain": [
       "15"
      ]
     },
     "execution_count": 110,
     "metadata": {},
     "output_type": "execute_result"
    }
   ],
   "source": [
    "add.invoke({'a' : 5, 'b' : 10})"
   ]
  },
  {
   "cell_type": "code",
   "execution_count": 111,
   "id": "abb2d20a",
   "metadata": {},
   "outputs": [],
   "source": [
    "@tool\n",
    "def multiply(a, b):\n",
    "    \"\"\"\n",
    "    Multiply two integer numbers together\n",
    "    \n",
    "    Args:\n",
    "    a: First Integer\n",
    "    b: Second Integer\n",
    "    \"\"\"\n",
    "    return a * b"
   ]
  },
  {
   "cell_type": "code",
   "execution_count": 112,
   "id": "936ac31c",
   "metadata": {},
   "outputs": [
    {
     "name": "stderr",
     "output_type": "stream",
     "text": [
      "C:\\Users\\Abdelrahman\\AppData\\Local\\Temp\\ipykernel_15128\\881475884.py:1: PydanticDeprecatedSince20: The `schema` method is deprecated; use `model_json_schema` instead. Deprecated in Pydantic V2.0 to be removed in V3.0. See Pydantic V2 Migration Guide at https://errors.pydantic.dev/2.11/migration/\n",
      "  multiply.name, multiply.description, multiply.args, multiply.args_schema.schema()\n"
     ]
    },
    {
     "data": {
      "text/plain": [
       "('multiply',\n",
       " 'Multiply two integer numbers together\\n\\nArgs:\\na: First Integer\\nb: Second Integer',\n",
       " {'a': {'title': 'A'}, 'b': {'title': 'B'}},\n",
       " {'description': 'Multiply two integer numbers together\\n\\nArgs:\\na: First Integer\\nb: Second Integer',\n",
       "  'properties': {'a': {'title': 'A'}, 'b': {'title': 'B'}},\n",
       "  'required': ['a', 'b'],\n",
       "  'title': 'multiply',\n",
       "  'type': 'object'})"
      ]
     },
     "execution_count": 112,
     "metadata": {},
     "output_type": "execute_result"
    }
   ],
   "source": [
    "multiply.name, multiply.description, multiply.args, multiply.args_schema.schema()"
   ]
  },
  {
   "cell_type": "code",
   "execution_count": 113,
   "id": "2d7afc7f",
   "metadata": {},
   "outputs": [
    {
     "data": {
      "text/plain": [
       "4"
      ]
     },
     "execution_count": 113,
     "metadata": {},
     "output_type": "execute_result"
    }
   ],
   "source": [
    "multiply.invoke({'a' : 2, 'b' : 2})"
   ]
  },
  {
   "cell_type": "code",
   "execution_count": 114,
   "id": "a32ccbe2",
   "metadata": {},
   "outputs": [],
   "source": [
    "tools = [add, multiply]\n",
    "llm_with_tools = llm.bind_tools(tools)"
   ]
  },
  {
   "cell_type": "code",
   "execution_count": 115,
   "id": "4a021048",
   "metadata": {},
   "outputs": [
    {
     "data": {
      "text/plain": [
       "[{'name': 'add',\n",
       "  'args': {'a': 2, 'b': 3},\n",
       "  'id': 'call_MZSJjnKKXZEXPijyMx0a9fsI',\n",
       "  'type': 'tool_call'}]"
      ]
     },
     "execution_count": 115,
     "metadata": {},
     "output_type": "execute_result"
    }
   ],
   "source": [
    "question = \"what is 2 plus 3?\"\n",
    "llm_with_tools.invoke(question).tool_calls"
   ]
  },
  {
   "cell_type": "code",
   "execution_count": 116,
   "id": "43b1a028",
   "metadata": {},
   "outputs": [
    {
     "data": {
      "text/plain": [
       "[{'name': 'multiply',\n",
       "  'args': {'a': 2, 'b': 3},\n",
       "  'id': 'call_eQJttqRTfb4jrdQKoqRlRYj6',\n",
       "  'type': 'tool_call'}]"
      ]
     },
     "execution_count": 116,
     "metadata": {},
     "output_type": "execute_result"
    }
   ],
   "source": [
    "question = \"what is 2 * 3?\"\n",
    "llm_with_tools.invoke(question).tool_calls"
   ]
  },
  {
   "cell_type": "code",
   "execution_count": 117,
   "id": "ed3fcbb5",
   "metadata": {},
   "outputs": [
    {
     "data": {
      "text/plain": [
       "[{'name': 'multiply',\n",
       "  'args': {'a': 1, 'b': 2},\n",
       "  'id': 'call_p6LWjCHaJXcElmgBwJ8QRXXz',\n",
       "  'type': 'tool_call'},\n",
       " {'name': 'add',\n",
       "  'args': {'a': 11, 'b': 22},\n",
       "  'id': 'call_0Ey2tja0ou8bp9eTHHKssmfu',\n",
       "  'type': 'tool_call'}]"
      ]
     },
     "execution_count": 117,
     "metadata": {},
     "output_type": "execute_result"
    }
   ],
   "source": [
    "question  = \"what is 1 multiplied by 2, also what is 11 plus 22?\"\n",
    "llm_with_tools.invoke(question).tool_calls\n"
   ]
  },
  {
   "cell_type": "code",
   "execution_count": 119,
   "id": "a60159bb",
   "metadata": {},
   "outputs": [
    {
     "name": "stdout",
     "output_type": "stream",
     "text": [
      "Page: Black Stone\n",
      "Summary: The Black Stone (Arabic: ٱلْحَجَرُ ٱلْأَسْوَد, romanized: al-Ḥajar al-Aswad) is a rock set into the eastern corner of the Kaaba, the ancient building in the center of the Masjid al-Haram in Mecca, Saudi Arabia. It is revered by Muslims as an Islamic relic which, according to tradition, dates back to the time of Adam and Eve.\n",
      "The stone was venerated at the Kaaba in pre-Islamic Arabia. According to tradition, it was set intact into the Kaaba's wall by Muhammad in 605, five years before his first revelation. Since then, it has been broken into fragments and is now encased in a silver frame on the side of the Kaaba. Its physical appearance is that of a fragmented, dark rock, polished smooth by the hands of pilgrims. It has often been described as a meteorite, but it has never been analysed with modern techniques, so its scientific origins remain the subject of speculation.\n",
      "Muslim pilgrims circle the Kaaba as a part of the tawaf ritual during the Hajj and many try to stop to kiss the Black Stone, emulating the kiss that Islamic tradition records that it received from Muhammad. While the Black Stone is revered, theologians emphasize that it has no divine significance and that its importance is historical in nature.\n",
      "\n",
      "Page: Bilal ibn Rabah\n",
      "Summary: Bilal ibn Rabah (Arabic: بِلَال بْن رَبَاح, romanized: Bilāl ibn Rabāḥ; c. 5 March 580 - 2 March 640 CE), also known as Bilāl al-Ḥabashī or simply Bilal, was a close companion of the Islamic prophet Muhammad. Born in Mecca, he was of Abyssinian (modern-day Ethiopia) descent and was formerly enslaved. He is considered the first muʾazzin (caller to prayer) in Islam, personally chosen by Muhammad for his deep and melodious voice.\n",
      " \n",
      "He was a former slave who called the Muslims to the daily obligatory prayers. According to Islamic tradition, Bilal was one of the earliest converts to Islam and is often regarded as the first African or Black Muslim. He died in 640 CE, around the age of 59.\n",
      "\n",
      "Page: Muhammad\n",
      "Summary: Muhammad (c. 570 – 8 June 632 CE) was an Arab religious, military and political leader and the founder of Islam. According to Islam, he was a prophet who was divinely inspired to preach and confirm the monotheistic teachings of Adam, Noah, Abraham, Moses, Jesus, and other prophets. He is believed by Muslims to be the Seal of the Prophets, and along with the Quran, his teachings and normative examples form the basis for Islamic religious belief.\n",
      "According to writers of Al-Sīra al-Nabawiyya, Muhammad was born in Mecca to the aristocratic Banu Hashim clan of the Quraysh. He was the son of Abdullah ibn Abd al-Muttalib and Amina bint Wahb. His father, Abdullah, the son of tribal leader Abd al-Muttalib ibn Hashim, died around the time Muhammad was born. His mother Amina died when he was six, leaving Muhammad an orphan. He was raised under the care of his grandfather, Abd al-Muttalib, and paternal uncle, Abu Talib. In later years, he would periodically seclude himself in a mountain cave named Hira for several nights of prayer. When he was 40, in c. 610, Muhammad reported being visited by Gabriel in the cave and receiving his first revelation from God. In 613, Muhammad started preaching these revelations publicly, proclaiming that \"God is One\", that complete \"submission\" (Islām) to God (Allāh) is the right way of life (dīn), and that he was a prophet and messenger of God, similar to other prophets in Islam.\n",
      "Muhammad's followers were initially few in number, and experienced persecution by Meccan polytheists for 13 years. To escape ongoing persecution, he sent some of his followers to Abyssinia in 615, before he and his followers migrated from Mecca to Medina (then known as Yathrib) later in 622. This event, the Hijrah, marks the beginning of the Islamic calendar, also known as the Hijri calendar. In Medina, Muhammad united the tribes under the Constitution of Medina. In December 629, after eight years of intermittent fighting with Meccan tribes, Muhammad gathered an arm\n"
     ]
    }
   ],
   "source": [
    "from langchain_community.tools import WikipediaQueryRun\n",
    "from langchain_community.utilities import WikipediaAPIWrapper\n",
    "\n",
    "wikipedia = WikipediaQueryRun(api_wrapper=WikipediaAPIWrapper(lang=\"en\",\n",
    "                                                              top_k_results=3,\n",
    "                                                              doc_content_chars_max=4000))\n",
    "\n",
    "question = \"give me information about kaaba?\"\n",
    "print(wikipedia.invoke(question))\n"
   ]
  },
  {
   "cell_type": "code",
   "execution_count": 120,
   "id": "8a4b553e",
   "metadata": {},
   "outputs": [],
   "source": [
    "@tool\n",
    "def wikipedia_search(query):\n",
    "    \"\"\"\n",
    "    Search wikipedia for general information.\n",
    "    \n",
    "    Args:\n",
    "    query: The search query\n",
    "    \"\"\"\n",
    "    \n",
    "    wikipedia = WikipediaQueryRun(api_wrapper=WikipediaAPIWrapper())\n",
    "    response = wikipedia.invoke(query)\n",
    "    return response\n",
    "\n",
    "@tool\n",
    "def add(a, b):\n",
    "    \"\"\"\n",
    "    Add two integer numbers together\n",
    "    \n",
    "    Args:\n",
    "    a: First Integer\n",
    "    b: Second Integer\n",
    "    \"\"\"\n",
    "    return a + b\n",
    "\n",
    "@tool\n",
    "def multiply(a, b):\n",
    "    \"\"\"\n",
    "    Multiply two integer numbers together\n",
    "    \n",
    "    Args:\n",
    "    a: First Integer\n",
    "    b: Second Integer\n",
    "    \"\"\"\n",
    "    return a * b"
   ]
  },
  {
   "cell_type": "code",
   "execution_count": 122,
   "id": "2930fb15",
   "metadata": {},
   "outputs": [],
   "source": [
    "tools = [wikipedia_search, add, multiply]\n",
    "list_tools = {tool.name: tool for tool in tools}"
   ]
  },
  {
   "cell_type": "code",
   "execution_count": 123,
   "id": "533a8394",
   "metadata": {},
   "outputs": [
    {
     "data": {
      "text/plain": [
       "{'wikipedia_search': StructuredTool(name='wikipedia_search', description='Search wikipedia for general information.\\n\\nArgs:\\nquery: The search query', args_schema=<class 'langchain_core.utils.pydantic.wikipedia_search'>, func=<function wikipedia_search at 0x000002D7A8FB3EB0>),\n",
       " 'add': StructuredTool(name='add', description='Add two integer numbers together\\n\\nArgs:\\na: First Integer\\nb: Second Integer', args_schema=<class 'langchain_core.utils.pydantic.add'>, func=<function add at 0x000002D7A8FB3640>),\n",
       " 'multiply': StructuredTool(name='multiply', description='Multiply two integer numbers together\\n\\nArgs:\\na: First Integer\\nb: Second Integer', args_schema=<class 'langchain_core.utils.pydantic.multiply'>, func=<function multiply at 0x000002D7A8FB35B0>)}"
      ]
     },
     "execution_count": 123,
     "metadata": {},
     "output_type": "execute_result"
    }
   ],
   "source": [
    "list_tools"
   ]
  },
  {
   "cell_type": "code",
   "execution_count": 124,
   "id": "82cb1732",
   "metadata": {},
   "outputs": [
    {
     "data": {
      "text/plain": [
       "RunnableBinding(bound=ChatOpenAI(client=<openai.resources.chat.completions.completions.Completions object at 0x000002D7A8688BB0>, async_client=<openai.resources.chat.completions.completions.AsyncCompletions object at 0x000002D7A870CDC0>, root_client=<openai.OpenAI object at 0x000002D7A8689330>, root_async_client=<openai.AsyncOpenAI object at 0x000002D7A870E6B0>, model_name='gpt-4o-mini', temperature=0.7, model_kwargs={}, openai_api_key=SecretStr('**********'), max_tokens=100), kwargs={'tools': [{'type': 'function', 'function': {'name': 'wikipedia_search', 'description': 'Search wikipedia for general information.\\n\\nArgs:\\nquery: The search query', 'parameters': {'properties': {'query': {}}, 'required': ['query'], 'type': 'object'}}}, {'type': 'function', 'function': {'name': 'add', 'description': 'Add two integer numbers together\\n\\nArgs:\\na: First Integer\\nb: Second Integer', 'parameters': {'properties': {'a': {}, 'b': {}}, 'required': ['a', 'b'], 'type': 'object'}}}, {'type': 'function', 'function': {'name': 'multiply', 'description': 'Multiply two integer numbers together\\n\\nArgs:\\na: First Integer\\nb: Second Integer', 'parameters': {'properties': {'a': {}, 'b': {}}, 'required': ['a', 'b'], 'type': 'object'}}}]}, config={}, config_factories=[])"
      ]
     },
     "execution_count": 124,
     "metadata": {},
     "output_type": "execute_result"
    }
   ],
   "source": [
    "llm_with_tools = llm.bind_tools(tools)\n",
    "llm_with_tools"
   ]
  },
  {
   "cell_type": "code",
   "execution_count": 125,
   "id": "b20a09bb",
   "metadata": {},
   "outputs": [
    {
     "name": "stdout",
     "output_type": "stream",
     "text": [
      "[{'name': 'multiply', 'args': {'a': 5, 'b': 6}, 'id': 'call_4t5CTA0oC9Jwar5JPF2pJatg', 'type': 'tool_call'}]\n"
     ]
    }
   ],
   "source": [
    "question = \"what is 5 times by 6?\"\n",
    "response = llm_with_tools.invoke(question)\n",
    "print(response.tool_calls)"
   ]
  },
  {
   "cell_type": "code",
   "execution_count": 36,
   "id": "05727d16",
   "metadata": {},
   "outputs": [
    {
     "name": "stdout",
     "output_type": "stream",
     "text": [
      "[{'name': 'add', 'args': {'a': '1', 'b': '6'}, 'id': 'chatcmpl-tool-e236c24bc8fc4196973b0345ab6c434e', 'type': 'tool_call'}]\n"
     ]
    }
   ],
   "source": [
    "question = \"what is 1 plus 6?\"\n",
    "response = llm_with_tools.invoke(question)\n",
    "print(response.tool_calls)"
   ]
  },
  {
   "cell_type": "code",
   "execution_count": 37,
   "id": "d72cd3ef",
   "metadata": {},
   "outputs": [
    {
     "name": "stdout",
     "output_type": "stream",
     "text": [
      "[{'name': 'wikipedia_search', 'args': {'query': 'tallest building'}, 'id': 'chatcmpl-tool-8998b38f3ad8423c9cc306e6a953055f', 'type': 'tool_call'}]\n"
     ]
    }
   ],
   "source": [
    "question = \"what is the tallest bulding?\"\n",
    "response = llm_with_tools.invoke(question)\n",
    "print(response.tool_calls)"
   ]
  },
  {
   "cell_type": "code",
   "execution_count": 70,
   "id": "fa864fb8",
   "metadata": {},
   "outputs": [],
   "source": [
    "from langchain_core.messages import HumanMessage"
   ]
  },
  {
   "cell_type": "code",
   "execution_count": null,
   "id": "54aa8d9b",
   "metadata": {},
   "outputs": [
    {
     "name": "stdout",
     "output_type": "stream",
     "text": [
      "[{'name': 'wikipedia_search', 'args': {'query': 'how to lose weight'}, 'id': 'call_aRJAgcnHo9WCahL65cix7fQu', 'type': 'tool_call'}]\n",
      "*--------------------------------*\n",
      "wikipedia_search\n",
      "*--------------------------------*\n",
      "name='wikipedia_search' description='Search wikipedia for general information.\\n\\nArgs:\\nquery: The search query' args_schema=<class 'langchain_core.utils.pydantic.wikipedia_search'> func=<function wikipedia_search at 0x000002D7A8FB3EB0>\n"
     ]
    }
   ],
   "source": [
    "question = \"how to lose on weight?\"\n",
    "\n",
    "messages = [HumanMessage(question)]\n",
    "\n",
    "ai_msg = llm_with_tools.invoke(messages)\n",
    "messages.append(ai_msg)\n",
    "\n",
    "tool_call = ai_msg.tool_calls\n",
    "print(tool_call)\n",
    "\n",
    "\n",
    "print('*--------------------------------*')\n",
    "\n",
    "for tool_call in ai_msg.tool_calls:\n",
    "    print(tool_call['name'])\n",
    "\n",
    "print('*--------------------------------*')\n",
    "\n",
    "print(list_tools['wikipedia_search'])"
   ]
  },
  {
   "cell_type": "code",
   "execution_count": 127,
   "id": "6fb538f7",
   "metadata": {},
   "outputs": [
    {
     "name": "stdout",
     "output_type": "stream",
     "text": [
      "📤 Output: Page: How to Lose a Guy in 10 Days\n",
      "Summary: How to Lose a Guy in 10 Days is a 2003 romantic comedy film directed by Donald Petrie, from a script by Kristen Buckley, Brian Regan, and Burr Steers, and starring Kate Hudson and Matthew McConaughey. Loosely based on the picture book of the same name by Michele Alexander and Jeannie Long, the plot concerns a women's magazine writer and an advertising executive who both begin a relationship with ulterior motives. While the story and characters in the film are original, the dating \"don'ts\" of the picture book are included in the film.\n",
      "How to Lose a Guy in 10 Days was released theatrically in the United States on February 7, 2003, and was a box office success, grossing over $177.5 million against a production budget of $50 million. Despite this, the film garnered mixed reviews from critics, who praised Hudson and McConaughey's acting and chemistry, but criticized the script and predictable plot.\n",
      "\n",
      "Page: Xand van Tulleken\n",
      "Summary: Alexander Gerald van Hoogenhouck-Tulleken (born 18 August 1978) is a British doctor and TV presenter. He is best known for presenting the CBBC children's series Operation Ouch! with his identical twin brother Chris, and the Channel 4 show How to Lose Weight Well. \n",
      "Van Tulleken has presented many documentaries, including an episode of Horizon discussing male suicide and a BBC programme on the European migrant crisis. He can often be seen offering up his own body for science experimentation in diet show How to Lose Weight Well, as well as in BBC Horizon episodes \"Sugar vs Fat\" and \"Is Binge Drinking Really That Bad?\" As of July 2023, he was appearing regularly on the BBC1 weekday programme Morning Live, providing a variety of medical advice. Van Tulleken is also a member of the \"Made of stronger stuff\" podcast on BBC Sounds.\n",
      "\n",
      "Page: Tom Kerridge\n",
      "Summary: Thomas Kerridge (born 27 July 1973) is an English chef. After initially appearing in several small television parts as a child actor, he decided to attend culinary school at the age of 18. He has since worked at a variety of British restaurants, including the Rhodes in the Square and Adlards.\n",
      "With his wife, Beth Cullen-Kerridge, Kerridge opened a pub, the Hand & Flowers, in Marlow, Buckinghamshire, in 2005. Within a year he gained his first Michelin star. In 2012, Hand & Flowers became the first pub to win a second Michelin star. Kerridge opened a second pub, the Coach, also in Marlow, which has also won a Michelin star. He opened a pub and butcher, the Butcher's Tap, and opened his first London restaurant in 2018 at Corinthia Hotel London.\n",
      "Kerridge has appeared on the Great British Menu, MasterChef, and Saturday Kitchen and presented How to Lose Weight For Good and Top of the Shop, both for the BBC. Kerridge presented Bake Off: Crème de la Crème (2016) and presents Food and Drink (2015–present), both for BBC Two.\n"
     ]
    }
   ],
   "source": [
    "selected_tool = list_tools['wikipedia_search']\n",
    "\n",
    "    # تشغيل الأداة\n",
    "tool_msg = selected_tool.invoke(tool_call)\n",
    "\n",
    "    # طباعة نتيجة الأداة\n",
    "print(f\"📤 Output: {tool_msg.content}\")"
   ]
  },
  {
   "cell_type": "code",
   "execution_count": 53,
   "id": "5d176134",
   "metadata": {},
   "outputs": [
    {
     "name": "stdout",
     "output_type": "stream",
     "text": [
      "\n",
      "=== Conversation ===\n",
      "HUMAN: how to lose on weight?\n",
      "AI: \n",
      "TOOL: Page: Weight loss\n",
      "Summary: Weight loss, in the context of medicine, health, or physical fitness, refers to a reduction of the total body mass, by a mean loss of fluid, body fat (adipose tissue), or lean mass (namely bone mineral deposits, muscle, tendon, and other connective tissue). Weight loss can either occur unintentionally because of malnourishment or an underlying disease, or from a conscious effort to improve an actual or perceived overweight or obese state.  \"Unexplained\" weight loss that is not caused by reduction in calorific intake or increase in exercise is called cachexia and may be a symptom of a serious medical condition.\n",
      "\n",
      "Page: Anti-obesity medication\n",
      "Summary: Anti-obesity medication or weight loss medications are pharmacological agents that reduce or control excess body fat. These medications alter one of the fundamental processes of the human body, weight regulation, by: reducing appetite and consequently energy intake, increasing energy expenditure, redirecting nutrients from adipose to lean tissue, or interfering with the absorption of calories.\n",
      "Weight loss drugs have been developed since the early twentieth century, and many have been banned or withdrawn from the market due to adverse effects, including deaths; other drugs proved ineffective. Although many earlier drugs were stimulants such as amphetamines, in the early 2020s, GLP-1 receptor agonists became popular for weight loss.\n",
      "The medications liraglutide, naltrexone/bupropion, orlistat, semaglutide, and tirzepatide are approved by the US Food and Drug Administration (FDA) for weight management in combination with reduced-calorie diet and increased physical activity. As of 2022, no medication has been shown to be as effective at long-term weight reduction as bariatric surgery.\n",
      "\n",
      "Page: Weight loss camp\n",
      "Summary: A fat camp, weight loss camp, or fat farm is a type of residential program where people who are overweight or obese go to attempt to lose weight through exercise and lifestyle changes.\n"
     ]
    }
   ],
   "source": [
    "messages.append(tool_msg)\n",
    "\n",
    "# لو حابب تعرض المحادثة كاملة بعد التنفيذ\n",
    "print(\"\\n=== Conversation ===\")\n",
    "for msg in messages:\n",
    "    print(f\"{msg.type.upper()}: {msg.content}\")"
   ]
  },
  {
   "cell_type": "code",
   "execution_count": 128,
   "id": "421e7d44",
   "metadata": {},
   "outputs": [
    {
     "name": "stdout",
     "output_type": "stream",
     "text": [
      "\n",
      "🔧 Tool requested: wikipedia_search\n",
      "📥 Input: {'query': 'medicine for lung cancer'}\n",
      "📤 Output: Page: Lung cancer\n",
      "Summary: Lung cancer, also called lung carcinoma, is a malignant tumor that originates in the tissues of the lungs. Lung cancer is caused by genetic damage to the DNA of cells in the airways, often caused by cigarette smoking or inhaling damaging chemicals. Damaged airway cells gain the ability to multiply unchecked, causing the growth of a tumor. Without treatment, tumors spread throughout the lung, damaging lung function. Eventually lung tumors metastasize, spreading to other parts of the body.\n",
      "Early lung cancer often has no symptoms and can only be detected by medical imaging. As the cancer progresses, most people experience nonspecific respiratory problems: coughing, shortness of breath, or chest pain. Other symptoms depend on the location and size of the tumor. Those suspected of having lung cancer typically undergo a series of imaging tests to determine the location and extent of any tumors. Definitive diagnosis of lung cancer requires a biopsy of the suspected tumor be examined by a pathologist under a microscope. In addition to recognizing cancerous cells, a pathologist can classify the tumor according to the type of cells it originates from. Around 15% of cases are small-cell lung cancer (SCLC), and the remaining 85% (the non-small-cell lung cancers or NSCLC) are adenocarcinomas, squamous-cell carcinomas, and large-cell carcinomas. After diagnosis, further imaging and biopsies are done to determine the cancer's stage based on how far it has spread.\n",
      "Treatment for early stage lung cancer includes surgery to remove the tumor, sometimes followed by radiation therapy and chemotherapy to kill any remaining cancer cells. Later stage cancer is treated with radiation therapy and chemotherapy alongside drug treatments that target specific cancer subtypes. Even with treatment, only around 20% of people survive five years on from their diagnosis. Survival rates are higher in those diagnosed at an earlier stage, diagnosed at a younger age, and in women compared to men.\n",
      "Most lung cancer cases are caused by tobacco smoking. The remainder are caused by exposure to hazardous substances like asbestos and radon gas, or by genetic mutations that arise by chance. Consequently, lung cancer prevention efforts encourage people to avoid hazardous chemicals and quit smoking. Quitting smoking both reduces one's chance of developing lung cancer and improves treatment outcomes in those already diagnosed with lung cancer.\n",
      "Lung cancer is the most diagnosed and deadliest cancer worldwide, with 2.2 million cases in 2020 resulting in 1.8 million deaths. Lung cancer is rare in those younger than 40; the average age at diagnosis is 70 years, and the average age at death 72. Incidence and outcomes vary widely across the world, depending on patterns of tobacco use. Prior to the advent of cigarette smoking in the 20th century, lung cancer was a rare disease. In the 1950s and 1960s, increasing evidence linked lung cancer and tobacco use, culminating in declarations by most large national health bodies discouraging tobacco use.\n",
      "\n",
      "\n",
      "\n",
      "Page: Non-small-cell lung cancer\n",
      "Summary: Non-small-cell lung cancer (NSCLC), or non-small-cell lung carcinoma, is any type of epithelial lung cancer other than small-cell lung cancer (SCLC). NSCLC accounts for about 85% of all lung cancers. As a class, NSCLCs are relatively insensitive to chemotherapy, compared to small-cell carcinoma. When possible, they are primarily treated by surgical resection with curative intent, although chemotherapy has been used increasingly both preoperatively (neoadjuvant chemotherapy) and postoperatively (adjuvant chemotherapy).\n",
      "\n",
      "\n",
      "\n",
      "Page: Lung cancer screening\n",
      "Summary: Lung cancer screening refers to cancer screening strategies used to identify early lung cancers before they cause symptoms, at a point where they are more likely to be curable. Lung cancer screening is critically important because of the incidence and prevalence of lung cancer. More than 235,000 new cases of lung cancer\n",
      "\n",
      "=== Conversation ===\n",
      "HUMAN: What is medicine for lung cancer?\n",
      "AI: \n",
      "TOOL: Page: Lung cancer\n",
      "Summary: Lung cancer, also called lung carcinoma, is a malignant tumor that originates in the tissues of the lungs. Lung cancer is caused by genetic damage to the DNA of cells in the airways, often caused by cigarette smoking or inhaling damaging chemicals. Damaged airway cells gain the ability to multiply unchecked, causing the growth of a tumor. Without treatment, tumors spread throughout the lung, damaging lung function. Eventually lung tumors metastasize, spreading to other parts of the body.\n",
      "Early lung cancer often has no symptoms and can only be detected by medical imaging. As the cancer progresses, most people experience nonspecific respiratory problems: coughing, shortness of breath, or chest pain. Other symptoms depend on the location and size of the tumor. Those suspected of having lung cancer typically undergo a series of imaging tests to determine the location and extent of any tumors. Definitive diagnosis of lung cancer requires a biopsy of the suspected tumor be examined by a pathologist under a microscope. In addition to recognizing cancerous cells, a pathologist can classify the tumor according to the type of cells it originates from. Around 15% of cases are small-cell lung cancer (SCLC), and the remaining 85% (the non-small-cell lung cancers or NSCLC) are adenocarcinomas, squamous-cell carcinomas, and large-cell carcinomas. After diagnosis, further imaging and biopsies are done to determine the cancer's stage based on how far it has spread.\n",
      "Treatment for early stage lung cancer includes surgery to remove the tumor, sometimes followed by radiation therapy and chemotherapy to kill any remaining cancer cells. Later stage cancer is treated with radiation therapy and chemotherapy alongside drug treatments that target specific cancer subtypes. Even with treatment, only around 20% of people survive five years on from their diagnosis. Survival rates are higher in those diagnosed at an earlier stage, diagnosed at a younger age, and in women compared to men.\n",
      "Most lung cancer cases are caused by tobacco smoking. The remainder are caused by exposure to hazardous substances like asbestos and radon gas, or by genetic mutations that arise by chance. Consequently, lung cancer prevention efforts encourage people to avoid hazardous chemicals and quit smoking. Quitting smoking both reduces one's chance of developing lung cancer and improves treatment outcomes in those already diagnosed with lung cancer.\n",
      "Lung cancer is the most diagnosed and deadliest cancer worldwide, with 2.2 million cases in 2020 resulting in 1.8 million deaths. Lung cancer is rare in those younger than 40; the average age at diagnosis is 70 years, and the average age at death 72. Incidence and outcomes vary widely across the world, depending on patterns of tobacco use. Prior to the advent of cigarette smoking in the 20th century, lung cancer was a rare disease. In the 1950s and 1960s, increasing evidence linked lung cancer and tobacco use, culminating in declarations by most large national health bodies discouraging tobacco use.\n",
      "\n",
      "\n",
      "\n",
      "Page: Non-small-cell lung cancer\n",
      "Summary: Non-small-cell lung cancer (NSCLC), or non-small-cell lung carcinoma, is any type of epithelial lung cancer other than small-cell lung cancer (SCLC). NSCLC accounts for about 85% of all lung cancers. As a class, NSCLCs are relatively insensitive to chemotherapy, compared to small-cell carcinoma. When possible, they are primarily treated by surgical resection with curative intent, although chemotherapy has been used increasingly both preoperatively (neoadjuvant chemotherapy) and postoperatively (adjuvant chemotherapy).\n",
      "\n",
      "\n",
      "\n",
      "Page: Lung cancer screening\n",
      "Summary: Lung cancer screening refers to cancer screening strategies used to identify early lung cancers before they cause symptoms, at a point where they are more likely to be curable. Lung cancer screening is critically important because of the incidence and prevalence of lung cancer. More than 235,000 new cases of lung cancer\n"
     ]
    }
   ],
   "source": [
    "from langchain_core.messages import HumanMessage\n",
    "\n",
    "# استعلامك\n",
    "query = \"What is medicine for lung cancer?\"\n",
    "\n",
    "# رسالة البداية من المستخدم\n",
    "messages = [HumanMessage(query)]\n",
    "\n",
    "# استدعاء النموذج مع الأدوات\n",
    "ai_msg = llm_with_tools.invoke(messages)\n",
    "\n",
    "# إضافة استجابة الـ AI للمحادثة\n",
    "messages.append(ai_msg)\n",
    "\n",
    "# التعامل مع الاستدعاءات للأدوات (tool calls)\n",
    "for tool_call in ai_msg.tool_calls:\n",
    "    print(f\"\\n🔧 Tool requested: {tool_call['name']}\")\n",
    "    print(f\"📥 Input: {tool_call['args']}\")\n",
    "\n",
    "    # تحديد الأداة من القاموس\n",
    "    name = tool_call['name'].lower()\n",
    "    selected_tool = list_tools[name]\n",
    "\n",
    "    # تشغيل الأداة\n",
    "    tool_msg = selected_tool.invoke(tool_call)\n",
    "\n",
    "    # طباعة نتيجة الأداة\n",
    "    print(f\"📤 Output: {tool_msg.content}\")\n",
    "\n",
    "    # إضافة رسالة الأداة للمحادثة\n",
    "    messages.append(tool_msg)\n",
    "\n",
    "# لو حابب تعرض المحادثة كاملة بعد التنفيذ\n",
    "print(\"\\n=== Conversation ===\")\n",
    "for msg in messages:\n",
    "    print(f\"{msg.type.upper()}: {msg.content}\")\n"
   ]
  },
  {
   "cell_type": "code",
   "execution_count": null,
   "id": "34213369",
   "metadata": {},
   "outputs": [
    {
     "name": "stdout",
     "output_type": "stream",
     "text": [
      "\n",
      "=== Conversation ===\n",
      "HUMAN: What is Nvidia?\n",
      "TOOL: Page: Nvidia\n",
      "Summary: Nvidia Corporation ( en-VID-ee-ə) is an American technology company headquartered in Santa Clara, California. Founded in 1993 by Jensen Huang (president and CEO), Chris Malachowsky, and Curtis Priem, it develops graphics processing units (GPUs), systems on chips (SoCs), and application programming interfaces (APIs) for data science, high-performance computing, and mobile and automotive applications.\n",
      "Originally focused on GPUs for video gaming, Nvidia broadened their use into other markets, including artificial intelligence (AI), professional visualization, and supercomputing. The company's product lines include GeForce GPUs for gaming and creative workloads, and professional GPUs for edge computing, scientific research, and industrial applications. As of the first quarter of 2025, Nvidia held a 92% share of the discrete desktop and laptop GPU market.\n",
      "In the early 2000s, the company invested over a billion dollars to develop CUDA, a software platform and API that enabled GPUs to run massively parallel programs for a broad range of compute-intensive applications. As a result, as of 2025, Nvidia controlled more than 80% of the market for GPUs used in training and deploying AI models, and provided chips for over 75% of the world's TOP500 supercomputers. The company has also expanded into gaming hardware and services, with products such as the Shield Portable, Shield Tablet, and Shield TV, and operates the GeForce Now cloud gaming service. It also developed the Tegra line of mobile processors for smartphones, tablets, and automotive infotainment systems. \n",
      "In 2023, Nvidia became the seventh U.S. company to reach a US$1 trillion valuation. In 2025, it became the first to surpass US$4 trillion in market capitalization, driven by rising global demand for data center hardware in the midst of the AI boom. For its strength, size and market capitalization, Nvidia has been selected to be one of Bloomberg's \"Magnificent Seven\", the seven biggest companies on the stock market in these regards.\n",
      "\n",
      "Page: List of Nvidia graphics processing units\n",
      "Summary: This list contains general information about graphics processing units (GPUs) and video cards from Nvidia, based on official specifications. In addition some Nvidia motherboards come with integrated onboard GPUs. Limited/special/collectors' editions or AIB versions are not included.\n",
      "\n",
      "\n",
      "\n",
      "Page: GeForce RTX 30 series\n",
      "Summary: The GeForce RTX 30 series is a suite of graphics processing units (GPUs) developed by Nvidia, succeeding the GeForce RTX 20 series. The GeForce RTX 30 series is based on the Ampere architecture, which features Nvidia's second-generation ray tracing (RT) cores and third-generation Tensor Cores. Part of the Nvidia RTX series, hardware-enabled real-time ray tracing is featured on GeForce RTX 30 series cards.\n",
      "The lineup, designed to compete with AMD's Radeon RX 6000 series of cards, consists of the entry-level and previously laptop-exclusive RTX 3050 and laptop-exclusive RTX 3050 Ti, mid-range RTX 3060, upper-midrange RTX 3060 Ti, RTX 3070 high-end RTX 3070 Ti, RTX 3080 10 GB, RTX 3080 12 GB and enthusiast RTX 3080 Ti, RTX 3090, and RTX 3090 Ti. This is the last generation from Nvidia to have official support for Windows 7 and 8.x as the latest drivers available for this generation require Windows 10.\n",
      "The GeForce RTX 30 series began shipping on September 17, 2020. The initial launch, consisting of the RTX 3070, RTX 3080, and RTX 3090, occurred during the 2020–2023 global chip shortage, resulting in widespread and notable shortages of the series as a whole that lasted from the series' launch until 2022.\n",
      "The GeForce RTX 30 series was succeeded by the GeForce RTX 40 series, powered by the Ada Lovelace microarchitecture, which first launched in 2022.\n",
      "\n",
      "\n"
     ]
    }
   ],
   "source": [
    "query = \"What is Nvidia?\"\n",
    "\n",
    "messages = [HumanMessage(query)]\n",
    "\n",
    "ai_msg = llm_with_tools.invoke(messages)\n",
    "\n",
    "for tool_call in ai_msg.tool_calls:\n",
    "    selected_tool = list_tools[name]\n",
    "\n",
    "    # Run the too l\n",
    "    tool_msg = selected_tool.invoke(tool_call)\n",
    "    messages.append(tool_msg)\n",
    "\n",
    "print(\"\\n=== Conversation ===\")\n",
    "for msg in messages:\n",
    "    print(f\"{msg.type.upper()}: {msg.content}\")"
   ]
  },
  {
   "cell_type": "code",
   "execution_count": null,
   "id": "060e0dd1",
   "metadata": {},
   "outputs": [],
   "source": []
  }
 ],
 "metadata": {
  "kernelspec": {
   "display_name": "Python 3",
   "language": "python",
   "name": "python3"
  },
  "language_info": {
   "codemirror_mode": {
    "name": "ipython",
    "version": 3
   },
   "file_extension": ".py",
   "mimetype": "text/x-python",
   "name": "python",
   "nbconvert_exporter": "python",
   "pygments_lexer": "ipython3",
   "version": "3.10.16"
  }
 },
 "nbformat": 4,
 "nbformat_minor": 5
}
