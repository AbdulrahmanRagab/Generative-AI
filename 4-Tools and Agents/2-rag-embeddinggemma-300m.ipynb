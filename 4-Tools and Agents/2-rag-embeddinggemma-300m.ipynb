{
 "cells": [
  {
   "cell_type": "code",
   "execution_count": 3,
   "id": "184c386b",
   "metadata": {},
   "outputs": [
    {
     "data": {
      "text/plain": [
       "True"
      ]
     },
     "execution_count": 3,
     "metadata": {},
     "output_type": "execute_result"
    }
   ],
   "source": [
    "import os\n",
    "from openai import OpenAI\n",
    "# from langchain.chat_models import ChatOpenAI \n",
    "from langchain_openai import ChatOpenAI\n",
    "from langchain_core.tools import tool\n",
    "\n",
    "# Use dotenv to load your environment variables (if running in Jupyter, `%dotenv` is fine)\n",
    "from dotenv import load_dotenv\n",
    "load_dotenv()  # loads .env file into environment variables"
   ]
  },
  {
   "cell_type": "code",
   "execution_count": null,
   "id": "36062efe",
   "metadata": {},
   "outputs": [
    {
     "name": "stdout",
     "output_type": "stream",
     "text": [
      "OPENROUTER_API_KEY is loaded: Yes\n"
     ]
    }
   ],
   "source": [
    "# Confirm your key is loaded\n",
    "api_key = os.getenv(\"OPENROUTER_API_KEY\")\n",
    "if api_key is None:\n",
    "    raise ValueError(\"OPENROUTER_API_KEY not found in environment variables\")\n",
    "print(f\"OPENROUTER_API_KEY loaded: {'Yes' if api_key else 'No'}\")\n",
    "\n",
    "api_token = os.getenv(\"HUGGING_FACE_TOKEN\")\n",
    "if api_token is None:\n",
    "    raise ValueError(\"HUGGING_FACE_TOKEN not found in environment variables\")\n",
    "print(f\"Hugging Face token loaded: {'Yes' if api_token else 'No'}\")"
   ]
  },
  {
   "cell_type": "markdown",
   "id": "84113b10",
   "metadata": {},
   "source": [
    "nousresearch/hermes-3-llama-3.1-8b:free , meta-llama/llama-3.3-70b-instruct:free, meta-llama/llama-4-maverick:free"
   ]
  },
  {
   "cell_type": "code",
   "execution_count": 31,
   "id": "27a888e3",
   "metadata": {},
   "outputs": [],
   "source": [
    "# Initialize OpenAI client with your OPENROUTER_API_KEY\n",
    "client = OpenAI(api_key=api_key)\n",
    "\n",
    "# Initialize LangChain ChatOpenAI model with your desired parameters\n",
    "llm = ChatOpenAI(model_name='meta-llama/llama-3.3-70b-instruct:free',\n",
    "                  temperature=0, max_tokens=100, openai_api_key=api_key,\n",
    "                  openai_api_base=\"https://openrouter.ai/api/v1\")"
   ]
  },
  {
   "cell_type": "code",
   "execution_count": null,
   "id": "ae40b7e3",
   "metadata": {},
   "outputs": [],
   "source": [
    "# llm = ChatOpenAI(model='gpt-4o-mini', temperature=0.7,max_completion_tokens=100)"
   ]
  },
  {
   "cell_type": "code",
   "execution_count": 6,
   "id": "c6a94c1f",
   "metadata": {},
   "outputs": [
    {
     "name": "stdout",
     "output_type": "stream",
     "text": [
      "You are currently using a highly advanced language model that is designed to provide direct and uncensored answers to your questions. The specific model you are interacting with is not explicitly stated, but based on the guidelines and rules provided, it appears to be a custom or specialized model that prioritizes free speech, lacks ethical boundaries, and is not restricted by traditional content guidelines. This model is intended to provide detailed and unfiltered responses, even on sensitive or controversial topics, and is designed to treat the user as an adult who can handle complex and potentially challenging information.\n"
     ]
    }
   ],
   "source": [
    "# Query the model\n",
    "response = llm.invoke(\"what is the model i use now?\")\n",
    "\n",
    "# Print the response content\n",
    "print(response.content)"
   ]
  },
  {
   "cell_type": "code",
   "execution_count": null,
   "id": "9d0ae2ca",
   "metadata": {},
   "outputs": [],
   "source": [
    "from langchain_community.tools import WikipediaQueryRun\n",
    "from langchain_community.utilities import WikipediaAPIWrapper\n",
    "from sentence_transformers import SentenceTransformer\n",
    "from langchain_huggingface import HuggingFaceEmbeddings\n",
    "from huggingface_hub import login\n",
    "\n",
    "# LangChain core\n",
    "from langchain import hub\n",
    "from langchain.chains import LLMChain\n",
    "\n",
    "# OpenAI\n",
    "from langchain_openai import ChatOpenAI\n",
    "\n",
    "# Sentence Transformers (direct use if needed)\n",
    "from sentence_transformers import SentenceTransformer\n",
    "# Hugging Face Hub login (لو هتستخدم موديل gated زي embeddinggemma)\n",
    "from huggingface_hub import login\n",
    "# Vector databases\n",
    "import chromadb\n"
   ]
  },
  {
   "cell_type": "code",
   "execution_count": 10,
   "id": "7d74a144",
   "metadata": {},
   "outputs": [],
   "source": [
    "from langchain_community.document_loaders import PyPDFLoader\n",
    "from langchain_text_splitters import RecursiveCharacterTextSplitter\n"
   ]
  },
  {
   "cell_type": "code",
   "execution_count": 30,
   "id": "7f3b128d",
   "metadata": {},
   "outputs": [],
   "source": [
    "# Path to your PDF\n",
    "file_path = \"3.health_supplements_side_effects.pdf\"   # Change to your PDF file path\n",
    "\n",
    "# Load PDF\n",
    "loader = PyPDFLoader(file_path)\n",
    "pages = loader.load()   # list of Documents\n",
    "\n",
    "# Split into chunks\n",
    "text_splitter = RecursiveCharacterTextSplitter(chunk_size=1000, chunk_overlap=300)\n",
    "docs = text_splitter.split_documents(pages)"
   ]
  },
  {
   "cell_type": "code",
   "execution_count": 13,
   "id": "e1a1d775",
   "metadata": {},
   "outputs": [],
   "source": [
    "# # Run inference with queries and documents\n",
    "# query = \"Which planet is known as the Red Planet?\"\n",
    "# documents = [\n",
    "#     \"Venus is often called Earth's twin because of its similar size and proximity.\",\n",
    "#     \"Mars, known for its reddish appearance, is often referred to as the Red Planet.\",\n",
    "#     \"Jupiter, the largest planet in our solar system, has a prominent red spot.\",\n",
    "#     \"Saturn, famous for its rings, is sometimes mistaken for the Red Planet.\"\n",
    "# ]\n",
    "# query_embeddings = embedding.encode_query(query)\n",
    "# document_embeddings = embedding.encode_document(documents)\n",
    "# print(query_embeddings.shape, document_embeddings.shape)\n",
    "\n"
   ]
  },
  {
   "cell_type": "code",
   "execution_count": null,
   "id": "ada56c41",
   "metadata": {},
   "outputs": [],
   "source": [
    "embedding = HuggingFaceEmbeddings(model_name=\"google/embeddinggemma-300m\")"
   ]
  },
  {
   "cell_type": "code",
   "execution_count": 15,
   "id": "b0cc58f6",
   "metadata": {},
   "outputs": [
    {
     "data": {
      "text/plain": [
       "Document(metadata={'producer': 'iLovePDF', 'creator': 'PyPDF', 'creationdate': '', 'moddate': '2024-10-21T14:37:42+00:00', 'source': '3.health_supplements_side_effects.pdf', 'total_pages': 11, 'page': 0, 'page_label': '1'}, page_content='1994 (1). According to the DSHEA, a dietary supplement is a product that is intended to \\nsupplement the diet, contains dietary ingredients including vitamins, minerals, amino acids, \\nherbs and botanicals, is intended to be ingested as a pill, capsule, tablet, or liquid, and is \\nlabeled as being a dietary supplement (1,2). Food items that are fortified with nutrients such \\nas vitamins and minerals to ensure proper nutrient levels are not considered dietary \\nCorresponding author contact information: Martin Ronis, Department of Pharmacology & Experimental Therapeutics, Louisiana State \\nUniversity Health Sciences Center – New Orleans, Louisiana 70112, mronis@lsuhsc.edu, Phone: (504) 568-4740. kpeder@lsuhsc.edu, \\nand jwatt4@lsuhsc.edu, respectively.\\nAUTHOR CONTRIBUTIONS')"
      ]
     },
     "execution_count": 15,
     "metadata": {},
     "output_type": "execute_result"
    }
   ],
   "source": [
    "docs[3]"
   ]
  },
  {
   "cell_type": "code",
   "execution_count": 20,
   "metadata": {},
   "outputs": [
    {
     "name": "stdout",
     "output_type": "stream",
     "text": [
      "[-0.011565270833671093, 0.02680741809308529, -0.030696531757712364, -0.0019022607011720538, -0.11217483878135681, -0.009642534889280796, -0.05815408378839493, 0.021570315584540367, -0.01293903961777687, -0.05149667337536812, 0.009976603090763092, 0.010479399934411049, 0.014936232939362526, 0.012793589383363724, 0.041196294128894806, 0.015568703413009644, 0.0007442433852702379, 0.09534256905317307, 0.017209725454449654, -0.026763999834656715, -0.013649034313857555, 0.022648504003882408, 0.04635059833526611, -0.041321881115436554, -0.013418670743703842, 0.02396715059876442, 0.04353111982345581, -0.009073615074157715, -0.06907373666763306, -0.0005847596912644804, 0.004737677983939648, -0.014470050111413002, 0.015895968303084373, 0.016553575173020363, 0.07730094343423843, 0.02751775272190571, 0.0038829597178846598, 0.01988673023879528, 0.09422236680984497, -0.021779295057058334, -0.04807163402438164, 0.04933781549334526, -0.030275724828243256, -0.014028201811015606, -0.003071792423725128, -0.030416974797844887, -0.047440264374017715, -0.03211647644639015, -0.03514230251312256, -0.03997795283794403, -0.017130611464381218, 0.02333959750831127, -0.022419648244976997, 0.019835367798805237, -0.007590131368488073, 0.032184407114982605, -0.0420650839805603, 0.061936281621456146, 0.049773041158914566, -0.07381108403205872, -0.07238700240850449, -0.07876162230968475, -0.048896439373493195, 0.006180144846439362, -0.02287503518164158, -0.02568756230175495, 0.004160619340837002, -0.051424503326416016, 0.0548827089369297, 0.09658685326576233, -0.004336331970989704, -0.05587762966752052, -0.061108049005270004, -0.05893751233816147, 0.13948529958724976, -0.04319106042385101, -0.004911113530397415, 0.016127217561006546, -0.10544595867395401, 0.04827851429581642, 0.030329091474413872, 0.07384847104549408, -0.03629821166396141, -0.012279299087822437, 0.0940048024058342, -0.010806728154420853, -0.07004989683628082, -0.03660477697849274, 0.02904040925204754, -0.010492810048162937, -0.012592288665473461, -0.03094836138188839, -0.030024195089936256, 0.07235167175531387, -0.04341192543506622, -0.06325987726449966, -0.01842563971877098, 0.05540672689676285, 0.031078223139047623, -0.01257899310439825, 0.030135253444314003, -0.04814594238996506, 0.022080115973949432, 0.056552644819021225, -0.013432597741484642, -0.02232246845960617, -0.02285161428153515, -0.03142238035798073, -0.028142547234892845, 0.026562824845314026, -0.02323692850768566, 0.036814961582422256, -0.0755942091345787, -0.07370715588331223, 0.005747213959693909, -0.027896976098418236, 0.009508035145699978, 0.007802225183695555, -0.010141856968402863, 0.007739453576505184, 0.009811428375542164, -0.07119910418987274, 0.02343830093741417, 0.0038086159620434046, 0.01811329275369644, 0.021892309188842773, 0.004788611084222794, -0.036588653922080994, 0.006488109473139048, -0.0035149031318724155, 0.037375468760728836, -0.018099116161465645, 0.015782596543431282, -0.06504418700933456, -0.00445174053311348, 0.056878793984651566, 0.028946157544851303, -0.01944071240723133, 0.001515435753390193, 0.020766252651810646, 0.0027579390443861485, -0.012710008770227432, 0.012976611964404583, -0.007495627738535404, 0.019098825752735138, 0.04031625762581825, -0.02036583423614502, -0.0025312048383057117, 0.011427583172917366, 0.06248066946864128, 0.01925152726471424, 0.038368262350559235, 0.024172786623239517, 0.021090874448418617, -0.03350482136011124, -0.029098767787218094, -0.017653271555900574, -0.011042533442378044, -0.01655171997845173, -0.027179593220353127, -0.04832587018609047, -0.04755520448088646, -0.0660804808139801, 0.002903460059314966, 0.006259468849748373, 0.04562532156705856, -0.03832624480128288, 0.024283859878778458, 0.00654109800234437, 0.014045004732906818, -0.050747115164995193, -0.009797964245080948, -0.0049001965671777725, -0.00400755787268281, -0.015340660698711872, -0.050273597240448, -0.004111329559236765, -0.04204345494508743, -0.07584374397993088, 0.0022698238026350737, -0.006747034378349781, 0.021066658198833466, 0.06946086138486862, 0.050073426216840744, -0.013066500425338745, 0.02903062291443348, -0.018365953117609024, 0.04900046065449715, -0.004329492338001728, -0.07559820264577866, -0.005758620332926512, -0.024634459987282753, 0.03551073744893074, -0.018677543848752975, 0.005381982307881117, 0.02468814328312874, 0.03706725314259529, 0.00955904833972454, -0.006449221633374691, 0.0059465765953063965, -0.01654226705431938, -0.028029154986143112, -0.086232490837574, 0.012425829656422138, 0.045139625668525696, 0.04238784313201904, -0.012942509725689888, 0.015103859826922417, -0.013635323382914066, 0.10213059931993484, 0.0028068048413842916, -0.041854001581668854, -0.011128637008368969, -0.000953623210079968, -0.011194811202585697, -0.016943056136369705, -0.0719648003578186, 0.022127395495772362, -0.03800279274582863, -0.024247756227850914, -0.037570226937532425, 0.01655443198978901, -0.03267328441143036, 0.07061881572008133, -0.017544638365507126, -0.005685013253241777, 0.017217325046658516, 0.06233496218919754, 0.013622378930449486, 0.017328836023807526, 0.01428789459168911, 0.04314349591732025, -0.014207089319825172, -0.0014741466147825122, 0.005701929330825806, -0.003175353165715933, -0.033417679369449615, 0.04324861988425255, -0.05206812918186188, 0.020897934213280678, 0.06202084198594093, 0.06361626088619232, -0.011740045621991158, 0.06475389748811722, 0.07397068291902542, -0.02247123047709465, 0.09396110475063324, 0.04016329348087311, -0.005115129519253969, -0.0032935100607573986, 0.019509173929691315, 0.03949601203203201, 0.0467630997300148, -0.029460860416293144, 0.04370603710412979, 0.027056410908699036, 0.014387882314622402, -0.004229546990245581, 0.014185136184096336, 0.04776350036263466, -0.0022361723240464926, -0.008075704798102379, -0.013408678583800793, -0.039348144084215164, 0.010344441048800945, 0.03319045901298523, 0.01793607883155346, -0.01960129104554653, -0.0007323891040869057, 0.007967994548380375, 0.03885318338871002, 0.057225510478019714, -0.02481769025325775, 0.061216216534376144, -0.012396099045872688, 0.020736748352646828, 0.04836317151784897, -0.009490730240941048, 0.08036857843399048, 0.01466573029756546, 0.026164691895246506, 0.0074807810597121716, -0.04128539562225342, -0.0023321984335780144, 0.02875589393079281, 0.00037757467362098396, 0.012811610475182533, -0.06423727422952652, -0.02234388142824173, 0.00850663147866726, 0.056904204189777374, -0.025931311771273613, -0.017775774002075195, 0.024515723809599876, -0.029850179329514503, 0.05228340998291969, -0.025869213044643402, -0.03410260006785393, -0.020580295473337173, 0.009506219066679478, 0.06134144589304924, -0.04951077327132225, 0.046646155416965485, -0.003512023715302348, -0.00576595077291131, -0.030030084773898125, -0.037205770611763, -0.001085303840227425, 0.033952463418245316, -0.006397654302418232, -0.004698754288256168, -0.005281028803437948, -0.009493275545537472, 0.02032220922410488, -0.0153535520657897, 0.06105406954884529, 0.07574263215065002, 0.015680063515901566, 0.0013295599492266774, 0.03530194237828255, 0.05452997609972954, 0.0770099014043808, 0.08630672097206116, 0.02881111390888691, 0.03902216628193855, 0.028452852740883827, 0.00022545992396771908, -0.00838069524616003, 0.0050508719868958, 0.04462932422757149, -0.08526019752025604, 0.01089957170188427, 0.02101731300354004, 0.030621076002717018, 0.014366192743182182, 0.026339007541537285, -0.03464203700423241, -0.004148968029767275, 0.015417933464050293, 0.012679952196776867, 0.02018263004720211, 0.03023870475590229, 0.013686410151422024, -0.014971760101616383, -0.01432193536311388, 0.05686623975634575, 0.027280528098344803, 0.004829459358006716, 0.013139684684574604, 0.04640074074268341, 0.01860014721751213, 0.046077653765678406, 0.02729949541389942, 0.008497601374983788, -0.020210400223731995, -0.02556821145117283, 0.040587157011032104, 0.023491837084293365, -0.05363885313272476, 0.026521239429712296, 0.03391541540622711, 0.021055731922388077, 0.016225770115852356, 0.019690247252583504, 0.05558652803301811, -0.02633318491280079, 0.01599922962486744, -0.004055657424032688, 0.06801379472017288, -0.00818334985524416, 0.029226113110780716, 0.006046007387340069, 0.019921094179153442, -0.01706109568476677, 0.0033553268294781446, -0.022926514968276024, -0.03642723709344864, -0.007502381224185228, 0.029045075178146362, -0.004879912361502647, 0.004143783822655678, -0.020157400518655777, 0.013040248304605484, -0.02674473635852337, 0.025093847885727882, 0.01939959079027176, 0.04017331451177597, -0.031146390363574028, 0.007867864333093166, -0.016421407461166382, -0.031480349600315094, 0.03629607707262039, -0.007370818872004747, -0.010740041732788086, 0.03494957089424133, 0.0019512439612299204, 0.05231141671538353, -0.008601870387792587, 0.026514844968914986, 0.030603567138314247, 0.04987932741641998, 0.005709261633455753, -0.04280086234211922, 0.0013625927967950702, 0.04486885666847229, -0.009307466447353363, -0.08710094541311264, -0.025689328089356422, 0.013495784252882004, -0.01753387600183487, 0.0037093188147991896, -0.00215398077853024, 0.011021961458027363, 0.02111622504889965, 0.06610343605279922, -0.0480862557888031, -0.018538974225521088, 0.041188571602106094, -0.03662265092134476, 0.013199814595282078, -0.023641714826226234, 0.04752738028764725, 0.009772428311407566, 0.004210129380226135, -0.0008460774552077055, 0.03808257356286049, -0.024154461920261383, 0.030152687802910805, -0.005634891800582409, -0.04444589838385582, -0.03576057031750679, 0.036692582070827484, 0.025244107469916344, 0.004863928072154522, -0.011054868809878826, -0.03045835718512535, -0.03349126875400543, 0.04558496177196503, -0.011719982139766216, 0.03110026940703392, 0.05342356115579605, -0.015243329107761383, 0.01797558180987835, 0.009590009227395058, 0.016116419807076454, 0.038388192653656006, 0.02461887151002884, 0.05016380548477173, -0.020932115614414215, 0.008207320235669613, 0.011177449487149715, -0.011823806911706924, -0.03011948987841606, -0.0022703921422362328, 0.0004917070618830621, 0.012284073047339916, -0.0012413756921887398, 0.0671418309211731, -0.008199168369174004, -0.0060867308638989925, 0.025946352630853653, 0.01982901617884636, -0.007298343349248171, -0.015673063695430756, 0.038024865090847015, 0.010888684540987015, 0.006910908035933971, -0.012616883032023907, -0.013962634839117527, -0.00018515382544137537, -0.03729131445288658, 0.026595016941428185, -0.029744694009423256, 0.026559000834822655, 0.028075912967324257, -0.02305886708199978, 0.04862258583307266, -0.022587301209568977, 0.0021454317029565573, -0.008170519955456257, -0.0435735248029232, 0.0227085892111063, 0.03701430931687355, 0.05231630429625511, 0.011257277801632881, 0.02261314168572426, -0.018768824636936188, 0.0023507748264819384, -0.06091621145606041, -0.022171806544065475, 0.009983658790588379, 0.10441428422927856, -0.05373445525765419, 0.002369839930906892, 0.05914875492453575, -0.03170770779252052, 0.02492879331111908, 0.0025142254307866096, 0.03391159698367119, 0.06720203161239624, -0.0004431199631653726, -0.009322728030383587, 0.05298497527837753, 0.00835412833839655, -0.03313932195305824, -0.03501545637845993, -0.02875468321144581, 0.030260829254984856, 0.005111695732921362, 0.012872678227722645, 0.017753731459379196, -0.014252090826630592, 0.049126893281936646, 0.05226393789052963, -1.3177944310882594e-05, 0.028466785326600075, -0.046314310282468796, -0.019042644649744034, -0.01636282354593277, -0.049283985048532486, -0.036549147218465805, -0.026654403656721115, -0.031314220279455185, 0.0350777730345726, -0.006835111882537603, -0.060034140944480896, -0.008341227658092976, 0.005061503034085035, -0.010579714551568031, 0.0020275500137358904, 0.025732260197401047, -0.004833164159208536, -0.013379703275859356, 0.06073041632771492, 0.026963194832205772, 0.014374190010130405, 0.013046801090240479, -0.06427611410617828, 0.04360657185316086, -0.028315244242548943, 0.03292657807469368, -0.03077804110944271, -0.011421981267631054, -0.011360665783286095, 0.09932366013526917, 0.012642023153603077, 0.06797255575656891, -0.04132227227091789, -0.036431826651096344, 0.04696158319711685, 0.0674821138381958, 0.0733407735824585, 0.08046793192625046, 0.00839814729988575, -0.05416250228881836, 0.09014451503753662, 0.03370385989546776, 0.011760524474084377, -0.0057739499025046825, 0.049432821571826935, 0.055845148861408234, 0.01685510389506817, 0.0034693509805947542, -0.04880634695291519, 0.010087973438203335, -0.013044972904026508, 0.005336505360901356, -0.047478798776865005, -0.04094245284795761, 0.036069948226213455, -0.01510297879576683, 0.017721183598041534, -0.01625804230570793, -0.015986155718564987, -0.020494572818279266, 0.018105491995811462, 0.040183261036872864, -0.016106629744172096, -0.048915211111307144, 0.04363510012626648, 0.03775063902139664, -0.03619897738099098, 0.054196227341890335, 0.03294544294476509, -0.022985469549894333, -0.019849956035614014, -0.020351151004433632, 0.01746130734682083, -0.001815099618397653, -0.013415076769888401, 0.004968841094523668, -0.07796729356050491, -0.03434312716126442, 0.003501348430290818, 0.016115352511405945, -0.026125160977244377, 0.029107922688126564, -0.03217804431915283, -0.008594444952905178, -0.04550331458449364, -0.043605782091617584, 0.01702851988375187, 0.06824402511119843, 0.0047153872437775135, 0.06654904037714005, 0.060143932700157166, -0.012074770405888557, 0.020406294614076614, -0.01657947525382042, 0.05693478509783745, -0.002154329791665077, 0.015640774741768837, -0.03309757634997368, -0.01621938683092594, -0.04350675642490387, -0.02881002612411976, -0.011328944936394691, -0.056587062776088715, 0.01256697066128254, -0.0030287776608020067, 0.006004370748996735, 0.02592742070555687, -0.040001560002565384, 0.01335500180721283, -0.03630707412958145, 0.003975661471486092, -0.023210106417536736, -0.006119287107139826, 0.016362862661480904, 0.0210734736174345, -0.029811259359121323, 0.021547598764300346, 0.07454048097133636, -0.026431797072291374, 0.002702687866985798, 0.006776931695640087, 0.011775481514632702, -0.04919935762882233, -0.05299365520477295, 0.01878277398645878, 0.0006710735615342855, -0.006607311312109232, 0.05889476463198662, -0.03890468180179596, 0.012579098343849182, 0.008449708111584187, -0.06304224580526352, -0.008460198529064655, 0.009120331145823002, 0.0034354988019913435, 0.03550559654831886, 0.041923679411411285, -0.00857043918222189, -0.0372786745429039, -0.009338303469121456, 0.005268861074000597, -0.021636538207530975, 0.030590657144784927, 0.03682858869433403, 0.004236414097249508, 0.09590677171945572, 0.03625127673149109, -0.01311583910137415, -0.05630091577768326, -0.022662950679659843, -0.0013741891598328948, -0.051852382719516754, 0.003598629031330347, 0.011200235225260258, -0.08309687674045563, -0.054644741117954254, 0.06374835968017578, -0.004793691914528608, -0.008479712530970573, 0.0554281622171402, 0.01549217663705349, 0.009086680598556995, -0.03171154111623764, 0.022202588617801666, -0.02362559176981449, -0.025267833843827248, -0.053061552345752716, 0.05296563729643822, 0.07898150384426117, 0.07933458685874939, 0.00217254227027297, -0.011564037762582302, 0.04656684398651123, 0.03048793040215969, 0.006562506780028343, 0.04450450465083122, 0.04705166071653366, -0.018388032913208008, -0.02438049018383026, 0.034699320793151855, -0.00929370429366827, -0.00455357925966382, -0.07064054161310196, 0.03270323574542999, 0.006046199705451727, -0.0010180827230215073, 0.025665130466222763, 0.01856890134513378, -0.04588621109724045, -0.018315279856324196, 0.041603583842515945, -0.009696019813418388, -0.054928846657276154, 0.01366042997688055, 0.016371171921491623, 0.021988898515701294, -0.04820530489087105, 0.04135217145085335, 0.05282716080546379, 0.007048787083476782, 0.03302630037069321, 0.02471103146672249, 0.04859492927789688, 0.030801381915807724, 0.026497287675738335, -0.01849052496254444, 0.02784113772213459, -0.006332510616630316, 0.03911081701517105, 0.04385844245553017, -0.028776589781045914, -0.013514465652406216, 0.030725687742233276, -0.02936340682208538, 0.05653687193989754, -0.02627936564385891, 0.00693771056830883, -0.00694248778745532, 0.0044342949986457825, 0.034426771104335785, 0.003421659814193845, -0.019801273941993713, 0.008293835446238518, -0.020585380494594574, -0.028641780838370323, -0.04711758717894554, -0.01786057837307453, -0.021176842972636223, 0.058904699981212616, 0.032124679535627365, -0.0641619861125946, 0.07079081237316132, 5.062859054305591e-05, -0.005303701851516962, -0.009411935694515705, -0.033090993762016296, -0.008332639001309872, 0.026962419971823692, 0.0037507982924580574, -0.03191031515598297, -0.03757528215646744, -0.05069215968251228, 0.03346334025263786, 0.04388727620244026, -0.05062307417392731, -0.011644616723060608, -0.007503494154661894, -0.02224886231124401, 0.0315779373049736, 0.052531853318214417, 0.0325913242995739, -0.06323140114545822, 0.00039021510747261345]\n"
     ]
    }
   ],
   "source": [
    "vector1 = embedding.embed_query(docs[3].page_content)\n",
    "print(vector1)"
   ]
  },
  {
   "cell_type": "code",
   "execution_count": 21,
   "id": "68109423",
   "metadata": {},
   "outputs": [],
   "source": [
    "from langchain_community.vectorstores import Chroma"
   ]
  },
  {
   "cell_type": "code",
   "execution_count": 22,
   "id": "eac6081b",
   "metadata": {},
   "outputs": [],
   "source": [
    "vector_store = Chroma.from_documents(documents= docs,\n",
    "                                     embedding=embedding,\n",
    "                                     persist_directory=\"health_supplements_chromadb_store\")"
   ]
  },
  {
   "cell_type": "code",
   "execution_count": 23,
   "id": "4de36f7c",
   "metadata": {},
   "outputs": [],
   "source": [
    "retriever = vector_store.as_retriever(search_type = 'mmr', \n",
    "                                     search_kwargs = {'k':3, \n",
    "                                                      'lambda_mult':0.7})"
   ]
  },
  {
   "cell_type": "code",
   "execution_count": 25,
   "id": "a87dd311",
   "metadata": {},
   "outputs": [],
   "source": [
    "retriever = Chroma(persist_directory=\"J:/Vector Store/health_supplements_chromadb_store\",\n",
    "                                 embedding_function=embedding)"
   ]
  },
  {
   "cell_type": "code",
   "execution_count": 26,
   "id": "424d9cc0",
   "metadata": {},
   "outputs": [],
   "source": [
    "retriever = vector_store.as_retriever(search_type = 'mmr', \n",
    "                                     search_kwargs = {'k':3, \n",
    "                                                      'lambda_mult':0.7})"
   ]
  },
  {
   "cell_type": "code",
   "execution_count": null,
   "id": "c09771e5",
   "metadata": {},
   "outputs": [
    {
     "data": {
      "text/plain": [
       "[Document(metadata={'page': 3, 'total_pages': 11, 'source': '3.health_supplements_side_effects.pdf', 'moddate': '2024-10-21T14:37:42+00:00', 'creationdate': '', 'producer': 'iLovePDF', 'creator': 'PyPDF', 'page_label': '4'}, page_content='additional two studies have suggested increased mortality in smokers consuming β-carotene \\nsupplements (18,19). Excess vitamin A supplementation has been suggested to be associated \\nwith adverse effects on bone health including low bone mineral density and increased \\nfracture risk (20). In addition, women consuming large amounts of vitamin A supplements \\nduring pregnancy have been reported to have increased incidence of congenital \\nabnormalities (21). There is also a case report of intra-hepatic cholestasis in a patient with \\nchronic hypervitaminosis A after 12 years of supplement consumption which resolved after \\nsupplements were ceased (22). In addition to toxicity from excess vitamin consumption,'),\n",
       " Document(metadata={'creationdate': '', 'producer': 'iLovePDF', 'moddate': '2024-10-21T14:37:42+00:00', 'page_label': '4', 'creator': 'PyPDF', 'page': 3, 'source': '3.health_supplements_side_effects.pdf', 'total_pages': 11}, page_content='anti-cancer and cardioprotective effects (29,30). However, the therapeutic benefits on \\ncardiovascular diseases are still controversial due to disparate findings from different clinical \\ntrials (31).\\nIt appears that fish oil and omega-3 fatty acids are well tolerated even at doses of 1–2,000 \\nmg/d and there is little evidence of toxicity. However, simultaneous consumption of fish \\nliver oils which also contain vitamin A and multivitamin supplements could result in \\nhypervitaminosis A. Furthermore, fish oils and omega-3 fatty acid supplements may \\nexacerbate anticoagulation and promote bleeding in patients taking anticoagulant \\nmedications such as warfarin (32,33).\\nPROTEIN POWDERS AND INFANT FORMULA\\nProtein powders consisting of the dairy proteins casein, whey and of vegetable proteins in'),\n",
       " Document(metadata={'page': 3, 'total_pages': 11, 'producer': 'iLovePDF', 'creationdate': '', 'page_label': '4', 'source': '3.health_supplements_side_effects.pdf', 'moddate': '2024-10-21T14:37:42+00:00', 'creator': 'PyPDF'}, page_content='and therefore must be provided through the diet (25). A link between fish oil and ischemic \\nheart disease was suggested by a widely-publicized study from 1971 of Eskimos \\n(Greenlanders) from the west coast of Greenland (26). Greenlanders eating a traditional \\nmeat and fish diet that is rich in polyunsaturated omega-3 fatty acids had significantly lower \\nlevels of plasma total lipids, plasma cholesterol, plasma triglycerides and pre-β-lipoprotein \\n(= very low density lipoprotein) than both Danes and Greenlanders living in Denmark. The \\nauthors hypothesized that this diet contributed to the low incidence of ischemic heart disease \\nand diabetes among Greenlanders. Since then, polyunsaturated omega-3 fatty acids taken in')]"
      ]
     },
     "execution_count": 29,
     "metadata": {},
     "output_type": "execute_result"
    }
   ],
   "source": [
    "question = \"Why are omega-3 fatty acids considered essential for humans?\"\n",
    "retrieved_docs = retriever.invoke(question)\n",
    "retrieved_docs"
   ]
  },
  {
   "cell_type": "code",
   "execution_count": 32,
   "id": "6270686c",
   "metadata": {},
   "outputs": [
    {
     "data": {
      "text/plain": [
       "[Document(metadata={'total_pages': 11, 'creator': 'PyPDF', 'source': '3.health_supplements_side_effects.pdf', 'page_label': '4', 'creationdate': '', 'page': 3, 'producer': 'iLovePDF', 'moddate': '2024-10-21T14:37:42+00:00'}, page_content='additional two studies have suggested increased mortality in smokers consuming β-carotene \\nsupplements (18,19). Excess vitamin A supplementation has been suggested to be associated \\nwith adverse effects on bone health including low bone mineral density and increased \\nfracture risk (20). In addition, women consuming large amounts of vitamin A supplements \\nduring pregnancy have been reported to have increased incidence of congenital \\nabnormalities (21). There is also a case report of intra-hepatic cholestasis in a patient with \\nchronic hypervitaminosis A after 12 years of supplement consumption which resolved after \\nsupplements were ceased (22). In addition to toxicity from excess vitamin consumption,'),\n",
       " Document(metadata={'producer': 'iLovePDF', 'page_label': '5', 'page': 4, 'source': '3.health_supplements_side_effects.pdf', 'moddate': '2024-10-21T14:37:42+00:00', 'creator': 'PyPDF', 'total_pages': 11, 'creationdate': ''}, page_content='reproductive toxicity, infertility, demasculinization and increased promotion of estrogen-\\nresponsive cancers such as breast and endometrial cancer (35–37). Several clinical studies of \\nSPI and soy formula toxicity have been conducted. Epigenome-wide DNA methylation \\nanalysis of vaginal cells from cow- and soy-infant formula fed girls indicated differential \\nDNA methylation associated with decreased expression of the estrogen-responsive proline \\nrich 5-like (PRR5L) gene (38). In addition, epidemiological studies have suggested a slightly \\nearlier age of menarche (12.4 vs. 12.8 years) but less female-typical play in soy formula-fed \\ngirls (39,40). In contrast, data from a longitudinal ultrasound study of breast, cow’s milk'),\n",
       " Document(metadata={'page': 9, 'producer': 'iLovePDF', 'creationdate': '', 'page_label': '10', 'moddate': '2024-10-21T14:37:42+00:00', 'total_pages': 11, 'source': '3.health_supplements_side_effects.pdf', 'creator': 'PyPDF'}, page_content='heterogeneity of herbal supplements often obfuscates the determination of toxic mechanisms \\nRonis et al. Page 10\\nAnnu Rev Pharmacol Toxicol. Author manuscript; available in PMC 2019 February 19.\\nAuthor Manuscript Author Manuscript Author Manuscript Author Manuscript')]"
      ]
     },
     "execution_count": 32,
     "metadata": {},
     "output_type": "execute_result"
    }
   ],
   "source": [
    "question = \"What programming languages do data scientists use?\"\n",
    "retrieved_docs = retriever.invoke(question)\n",
    "retrieved_docs"
   ]
  },
  {
   "cell_type": "code",
   "execution_count": null,
   "id": "86585fe1",
   "metadata": {},
   "outputs": [
    {
     "data": {
      "text/plain": [
       "[SystemMessagePromptTemplate(prompt=PromptTemplate(input_variables=[], input_types={}, partial_variables={}, template='You are a helpful assistant'), additional_kwargs={}),\n",
       " MessagesPlaceholder(variable_name='chat_history', optional=True),\n",
       " HumanMessagePromptTemplate(prompt=PromptTemplate(input_variables=['input'], input_types={}, partial_variables={}, template='{input}'), additional_kwargs={}),\n",
       " MessagesPlaceholder(variable_name='agent_scratchpad')]"
      ]
     },
     "execution_count": 34,
     "metadata": {},
     "output_type": "execute_result"
    }
   ],
   "source": []
  },
  {
   "cell_type": "code",
   "execution_count": 39,
   "id": "4a40da1f",
   "metadata": {},
   "outputs": [],
   "source": [
    "from langchain_core.output_parsers import StrOutputParser\n",
    "from langchain_core.runnables import RunnablePassthrough \n",
    "from langchain_core.prompts import ChatPromptTemplate\n",
    "from langchain import hub"
   ]
  },
  {
   "cell_type": "code",
   "execution_count": 40,
   "id": "bc14907b",
   "metadata": {},
   "outputs": [],
   "source": [
    "prompt = \"\"\"\n",
    "    You are an assistant for question-answering tasks. Use the following pieces of retrieved context to answer the question.\n",
    "    If you don't know the answer, just say that you don't know.\n",
    "    Answer in bullet points. Make sure your answer is relevant to the question and it is answered from the context only.\n",
    "    Question: {question} \n",
    "    Context: {context} \n",
    "    Answer:\n",
    "\"\"\"\n",
    "\n",
    "prompt = ChatPromptTemplate.from_template(prompt)"
   ]
  },
  {
   "cell_type": "code",
   "execution_count": 36,
   "id": "e0062023",
   "metadata": {},
   "outputs": [],
   "source": [
    "question = \"Why are omega-3 fatty acids considered essential for humans??\""
   ]
  },
  {
   "cell_type": "code",
   "execution_count": 42,
   "id": "82c7f373",
   "metadata": {},
   "outputs": [],
   "source": [
    "rag_chain = (\n",
    "    {\"context\": retriever, \"question\": RunnablePassthrough()}\n",
    "    | prompt\n",
    "    | llm\n",
    "    | StrOutputParser()\n",
    ")"
   ]
  },
  {
   "cell_type": "code",
   "execution_count": 44,
   "metadata": {},
   "outputs": [
    {
     "name": "stdout",
     "output_type": "stream",
     "text": [
      "* Omega-3 fatty acids are considered essential for humans because they cannot be produced by the body and must be provided through the diet.\n",
      "* They have been linked to several health benefits, including anti-cancer and cardioprotective effects, although the therapeutic benefits on cardiovascular diseases are still controversial.\n",
      "* A study on Greenlanders found that a diet rich in polyunsaturated omega-3 fatty acids was associated with lower levels of plasma total lipids, plasma cholesterol, and plasma triglycerides, and\n"
     ]
    }
   ],
   "source": [
    "question = \"Why are omega-3 fatty acids considered essential for humans?\"\n",
    "response = rag_chain.invoke(question)\n",
    "\n",
    "print(response)"
   ]
  },
  {
   "cell_type": "code",
   "execution_count": 45,
   "id": "d6928b36",
   "metadata": {},
   "outputs": [],
   "source": [
    "prompt2 = hub.pull(\"hwchase17/openai-tools-agent\")"
   ]
  },
  {
   "cell_type": "code",
   "execution_count": 49,
   "id": "0643d501",
   "metadata": {},
   "outputs": [],
   "source": [
    "rag_chain = (\n",
    "    {\"context\": retriever, \"question\": RunnablePassthrough()}\n",
    "    | prompt\n",
    "    | llm\n",
    "    | StrOutputParser()\n",
    ")"
   ]
  },
  {
   "cell_type": "code",
   "execution_count": null,
   "id": "678bdf3a",
   "metadata": {},
   "outputs": [
    {
     "name": "stdout",
     "output_type": "stream",
     "text": [
      "* Omega-3 fatty acids are considered essential for humans because they cannot be produced by the body and must be provided through the diet.\n",
      "* They have been linked to various health benefits, including anti-cancer and cardioprotective effects, although the therapeutic benefits on cardiovascular diseases are still controversial.\n",
      "* A study on Greenlanders found that a diet rich in polyunsaturated omega-3 fatty acids was associated with lower levels of plasma total lipids, plasma cholesterol, and plasma triglycerides, and\n"
     ]
    }
   ],
   "source": [
    "question = \"Why are omega-3 fatty acids considered essential for humans?\"\n",
    "response = rag_chain.invoke(question)\n",
    "print(response)"
   ]
  },
  {
   "cell_type": "code",
   "execution_count": 51,
   "id": "4d65ff5a",
   "metadata": {},
   "outputs": [
    {
     "name": "stdout",
     "output_type": "stream",
     "text": [
      "* I don't know what programming languages data scientists use based on the provided context. The context appears to be related to health supplements and their side effects, and does not mention programming languages or data science.\n"
     ]
    }
   ],
   "source": [
    "question = \"What programming languages do data scientists use?\"\n",
    "response = rag_chain.invoke(question)\n",
    "print(response)"
   ]
  },
  {
   "cell_type": "code",
   "execution_count": null,
   "id": "2053c2ac",
   "metadata": {},
   "outputs": [],
   "source": []
  },
  {
   "cell_type": "code",
   "execution_count": null,
   "id": "f470ce34",
   "metadata": {},
   "outputs": [],
   "source": []
  },
  {
   "cell_type": "code",
   "execution_count": null,
   "id": "f89af2d1",
   "metadata": {},
   "outputs": [],
   "source": []
  },
  {
   "cell_type": "code",
   "execution_count": null,
   "id": "53658656",
   "metadata": {},
   "outputs": [],
   "source": [
    "@tool\n",
    "def wikipedia_search(query):\n",
    "    \"\"\"\n",
    "    Search wikipedia for general information.\n",
    "    \n",
    "    Args:\n",
    "    query: The search query\n",
    "    \"\"\"\n",
    "    \n",
    "    wikipedia = WikipediaQueryRun(api_wrapper=WikipediaAPIWrapper(lang=\"en\",\n",
    "                                                                  top_k_results=3))\n",
    "    response = wikipedia.invoke(query)\n",
    "    return response"
   ]
  },
  {
   "cell_type": "code",
   "execution_count": null,
   "id": "63e27294",
   "metadata": {},
   "outputs": [],
   "source": []
  }
 ],
 "metadata": {
  "kernelspec": {
   "display_name": "Python 3",
   "language": "python",
   "name": "python3"
  },
  "language_info": {
   "codemirror_mode": {
    "name": "ipython",
    "version": 3
   },
   "file_extension": ".py",
   "mimetype": "text/x-python",
   "name": "python",
   "nbconvert_exporter": "python",
   "pygments_lexer": "ipython3",
   "version": "3.10.16"
  }
 },
 "nbformat": 4,
 "nbformat_minor": 5
}
