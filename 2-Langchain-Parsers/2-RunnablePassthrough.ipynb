{
 "cells": [
  {
   "cell_type": "markdown",
   "id": "81b71cbe",
   "metadata": {},
   "source": [
    "### Piping Chains and the RunnablePassthrough Class"
   ]
  },
  {
   "cell_type": "markdown",
   "id": "9be55e20",
   "metadata": {},
   "source": [
    "#### RunnablePassthrough Definition\n",
    "RunnablePassthrough is a built-in class in LangChain that returns the input exactly as the output, without any changes."
   ]
  },
  {
   "cell_type": "code",
   "execution_count": 4,
   "id": "19cd5416",
   "metadata": {},
   "outputs": [
    {
     "name": "stdout",
     "output_type": "stream",
     "text": [
      "OPENAI_API_KEY: value\n"
     ]
    }
   ],
   "source": [
    "import openai\n",
    "from openai import OpenAI\n",
    "import langchain\n",
    "import os\n",
    "# Step 1: Load environment variables\n",
    "%reload_ext dotenv\n",
    "%dotenv\n",
    "# Step 3: Access your OpenAI API key from environment variables\n",
    "for key, value in os.environ.items():\n",
    "    if key == \"OPENAI_API_KEY\":\n",
    "        print(f\"{key}: value\")"
   ]
  },
  {
   "cell_type": "code",
   "execution_count": 5,
   "id": "fbd688ef",
   "metadata": {},
   "outputs": [],
   "source": [
    "client = OpenAI(api_key=os.getenv(\"OPENAI_API_KEY\"))"
   ]
  },
  {
   "cell_type": "code",
   "execution_count": 27,
   "id": "edffe1c8",
   "metadata": {},
   "outputs": [],
   "source": [
    "from langchain_openai.chat_models import ChatOpenAI\n",
    "chat = ChatOpenAI(model='gpt-4o-mini', temperature=0,max_completion_tokens=120)\n",
    "# response = chat.invoke(\"I have recently adopted a dog. Could you suggest some dog names?\")\n",
    "# print(response.content)"
   ]
  },
  {
   "cell_type": "code",
   "execution_count": 7,
   "id": "78a0a996",
   "metadata": {},
   "outputs": [],
   "source": [
    "from langchain_core.prompts import ChatPromptTemplate\n",
    "from langchain_core.output_parsers import StrOutputParser\n",
    "from langchain_core.runnables import RunnablePassthrough"
   ]
  },
  {
   "cell_type": "code",
   "execution_count": 8,
   "metadata": {},
   "outputs": [],
   "source": [
    "chat_template_tools = ChatPromptTemplate.from_template('''\n",
    "What are the three most important tools a {job title} needs?\n",
    "Answer only by listing the tools.\n",
    "''')"
   ]
  },
  {
   "cell_type": "code",
   "execution_count": null,
   "metadata": {},
   "outputs": [],
   "source": [
    "chat_template_strategy = ChatPromptTemplate.from_template('''\n",
    "Considering the tools provided, develop a strategy for effectively learning and mastering them:\n",
    "{tools}\n",
    "''')"
   ]
  },
  {
   "cell_type": "code",
   "execution_count": 10,
   "metadata": {},
   "outputs": [],
   "source": [
    "str_parser = StrOutputParser()"
   ]
  },
  {
   "cell_type": "code",
   "execution_count": 36,
   "metadata": {},
   "outputs": [],
   "source": [
    "chain_tools = (chat_template_tools | chat | str_parser | {'tools':RunnablePassthrough()})\n",
    "chain_strategy = chat_template_strategy | chat | str_parser"
   ]
  },
  {
   "cell_type": "markdown",
   "id": "f7b8ae6a",
   "metadata": {},
   "source": [
    "ده معناها:\n",
    "\n",
    "\"خد الإخراج اللي طلع من المرحلة اللي قبليّ\" (اللي هو نص فيه الأدوات).\n",
    "\n",
    "\"وحطه في مفتاح اسمه 'tools' داخل قاموس (dict)"
   ]
  },
  {
   "cell_type": "code",
   "execution_count": 37,
   "metadata": {},
   "outputs": [],
   "source": [
    "chain_combined = chain_tools | chain_strategy"
   ]
  },
  {
   "cell_type": "code",
   "execution_count": 38,
   "id": "55829afa",
   "metadata": {},
   "outputs": [
    {
     "name": "stdout",
     "output_type": "stream",
     "text": [
      "To effectively learn and master Python, SQL, and Jupyter Notebook, you can follow a structured strategy that incorporates a mix of theoretical understanding, practical application, and continuous improvement. Here’s a step-by-step approach:\n",
      "\n",
      "### Step 1: Set Clear Goals\n",
      "- **Define Objectives**: Determine what you want to achieve with each tool. For example, do you want to use Python for data analysis, web development, or automation? Do you need SQL for database management or data retrieval?\n",
      "- **Create a Timeline**: Set a realistic timeline for mastering each tool, breaking it down into weekly or\n"
     ]
    }
   ],
   "source": [
    "print(chain_combined.invoke({'job title': 'data scientist'}))"
   ]
  },
  {
   "cell_type": "code",
   "execution_count": 32,
   "metadata": {},
   "outputs": [],
   "source": [
    "chain_long = (chat_template_tools | chat | str_parser | {'tools':RunnablePassthrough()} | \n",
    "              chat_template_strategy | chat | str_parser)"
   ]
  },
  {
   "cell_type": "code",
   "execution_count": 35,
   "metadata": {},
   "outputs": [
    {
     "name": "stdout",
     "output_type": "stream",
     "text": [
      "To effectively learn and master Python, SQL, and Jupyter Notebook, you can follow a structured strategy that incorporates a mix of theoretical understanding, practical application, and continuous improvement. Here’s a step-by-step approach:\n",
      "\n",
      "### Step 1: Set Clear Goals\n",
      "- **Define Objectives**: Determine what you want to achieve with each tool. For example, do you want to use Python for data analysis, web development, or automation? Do you need SQL for database management or data retrieval?\n",
      "- **Create a Timeline**: Set a realistic timeline for mastering each tool, breaking it down into weekly or\n"
     ]
    }
   ],
   "source": [
    "print(chain_long.invoke({'job title': 'data scientist'}))"
   ]
  },
  {
   "cell_type": "code",
   "execution_count": null,
   "id": "98f5f4db",
   "metadata": {},
   "outputs": [],
   "source": [
    "Input: {\"job title\": \"data scientist\"}\n",
    "\n",
    "chat_template_tools\n",
    "→ LLM generates: \"Python, SQL, Pandas\"\n",
    "→ StrOutputParser\n",
    "→ Output: \"Python, SQL, Pandas\"\n",
    "→ {'tools': RunnablePassthrough()}\n",
    "→ {'tools': \"Python, SQL, Pandas\"}\n",
    "\n",
    "chat_template_strategy\n",
    "→ Prompt: \"Considering the tools provided... {tools}\"\n",
    "→ LLM generates: strategy\n",
    "→ StrOutputParser\n",
    "→ Output: strategy string\n",
    "\n",
    "1. Start with Python by following beginner tutorials and practicing on coding platforms like LeetCode or HackerRank.\n",
    "2. Learn SQL basics through courses like SQLBolt or Khan Academy and practice writing queries on sample databases.\n",
    "3. Dive into Pandas through the official documentation or guided YouTube courses, then apply it on real datasets from Kaggle."
   ]
  }
 ],
 "metadata": {
  "kernelspec": {
   "display_name": "Python 3",
   "language": "python",
   "name": "python3"
  },
  "language_info": {
   "codemirror_mode": {
    "name": "ipython",
    "version": 3
   },
   "file_extension": ".py",
   "mimetype": "text/x-python",
   "name": "python",
   "nbconvert_exporter": "python",
   "pygments_lexer": "ipython3",
   "version": "3.10.16"
  }
 },
 "nbformat": 4,
 "nbformat_minor": 5
}
