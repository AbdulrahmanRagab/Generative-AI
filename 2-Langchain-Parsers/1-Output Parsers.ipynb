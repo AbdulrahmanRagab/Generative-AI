{
 "cells": [
  {
   "cell_type": "markdown",
   "id": "ce76e2a5",
   "metadata": {},
   "source": [
    "#### String Output Parser"
   ]
  },
  {
   "cell_type": "code",
   "execution_count": 4,
   "id": "e13cac72",
   "metadata": {},
   "outputs": [
    {
     "name": "stdout",
     "output_type": "stream",
     "text": [
      "OPENAI_API_KEY: value\n"
     ]
    }
   ],
   "source": [
    "import openai\n",
    "from openai import OpenAI\n",
    "import langchain\n",
    "import os\n",
    "# Step 1: Load environment variables\n",
    "%reload_ext dotenv\n",
    "%dotenv\n",
    "# Step 3: Access your OpenAI API key from environment variables\n",
    "for key, value in os.environ.items():\n",
    "    if key == \"OPENAI_API_KEY\":\n",
    "        print(f\"{key}: value\")"
   ]
  },
  {
   "cell_type": "code",
   "execution_count": 5,
   "id": "26e4d9ca",
   "metadata": {},
   "outputs": [],
   "source": [
    "client = OpenAI(api_key=os.getenv(\"OPENAI_API_KEY\"))"
   ]
  },
  {
   "cell_type": "code",
   "execution_count": 194,
   "id": "22db8d45",
   "metadata": {},
   "outputs": [],
   "source": [
    "from langchain_openai.chat_models import ChatOpenAI\n",
    "chat = ChatOpenAI(model='gpt-4o-mini', temperature=0,max_completion_tokens=50)\n",
    "# response = chat.invoke(\"I have recently adopted a dog. Could you suggest some dog names?\")\n",
    "# print(response.content)"
   ]
  },
  {
   "cell_type": "code",
   "execution_count": 7,
   "id": "92cddec8",
   "metadata": {},
   "outputs": [],
   "source": [
    "from langchain_openai.chat_models import ChatOpenAI\n",
    "from langchain_core.messages import HumanMessage\n",
    "from langchain_core.output_parsers import StrOutputParser"
   ]
  },
  {
   "cell_type": "code",
   "execution_count": 8,
   "id": "4012bf74",
   "metadata": {},
   "outputs": [],
   "source": [
    "hum_message = HumanMessage(content = \"Can you give me an interesting fact I probably didn't know about?\")"
   ]
  },
  {
   "cell_type": "code",
   "execution_count": 14,
   "id": "db9b0ee0",
   "metadata": {},
   "outputs": [],
   "source": [
    "response = chat.invoke([hum_message])"
   ]
  },
  {
   "cell_type": "code",
   "execution_count": 15,
   "id": "f74869f0",
   "metadata": {},
   "outputs": [
    {
     "data": {
      "text/plain": [
       "'Sure! Did you know that honey never spoils? Archaeologists have found pots of honey in ancient'"
      ]
     },
     "execution_count": 15,
     "metadata": {},
     "output_type": "execute_result"
    }
   ],
   "source": [
    "response.content"
   ]
  },
  {
   "cell_type": "code",
   "execution_count": 16,
   "id": "d937fb65",
   "metadata": {},
   "outputs": [
    {
     "data": {
      "text/plain": [
       "langchain_core.messages.ai.AIMessage"
      ]
     },
     "execution_count": 16,
     "metadata": {},
     "output_type": "execute_result"
    }
   ],
   "source": [
    "type(response)"
   ]
  },
  {
   "cell_type": "code",
   "execution_count": 17,
   "id": "0099ae1b",
   "metadata": {},
   "outputs": [],
   "source": [
    "str_output_parser = StrOutputParser()"
   ]
  },
  {
   "cell_type": "code",
   "execution_count": 18,
   "id": "7ed21b20",
   "metadata": {},
   "outputs": [
    {
     "data": {
      "text/plain": [
       "'Sure! Did you know that honey never spoils? Archaeologists have found pots of honey in ancient'"
      ]
     },
     "execution_count": 18,
     "metadata": {},
     "output_type": "execute_result"
    }
   ],
   "source": [
    "response_parsed = str_output_parser.invoke(response)\n",
    "response_parsed"
   ]
  },
  {
   "cell_type": "code",
   "execution_count": 19,
   "id": "cba72a57",
   "metadata": {},
   "outputs": [
    {
     "data": {
      "text/plain": [
       "langchain_core.output_parsers.string.StrOutputParser"
      ]
     },
     "execution_count": 19,
     "metadata": {},
     "output_type": "execute_result"
    }
   ],
   "source": [
    "type(str_output_parser)"
   ]
  },
  {
   "cell_type": "markdown",
   "id": "c8e1fec1",
   "metadata": {},
   "source": [
    "#### CommaSeparatedListOutputParser\n",
    "Parses a language model's response into a list of strings, assuming the items are separated by commas."
   ]
  },
  {
   "cell_type": "code",
   "execution_count": 42,
   "metadata": {},
   "outputs": [],
   "source": [
    "from langchain.output_parsers import CommaSeparatedListOutputParser\n",
    "from langchain_core.prompts import ChatPromptTemplate,HumanMessagePromptTemplate"
   ]
  },
  {
   "cell_type": "code",
   "execution_count": 41,
   "id": "aacfe45d",
   "metadata": {},
   "outputs": [
    {
     "data": {
      "text/plain": [
       "'Your response should be a list of comma separated values, eg: `foo, bar, baz` or `foo,bar,baz`'"
      ]
     },
     "execution_count": 41,
     "metadata": {},
     "output_type": "execute_result"
    }
   ],
   "source": [
    "list_instructions = CommaSeparatedListOutputParser().get_format_instructions()\n",
    "list_instructions"
   ]
  },
  {
   "cell_type": "code",
   "execution_count": 110,
   "id": "c86b484b",
   "metadata": {},
   "outputs": [],
   "source": [
    "list_output_parser = CommaSeparatedListOutputParser()"
   ]
  },
  {
   "cell_type": "code",
   "execution_count": 111,
   "metadata": {},
   "outputs": [],
   "source": [
    "hum_messag_template = HumanMessagePromptTemplate.from_template('''I adopted a {pet}, could you suggest three {pet} names?\\n'''\n",
    "                                                               +list_instructions)"
   ]
  },
  {
   "cell_type": "code",
   "execution_count": 112,
   "id": "25e0abcc",
   "metadata": {},
   "outputs": [
    {
     "data": {
      "text/plain": [
       "ChatPromptTemplate(input_variables=['pet'], input_types={}, partial_variables={}, messages=[HumanMessagePromptTemplate(prompt=PromptTemplate(input_variables=['pet'], input_types={}, partial_variables={}, template='I adopted a {pet}, could you suggest three {pet} names?\\nYour response should be a list of comma separated values, eg: `foo, bar, baz` or `foo,bar,baz`'), additional_kwargs={})])"
      ]
     },
     "execution_count": 112,
     "metadata": {},
     "output_type": "execute_result"
    }
   ],
   "source": [
    "chat_template = ChatPromptTemplate.from_messages([hum_messag_template])\n",
    "chat_template"
   ]
  },
  {
   "cell_type": "code",
   "execution_count": 113,
   "metadata": {},
   "outputs": [
    {
     "name": "stdout",
     "output_type": "stream",
     "text": [
      "prompt=PromptTemplate(input_variables=['pet'], input_types={}, partial_variables={}, template='I adopted a {pet}, could you suggest three {pet} names?\\nYour response should be a list of comma separated values, eg: `foo, bar, baz` or `foo,bar,baz`') additional_kwargs={}\n"
     ]
    }
   ],
   "source": [
    "print(chat_template.messages[0])"
   ]
  },
  {
   "cell_type": "code",
   "execution_count": 114,
   "id": "81074022",
   "metadata": {},
   "outputs": [
    {
     "data": {
      "text/plain": [
       "ChatPromptValue(messages=[HumanMessage(content='I adopted a dog, could you suggest three dog names?\\nYour response should be a list of comma separated values, eg: `foo, bar, baz` or `foo,bar,baz`', additional_kwargs={}, response_metadata={})])"
      ]
     },
     "execution_count": 114,
     "metadata": {},
     "output_type": "execute_result"
    }
   ],
   "source": [
    "chat_template_result = chat_template.invoke({'pet':'dog'})\n",
    "chat_template_result"
   ]
  },
  {
   "cell_type": "code",
   "execution_count": 115,
   "id": "e83556d6",
   "metadata": {},
   "outputs": [
    {
     "data": {
      "text/plain": [
       "AIMessage(content='Buddy, Luna, Max', additional_kwargs={'refusal': None}, response_metadata={'token_usage': {'completion_tokens': 6, 'prompt_tokens': 47, 'total_tokens': 53, 'completion_tokens_details': {'accepted_prediction_tokens': 0, 'audio_tokens': 0, 'reasoning_tokens': 0, 'rejected_prediction_tokens': 0}, 'prompt_tokens_details': {'audio_tokens': 0, 'cached_tokens': 0}}, 'model_name': 'gpt-4o-mini-2024-07-18', 'system_fingerprint': 'fp_0392822090', 'id': 'chatcmpl-BS1RXJXchuHUWvDScveBh8xFO7Ypa', 'finish_reason': 'stop', 'logprobs': None}, id='run-fafef27c-3369-409e-be54-62ea9c0f1b08-0', usage_metadata={'input_tokens': 47, 'output_tokens': 6, 'total_tokens': 53, 'input_token_details': {'audio': 0, 'cache_read': 0}, 'output_token_details': {'audio': 0, 'reasoning': 0}})"
      ]
     },
     "execution_count": 115,
     "metadata": {},
     "output_type": "execute_result"
    }
   ],
   "source": [
    "chat_result = chat.invoke(chat_template_result)\n",
    "chat_result"
   ]
  },
  {
   "cell_type": "code",
   "execution_count": 116,
   "id": "1e0dc87a",
   "metadata": {},
   "outputs": [
    {
     "data": {
      "text/plain": [
       "['Buddy', 'Luna', 'Max']"
      ]
     },
     "execution_count": 116,
     "metadata": {},
     "output_type": "execute_result"
    }
   ],
   "source": [
    "list_output_parser.invoke(chat_result)"
   ]
  },
  {
   "cell_type": "markdown",
   "id": "d9f21ade",
   "metadata": {},
   "source": [
    "### Using Chain"
   ]
  },
  {
   "cell_type": "code",
   "execution_count": 117,
   "id": "ff4c6f80",
   "metadata": {},
   "outputs": [
    {
     "data": {
      "text/plain": [
       "['Buddy', 'Bella', 'Max']"
      ]
     },
     "execution_count": 117,
     "metadata": {},
     "output_type": "execute_result"
    }
   ],
   "source": [
    "chain = chat_template | chat | list_output_parser\n",
    "chain.invoke({'pet':'dog'})"
   ]
  },
  {
   "cell_type": "code",
   "execution_count": 51,
   "metadata": {},
   "outputs": [
    {
     "name": "stdout",
     "output_type": "stream",
     "text": [
      "[['Buddy', 'Bella', 'Max'], ['Whiskers', 'Luna', 'Oliver'], ['Thumper', 'Nibbles', 'Flopsy']]\n"
     ]
    }
   ],
   "source": [
    "inputs = [{\"pet\": \"dog\"}, {\"pet\": \"cat\"}, {\"pet\": \"rabbit\"}]\n",
    "results = []\n",
    "for input_data in inputs:\n",
    "    results.append(chain.invoke(input_data))\n",
    "print(results)"
   ]
  },
  {
   "cell_type": "markdown",
   "id": "2d56f19c",
   "metadata": {},
   "source": [
    "# Batching\n",
    "In LangChain, batching refers to processing multiple inputs at once instead of one at a time"
   ]
  },
  {
   "cell_type": "code",
   "execution_count": 170,
   "metadata": {},
   "outputs": [],
   "source": [
    "hum_messag_template = HumanMessagePromptTemplate.from_template('''I've recently adopted a {pet} which is a {breed}. Could you suggest several training tips?'''\n",
    "                                                               +list_instructions)"
   ]
  },
  {
   "cell_type": "code",
   "execution_count": 171,
   "id": "f2b8a9e7",
   "metadata": {},
   "outputs": [
    {
     "data": {
      "text/plain": [
       "ChatPromptTemplate(input_variables=['breed', 'pet'], input_types={}, partial_variables={}, messages=[HumanMessagePromptTemplate(prompt=PromptTemplate(input_variables=['breed', 'pet'], input_types={}, partial_variables={}, template=\"I've recently adopted a {pet} which is a {breed}. Could you suggest several training tips?Your response should be a list of comma separated values, eg: `foo, bar, baz` or `foo,bar,baz`\"), additional_kwargs={})])"
      ]
     },
     "execution_count": 171,
     "metadata": {},
     "output_type": "execute_result"
    }
   ],
   "source": [
    "chat_template = ChatPromptTemplate.from_messages([hum_messag_template])\n",
    "chat_template"
   ]
  },
  {
   "cell_type": "code",
   "execution_count": 172,
   "id": "4d58af71",
   "metadata": {},
   "outputs": [
    {
     "data": {
      "text/plain": [
       "['positive reinforcement',\n",
       " 'consistency in commands',\n",
       " 'socialization with other dogs and people',\n",
       " 'regular exercise and mental stimulation',\n",
       " 'patience and persistence',\n",
       " 'using a firm but gentle tone',\n",
       " 'establishing a routine',\n",
       " 'teaching basic commands first',\n",
       " 'avoiding harsh corrections',\n",
       " 'providing plenty of toys and activities']"
      ]
     },
     "execution_count": 172,
     "metadata": {},
     "output_type": "execute_result"
    }
   ],
   "source": [
    "chain = chat_template | chat | list_output_parser\n",
    "response = chain.invoke({'pet':'dog','breed':'husky'})\n",
    "response\n"
   ]
  },
  {
   "cell_type": "code",
   "execution_count": 173,
   "id": "e206c5c5",
   "metadata": {},
   "outputs": [],
   "source": [
    "inputs = [{'pet':'dog','breed':'husky'},\n",
    "           {'pet':'cat','breed':'siamy'}]"
   ]
  },
  {
   "cell_type": "code",
   "execution_count": 174,
   "metadata": {},
   "outputs": [
    {
     "data": {
      "text/plain": [
       "[['positive reinforcement',\n",
       "  'consistency in commands',\n",
       "  'socialization with other dogs',\n",
       "  'regular exercise',\n",
       "  'mental stimulation activities',\n",
       "  'patience during training',\n",
       "  'establishing a routine',\n",
       "  'using high-value treats',\n",
       "  'teaching basic commands first',\n",
       "  'avoiding harsh corrections'],\n",
       " ['positive reinforcement',\n",
       "  'consistency',\n",
       "  'clicker training',\n",
       "  'short training sessions',\n",
       "  'use treats',\n",
       "  'establish a routine',\n",
       "  'socialization',\n",
       "  'patience',\n",
       "  'avoid punishment',\n",
       "  'provide mental stimulation']]"
      ]
     },
     "execution_count": 174,
     "metadata": {},
     "output_type": "execute_result"
    }
   ],
   "source": [
    "chain = chat_template | chat | list_output_parser\n",
    "response = chain.batch(inputs=inputs)\n",
    "response"
   ]
  },
  {
   "cell_type": "code",
   "execution_count": 179,
   "metadata": {},
   "outputs": [
    {
     "data": {
      "text/plain": [
       "[['positive reinforcement',\n",
       "  'consistency in commands',\n",
       "  'short training sessions',\n",
       "  'socialization with other dogs',\n",
       "  'patience and understanding',\n",
       "  'using high-value treats',\n",
       "  'establishing a routine',\n",
       "  'practicing basic commands',\n",
       "  'gradually increasing distractions',\n",
       "  'rewarding good behavior'],\n",
       " ['positive reinforcement',\n",
       "  'consistency',\n",
       "  'short training sessions',\n",
       "  'use of treats',\n",
       "  'patience',\n",
       "  'socialization',\n",
       "  'target training',\n",
       "  'clicker training',\n",
       "  'establish a routine',\n",
       "  'avoid negative reinforcement']]"
      ]
     },
     "execution_count": 179,
     "metadata": {},
     "output_type": "execute_result"
    }
   ],
   "source": [
    "chain = chat_template | chat | list_output_parser\n",
    "chain.batch([{'pet':'dog','breed':'betbol'},\n",
    "           {'pet':'bird','breed':'macaw'}])"
   ]
  },
  {
   "cell_type": "markdown",
   "id": "02b4f68f",
   "metadata": {},
   "source": [
    "#### Streaming:\n",
    "means the LLM's response is delivered token by token, instead of waiting for the full response\n",
    "Think of ChatGPT typing in real time — that’s streaming."
   ]
  },
  {
   "cell_type": "code",
   "execution_count": 1,
   "metadata": {},
   "outputs": [
    {
     "ename": "NameError",
     "evalue": "name 'chat_template' is not defined",
     "output_type": "error",
     "traceback": [
      "\u001b[1;31m---------------------------------------------------------------------------\u001b[0m",
      "\u001b[1;31mNameError\u001b[0m                                 Traceback (most recent call last)",
      "Cell \u001b[1;32mIn[1], line 1\u001b[0m\n\u001b[1;32m----> 1\u001b[0m chain \u001b[38;5;241m=\u001b[39m \u001b[43mchat_template\u001b[49m \u001b[38;5;241m|\u001b[39m chat\n\u001b[0;32m      2\u001b[0m response \u001b[38;5;241m=\u001b[39m chain\u001b[38;5;241m.\u001b[39mstream({\u001b[38;5;124m'\u001b[39m\u001b[38;5;124mpet\u001b[39m\u001b[38;5;124m'\u001b[39m:\u001b[38;5;124m'\u001b[39m\u001b[38;5;124mdragon\u001b[39m\u001b[38;5;124m'\u001b[39m,\n\u001b[0;32m      3\u001b[0m                          \u001b[38;5;124m'\u001b[39m\u001b[38;5;124mbreed\u001b[39m\u001b[38;5;124m'\u001b[39m:\u001b[38;5;124m'\u001b[39m\u001b[38;5;124mnight fury\u001b[39m\u001b[38;5;124m'\u001b[39m})\n",
      "\u001b[1;31mNameError\u001b[0m: name 'chat_template' is not defined"
     ]
    }
   ],
   "source": [
    "chain = chat_template | chat\n",
    "response = chain.stream({'pet':'dragon',\n",
    "                         'breed':'night fury'})"
   ]
  },
  {
   "cell_type": "code",
   "execution_count": 188,
   "metadata": {},
   "outputs": [
    {
     "data": {
      "text/plain": [
       "AIMessageChunk(content='', additional_kwargs={}, response_metadata={}, id='run-4492f231-906c-495a-9ccb-b61872678c25')"
      ]
     },
     "execution_count": 188,
     "metadata": {},
     "output_type": "execute_result"
    }
   ],
   "source": [
    "next(response)"
   ]
  },
  {
   "cell_type": "code",
   "execution_count": 192,
   "metadata": {},
   "outputs": [],
   "source": [
    "for i in response:\n",
    "    print(i.content)"
   ]
  },
  {
   "cell_type": "code",
   "execution_count": 196,
   "metadata": {},
   "outputs": [],
   "source": [
    "for i in response:\n",
    "    print(i.content,end='')"
   ]
  },
  {
   "cell_type": "code",
   "execution_count": 197,
   "metadata": {},
   "outputs": [
    {
     "data": {
      "text/plain": [
       "langchain_core.prompts.chat.ChatPromptTemplate"
      ]
     },
     "execution_count": 197,
     "metadata": {},
     "output_type": "execute_result"
    }
   ],
   "source": [
    "type(chat_template)"
   ]
  }
 ],
 "metadata": {
  "kernelspec": {
   "display_name": "Python 3",
   "language": "python",
   "name": "python3"
  },
  "language_info": {
   "codemirror_mode": {
    "name": "ipython",
    "version": 3
   },
   "file_extension": ".py",
   "mimetype": "text/x-python",
   "name": "python",
   "nbconvert_exporter": "python",
   "pygments_lexer": "ipython3",
   "version": "3.10.16"
  }
 },
 "nbformat": 4,
 "nbformat_minor": 5
}
