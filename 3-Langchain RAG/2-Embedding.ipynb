{
 "cells": [
  {
   "cell_type": "markdown",
   "id": "5958f51e",
   "metadata": {},
   "source": [
    "### Document Embedding"
   ]
  },
  {
   "cell_type": "code",
   "execution_count": 1,
   "id": "eb4ae31a",
   "metadata": {},
   "outputs": [
    {
     "name": "stdout",
     "output_type": "stream",
     "text": [
      "OPENAI_API_KEY: value\n"
     ]
    }
   ],
   "source": [
    "import openai\n",
    "from openai import OpenAI\n",
    "import langchain\n",
    "import os\n",
    "# Step 1: Load environment variables\n",
    "%reload_ext dotenv\n",
    "%dotenv\n",
    "# Step 3: Access your OpenAI API key from environment variables\n",
    "for key, value in os.environ.items():\n",
    "    if key == \"OPENAI_API_KEY\":\n",
    "        print(f\"{key}: value\")\n",
    "client = OpenAI(api_key=os.getenv(\"OPENAI_API_KEY\"))\n"
   ]
  },
  {
   "cell_type": "code",
   "execution_count": 2,
   "id": "2178bba9",
   "metadata": {},
   "outputs": [],
   "source": [
    "from langchain_openai.chat_models import ChatOpenAI"
   ]
  },
  {
   "cell_type": "code",
   "execution_count": 3,
   "id": "6f5388bf",
   "metadata": {},
   "outputs": [
    {
     "name": "stdout",
     "output_type": "stream",
     "text": [
      "I'm just a computer program, so I don't have feelings, but I'm here and ready to help you\n"
     ]
    }
   ],
   "source": [
    "chat = ChatOpenAI(model='gpt-4o-mini', temperature=0,max_completion_tokens=20)\n",
    "response = chat.invoke(\"how are you chat gpt\")\n",
    "print(response.content)"
   ]
  },
  {
   "cell_type": "code",
   "execution_count": 4,
   "id": "2abadfb7",
   "metadata": {},
   "outputs": [],
   "source": [
    "from langchain_community.document_loaders import Docx2txtLoader\n",
    "from langchain_text_splitters.markdown import MarkdownHeaderTextSplitter\n",
    "from langchain_text_splitters.character import CharacterTextSplitter\n",
    "from langchain_openai.embeddings import OpenAIEmbeddings\n",
    "import numpy as np"
   ]
  },
  {
   "cell_type": "code",
   "execution_count": 6,
   "id": "350ba3d4",
   "metadata": {},
   "outputs": [
    {
     "name": "stdout",
     "output_type": "stream",
     "text": [
      "[Document(metadata={'source': '010 Introduction-to-Data-and-Data-Science-2.docx'}, page_content=\"# Introduction to Data and Data Science\\n\\n## Analysis vs Analytics\\n\\nAlright! So…\\nLet’s discuss the not-so-obvious differences\\nbetween the terms analysis and analytics.\\nDue to the similarity of the words, some people\\nbelieve they share the same meaning, and thus\\nuse them interchangeably. Technically, this\\nisn’t correct. There is, in fact, a distinct\\ndifference between the two. And the reason\\nfor one often being used instead of the other\\nis the lack of a transparent understanding\\nof both.\\nSo, let’s clear this up, shall we?\\nFirst, we will start with analysis.\\nConsider the following…\\nYou have a huge dataset containing data of\\nvarious types. Instead of tackling the entire\\ndataset and running the risk of becoming overwhelmed,\\nyou separate it into easier to digest chunks\\nand study them individually and examine how\\nthey relate to other parts. And that’s analysis\\nin a nutshell.\\nOne important thing to remember, however,\\nis that you perform analyses on things that\\nhave already happened in the past. Such as\\nusing an analysis to explain how a story ended\\nthe way it did or how there was a decrease\\nin sales last summer.\\nAll this means that we do analyses to explain\\nhow and/or why something happened.\\nGreat!\\nNow, this leads us nicely on to the definition\\nof analytics.\\nAs you have probably guessed, analytics generally\\nrefers to the future. Instead of explaining\\npast events it explores potential future ones.\\nAnalytics is essentially the application of\\nlogical and computational reasoning to the\\ncomponent parts obtained in an analysis. And\\nin doing this you are looking for patterns\\nand exploring what you could do with them\\nin the future.\\nHere, analytics branches off into two areas:\\nqualitative analytics – this is using your\\nintuition and experience in conjunction with\\nthe analysis to plan your next business move.\\nAnd quantitative analytics – this is applying\\nformulas and algorithms to numbers you have\\ngathered from your analysis.\\nHere are a couple of examples.\\nSay, you are an owner of an online clothing\\nstore. You are ahead of the competition and\\nhave a great understanding of what your customer's\\nneeds and wants are. You’ve performed a\\nvery detailed analysis from women’s clothing\\narticles and feel sure about which fashion\\ntrends to follow. You may use this intuition\\nto decide on which styles of clothing to start\\nselling. This would be qualitative analytics.\\nBut you might not know when to introduce the\\nnew collection. In that case, relying on past\\nsales data and user experience data, you could\\npredict in which month it would be best to\\ndo that. This is an example of using quantitative\\nanalytics.\\nFantastic!\\nTo backtrack a little, you can combine these\\nareas with analyses also – you could perform\\nqualitative analysis – to explain how or\\nwhy a story ended the way it did. And you\\ncan perform quantitative analysis – working\\nwith past data to explain how sales decreased\\nlast summer.\\nPerfect!\\nNow that we have cleared up the differences\\nbetween analysis and analytics it shouldn’t\\nbe too difficult to see how terms such as\\n‘data analysis’, ‘data analytics’,\\n‘business analysis’ and ‘business analytics’\\ncan have their unique meanings too.\\nMore of this will be explained in the next\\nvideo which aims to simplify these, as well\\nas many more with a fantastic diagram. So,\\nlet’s move on!\\n\\n## Programming Languages & Software Employed in Data Science - All the Tools You Need\\n\\nAlright! So…\\nHow are the techniques used in data, business\\nintelligence, or predictive analytics applied\\nin real life?\\nCertainly, with the help of computers.\\nYou can basically split the relevant tools\\ninto two categories—programming languages\\nand software.\\nKnowing a programming language enables you\\nto devise programs that can execute specific\\noperations. Moreover, you can reuse these\\nprograms whenever you need to execute the\\nsame action.\\nAs you can see from the infographic, R, and\\nPython are the two most popular tools across\\nall columns. Their biggest advantage is that\\nthey can manipulate data and are integrated\\nwithin multiple data and data science software\\nplatforms. They are not just suitable for\\nmathematical and statistical computations.\\nIn other words, R, and Python are adaptable.\\nThey can solve a wide variety of business\\nand data-related problems from beginning to\\nthe end.\\nOf course, R, and Python do have their limitations.\\nThey are not able to address problems specific\\nto some domains. One example is ‘relational\\ndatabase management systems’—there, SQL\\nis king. It was specifically created for that\\npurpose. SQL is at its most advantageous when\\nworking with traditional, historical data.\\nWhen preparing your BI analysis, for instance,\\nyou will surely employ it.\\nOkay.\\nWhen it comes to data science, mentioning\\nMATLAB is inevitable. It is ideal for working\\nwith mathematical functions or matrix manipulations.\\nThat’s why it is present in all categories\\nexcept for ‘big data’. While respectable,\\nMATLAB usage is a paid service, and that’s\\none of the reasons why it is losing ground\\nto open-source languages like R and Python.\\nEither way, R, Python, and MATLAB, combined\\nwith SQL, cover most of the tools used when\\nworking with traditional data, BI, and conventional\\ndata science.\\nWhat about big data?\\nApart from R and Python, people working in\\nthis area are often proficient in other languages\\nlike Java or Scala. These two have not been\\ndeveloped specifically for doing statistical\\nanalyses, however they turn out to be very\\nuseful when combining data from multiple sources.\\nAll right! Let’s finish off with machine\\nlearning.\\nWhen it comes to machine learning, we often\\ndeal with big data. Thus, we need a lot of\\ncomputational power, and we can expect people\\nto use the languages similar to those in the\\nbig data column. Apart from R, Python, and\\nMATLAB, other, faster languages are used like\\nJava, JavaScript, C, C++, and Scala.\\nCool.\\nWhat we said may be wonderful, but that’s\\nnot all!\\nBy using one or more programming languages,\\npeople create application software or, as\\nthey are sometimes called, software solutions,\\nthat are adjusted for specific business needs.\\nTheir smaller scope does not make them less\\nuseful, in fact, just the opposite—they\\nare a lot easier to learn and be adopted by\\nothers. You have already heard of several\\nof those.\\nBecause of its ability to do relatively complex\\ncomputations and good visualizations quickly,\\nExcel is a tool applicable to more than one\\ncategory—traditional data, BI, and Data\\nScience. Similarly, SPSS is a very famous\\ntool for working with traditional data and\\napplying statistical analysis.\\nAmong the many applications we have plotted,\\nwe can say there is an increasing amount of\\nsoftware designed for working with big data\\nsuch as Apache Hadoop, Apache Hbase, and Mongo\\nDB.\\nIn terms of big data, Hadoop is the name that\\nmust stick with you. Hadoop is listed as a\\nsoftware in the sense that it is a collection\\nof programs, but don’t imagine it as a nice-looking\\napplication. It’s actually a software framework\\nwhich was designed to address the complexity\\nof big data and its computational intensity.\\nMost notably, Hadoop distributes the computational\\ntasks on multiple computers which is basically\\nthe way to handle big data nowadays.\\nPower BI, SaS, Qlik, and especially Tableau\\nare top-notch examples of software designed\\nfor business intelligence visualizations.\\nIn terms of predictive analytics, EViews is\\nmostly used for working with econometric time-series\\nmodels, and Stata—for academic statistical\\nand econometric research, where techniques\\nlike regression, cluster, and factor analysis\\nare constantly applied.\\nAs a final note, remember the following.\\nShould you have the relevant business and\\ntheoretical knowledge, learning a software\\ntool is relatively easy as opposed to learning\\na programming language. More importantly,\\nit will be sufficient for your need to create\\nquick and accurate analyses.\\nHowever, if your theoretical preparation is\\nstrong enough, you will find yourself restricted\\nby software. Knowing a programming language\\nsuch as R and Python, gives you the freedom\\nto create specific, ad-hoc tools for each\\nproject you are working on.\\nGreat!\\nWe hope we gave you a good idea about the\\nlevel of applicability of the most frequently\\nused programming and software tools in the\\nfield of data science.\\nThank you for watching!\")]\n"
     ]
    }
   ],
   "source": [
    "load_docx = Docx2txtLoader(\"010 Introduction-to-Data-and-Data-Science-2.docx\")\n",
    "pages = load_docx.load()\n",
    "print(pages)"
   ]
  },
  {
   "cell_type": "code",
   "execution_count": 7,
   "id": "9b325b69",
   "metadata": {},
   "outputs": [],
   "source": [
    "mark_down_split = MarkdownHeaderTextSplitter(\n",
    "    headers_to_split_on=[(\"#\", \"H1 Course Tiltle\"),\n",
    "                         (\"##\", \"H2 Lecture Content\")]\n",
    ")"
   ]
  },
  {
   "cell_type": "code",
   "execution_count": 8,
   "id": "33eada5f",
   "metadata": {},
   "outputs": [
    {
     "data": {
      "text/plain": [
       "[Document(metadata={'H1 Course Tiltle': 'Introduction to Data and Data Science', 'H2 Lecture Content': 'Analysis vs Analytics'}, page_content=\"Alright! So…\\nLet’s discuss the not-so-obvious differences\\nbetween the terms analysis and analytics.\\nDue to the similarity of the words, some people\\nbelieve they share the same meaning, and thus\\nuse them interchangeably. Technically, this\\nisn’t correct. There is, in fact, a distinct\\ndifference between the two. And the reason\\nfor one often being used instead of the other\\nis the lack of a transparent understanding\\nof both.\\nSo, let’s clear this up, shall we?\\nFirst, we will start with analysis.\\nConsider the following…\\nYou have a huge dataset containing data of\\nvarious types. Instead of tackling the entire\\ndataset and running the risk of becoming overwhelmed,\\nyou separate it into easier to digest chunks\\nand study them individually and examine how\\nthey relate to other parts. And that’s analysis\\nin a nutshell.\\nOne important thing to remember, however,\\nis that you perform analyses on things that\\nhave already happened in the past. Such as\\nusing an analysis to explain how a story ended\\nthe way it did or how there was a decrease\\nin sales last summer.\\nAll this means that we do analyses to explain\\nhow and/or why something happened.\\nGreat!\\nNow, this leads us nicely on to the definition\\nof analytics.\\nAs you have probably guessed, analytics generally\\nrefers to the future. Instead of explaining\\npast events it explores potential future ones.\\nAnalytics is essentially the application of\\nlogical and computational reasoning to the\\ncomponent parts obtained in an analysis. And\\nin doing this you are looking for patterns\\nand exploring what you could do with them\\nin the future.\\nHere, analytics branches off into two areas:\\nqualitative analytics – this is using your\\nintuition and experience in conjunction with\\nthe analysis to plan your next business move.\\nAnd quantitative analytics – this is applying\\nformulas and algorithms to numbers you have\\ngathered from your analysis.\\nHere are a couple of examples.\\nSay, you are an owner of an online clothing\\nstore. You are ahead of the competition and\\nhave a great understanding of what your customer's\\nneeds and wants are. You’ve performed a\\nvery detailed analysis from women’s clothing\\narticles and feel sure about which fashion\\ntrends to follow. You may use this intuition\\nto decide on which styles of clothing to start\\nselling. This would be qualitative analytics.\\nBut you might not know when to introduce the\\nnew collection. In that case, relying on past\\nsales data and user experience data, you could\\npredict in which month it would be best to\\ndo that. This is an example of using quantitative\\nanalytics.\\nFantastic!\\nTo backtrack a little, you can combine these\\nareas with analyses also – you could perform\\nqualitative analysis – to explain how or\\nwhy a story ended the way it did. And you\\ncan perform quantitative analysis – working\\nwith past data to explain how sales decreased\\nlast summer.\\nPerfect!\\nNow that we have cleared up the differences\\nbetween analysis and analytics it shouldn’t\\nbe too difficult to see how terms such as\\n‘data analysis’, ‘data analytics’,\\n‘business analysis’ and ‘business analytics’\\ncan have their unique meanings too.\\nMore of this will be explained in the next\\nvideo which aims to simplify these, as well\\nas many more with a fantastic diagram. So,\\nlet’s move on!\"),\n",
       " Document(metadata={'H1 Course Tiltle': 'Introduction to Data and Data Science', 'H2 Lecture Content': 'Programming Languages & Software Employed in Data Science - All the Tools You Need'}, page_content='Alright! So…\\nHow are the techniques used in data, business\\nintelligence, or predictive analytics applied\\nin real life?\\nCertainly, with the help of computers.\\nYou can basically split the relevant tools\\ninto two categories—programming languages\\nand software.\\nKnowing a programming language enables you\\nto devise programs that can execute specific\\noperations. Moreover, you can reuse these\\nprograms whenever you need to execute the\\nsame action.\\nAs you can see from the infographic, R, and\\nPython are the two most popular tools across\\nall columns. Their biggest advantage is that\\nthey can manipulate data and are integrated\\nwithin multiple data and data science software\\nplatforms. They are not just suitable for\\nmathematical and statistical computations.\\nIn other words, R, and Python are adaptable.\\nThey can solve a wide variety of business\\nand data-related problems from beginning to\\nthe end.\\nOf course, R, and Python do have their limitations.\\nThey are not able to address problems specific\\nto some domains. One example is ‘relational\\ndatabase management systems’—there, SQL\\nis king. It was specifically created for that\\npurpose. SQL is at its most advantageous when\\nworking with traditional, historical data.\\nWhen preparing your BI analysis, for instance,\\nyou will surely employ it.\\nOkay.\\nWhen it comes to data science, mentioning\\nMATLAB is inevitable. It is ideal for working\\nwith mathematical functions or matrix manipulations.\\nThat’s why it is present in all categories\\nexcept for ‘big data’. While respectable,\\nMATLAB usage is a paid service, and that’s\\none of the reasons why it is losing ground\\nto open-source languages like R and Python.\\nEither way, R, Python, and MATLAB, combined\\nwith SQL, cover most of the tools used when\\nworking with traditional data, BI, and conventional\\ndata science.\\nWhat about big data?\\nApart from R and Python, people working in\\nthis area are often proficient in other languages\\nlike Java or Scala. These two have not been\\ndeveloped specifically for doing statistical\\nanalyses, however they turn out to be very\\nuseful when combining data from multiple sources.\\nAll right! Let’s finish off with machine\\nlearning.\\nWhen it comes to machine learning, we often\\ndeal with big data. Thus, we need a lot of\\ncomputational power, and we can expect people\\nto use the languages similar to those in the\\nbig data column. Apart from R, Python, and\\nMATLAB, other, faster languages are used like\\nJava, JavaScript, C, C++, and Scala.\\nCool.\\nWhat we said may be wonderful, but that’s\\nnot all!\\nBy using one or more programming languages,\\npeople create application software or, as\\nthey are sometimes called, software solutions,\\nthat are adjusted for specific business needs.\\nTheir smaller scope does not make them less\\nuseful, in fact, just the opposite—they\\nare a lot easier to learn and be adopted by\\nothers. You have already heard of several\\nof those.\\nBecause of its ability to do relatively complex\\ncomputations and good visualizations quickly,\\nExcel is a tool applicable to more than one\\ncategory—traditional data, BI, and Data\\nScience. Similarly, SPSS is a very famous\\ntool for working with traditional data and\\napplying statistical analysis.\\nAmong the many applications we have plotted,\\nwe can say there is an increasing amount of\\nsoftware designed for working with big data\\nsuch as Apache Hadoop, Apache Hbase, and Mongo\\nDB.\\nIn terms of big data, Hadoop is the name that\\nmust stick with you. Hadoop is listed as a\\nsoftware in the sense that it is a collection\\nof programs, but don’t imagine it as a nice-looking\\napplication. It’s actually a software framework\\nwhich was designed to address the complexity\\nof big data and its computational intensity.\\nMost notably, Hadoop distributes the computational\\ntasks on multiple computers which is basically\\nthe way to handle big data nowadays.\\nPower BI, SaS, Qlik, and especially Tableau\\nare top-notch examples of software designed\\nfor business intelligence visualizations.\\nIn terms of predictive analytics, EViews is\\nmostly used for working with econometric time-series\\nmodels, and Stata—for academic statistical\\nand econometric research, where techniques\\nlike regression, cluster, and factor analysis\\nare constantly applied.\\nAs a final note, remember the following.\\nShould you have the relevant business and\\ntheoretical knowledge, learning a software\\ntool is relatively easy as opposed to learning\\na programming language. More importantly,\\nit will be sufficient for your need to create\\nquick and accurate analyses.\\nHowever, if your theoretical preparation is\\nstrong enough, you will find yourself restricted\\nby software. Knowing a programming language\\nsuch as R and Python, gives you the freedom\\nto create specific, ad-hoc tools for each\\nproject you are working on.\\nGreat!\\nWe hope we gave you a good idea about the\\nlevel of applicability of the most frequently\\nused programming and software tools in the\\nfield of data science.\\nThank you for watching!')]"
      ]
     },
     "execution_count": 8,
     "metadata": {},
     "output_type": "execute_result"
    }
   ],
   "source": [
    "pages_split = mark_down_split.split_text(pages[0].page_content)\n",
    "pages_split"
   ]
  },
  {
   "cell_type": "code",
   "execution_count": 9,
   "id": "6bd038db",
   "metadata": {},
   "outputs": [
    {
     "data": {
      "text/plain": [
       "[Document(metadata={'H1 Course Tiltle': 'Introduction to Data and Data Science', 'H2 Lecture Content': 'Analysis vs Analytics'}, page_content=\"Alright! So… Let’s discuss the not-so-obvious differences between the terms analysis and analytics. Due to the similarity of the words, some people believe they share the same meaning, and thus use them interchangeably. Technically, this isn’t correct. There is, in fact, a distinct difference between the two. And the reason for one often being used instead of the other is the lack of a transparent understanding of both. So, let’s clear this up, shall we? First, we will start with analysis. Consider the following… You have a huge dataset containing data of various types. Instead of tackling the entire dataset and running the risk of becoming overwhelmed, you separate it into easier to digest chunks and study them individually and examine how they relate to other parts. And that’s analysis in a nutshell. One important thing to remember, however, is that you perform analyses on things that have already happened in the past. Such as using an analysis to explain how a story ended the way it did or how there was a decrease in sales last summer. All this means that we do analyses to explain how and/or why something happened. Great! Now, this leads us nicely on to the definition of analytics. As you have probably guessed, analytics generally refers to the future. Instead of explaining past events it explores potential future ones. Analytics is essentially the application of logical and computational reasoning to the component parts obtained in an analysis. And in doing this you are looking for patterns and exploring what you could do with them in the future. Here, analytics branches off into two areas: qualitative analytics – this is using your intuition and experience in conjunction with the analysis to plan your next business move. And quantitative analytics – this is applying formulas and algorithms to numbers you have gathered from your analysis. Here are a couple of examples. Say, you are an owner of an online clothing store. You are ahead of the competition and have a great understanding of what your customer's needs and wants are. You’ve performed a very detailed analysis from women’s clothing articles and feel sure about which fashion trends to follow. You may use this intuition to decide on which styles of clothing to start selling. This would be qualitative analytics. But you might not know when to introduce the new collection. In that case, relying on past sales data and user experience data, you could predict in which month it would be best to do that. This is an example of using quantitative analytics. Fantastic! To backtrack a little, you can combine these areas with analyses also – you could perform qualitative analysis – to explain how or why a story ended the way it did. And you can perform quantitative analysis – working with past data to explain how sales decreased last summer. Perfect! Now that we have cleared up the differences between analysis and analytics it shouldn’t be too difficult to see how terms such as ‘data analysis’, ‘data analytics’, ‘business analysis’ and ‘business analytics’ can have their unique meanings too. More of this will be explained in the next video which aims to simplify these, as well as many more with a fantastic diagram. So, let’s move on!\"),\n",
       " Document(metadata={'H1 Course Tiltle': 'Introduction to Data and Data Science', 'H2 Lecture Content': 'Programming Languages & Software Employed in Data Science - All the Tools You Need'}, page_content='Alright! So… How are the techniques used in data, business intelligence, or predictive analytics applied in real life? Certainly, with the help of computers. You can basically split the relevant tools into two categories—programming languages and software. Knowing a programming language enables you to devise programs that can execute specific operations. Moreover, you can reuse these programs whenever you need to execute the same action. As you can see from the infographic, R, and Python are the two most popular tools across all columns. Their biggest advantage is that they can manipulate data and are integrated within multiple data and data science software platforms. They are not just suitable for mathematical and statistical computations. In other words, R, and Python are adaptable. They can solve a wide variety of business and data-related problems from beginning to the end. Of course, R, and Python do have their limitations. They are not able to address problems specific to some domains. One example is ‘relational database management systems’—there, SQL is king. It was specifically created for that purpose. SQL is at its most advantageous when working with traditional, historical data. When preparing your BI analysis, for instance, you will surely employ it. Okay. When it comes to data science, mentioning MATLAB is inevitable. It is ideal for working with mathematical functions or matrix manipulations. That’s why it is present in all categories except for ‘big data’. While respectable, MATLAB usage is a paid service, and that’s one of the reasons why it is losing ground to open-source languages like R and Python. Either way, R, Python, and MATLAB, combined with SQL, cover most of the tools used when working with traditional data, BI, and conventional data science. What about big data? Apart from R and Python, people working in this area are often proficient in other languages like Java or Scala. These two have not been developed specifically for doing statistical analyses, however they turn out to be very useful when combining data from multiple sources. All right! Let’s finish off with machine learning. When it comes to machine learning, we often deal with big data. Thus, we need a lot of computational power, and we can expect people to use the languages similar to those in the big data column. Apart from R, Python, and MATLAB, other, faster languages are used like Java, JavaScript, C, C++, and Scala. Cool. What we said may be wonderful, but that’s not all! By using one or more programming languages, people create application software or, as they are sometimes called, software solutions, that are adjusted for specific business needs. Their smaller scope does not make them less useful, in fact, just the opposite—they are a lot easier to learn and be adopted by others. You have already heard of several of those. Because of its ability to do relatively complex computations and good visualizations quickly, Excel is a tool applicable to more than one category—traditional data, BI, and Data Science. Similarly, SPSS is a very famous tool for working with traditional data and applying statistical analysis. Among the many applications we have plotted, we can say there is an increasing amount of software designed for working with big data such as Apache Hadoop, Apache Hbase, and Mongo DB. In terms of big data, Hadoop is the name that must stick with you. Hadoop is listed as a software in the sense that it is a collection of programs, but don’t imagine it as a nice-looking application. It’s actually a software framework which was designed to address the complexity of big data and its computational intensity. Most notably, Hadoop distributes the computational tasks on multiple computers which is basically the way to handle big data nowadays. Power BI, SaS, Qlik, and especially Tableau are top-notch examples of software designed for business intelligence visualizations. In terms of predictive analytics, EViews is mostly used for working with econometric time-series models, and Stata—for academic statistical and econometric research, where techniques like regression, cluster, and factor analysis are constantly applied. As a final note, remember the following. Should you have the relevant business and theoretical knowledge, learning a software tool is relatively easy as opposed to learning a programming language. More importantly, it will be sufficient for your need to create quick and accurate analyses. However, if your theoretical preparation is strong enough, you will find yourself restricted by software. Knowing a programming language such as R and Python, gives you the freedom to create specific, ad-hoc tools for each project you are working on. Great! We hope we gave you a good idea about the level of applicability of the most frequently used programming and software tools in the field of data science. Thank you for watching!')]"
      ]
     },
     "execution_count": 9,
     "metadata": {},
     "output_type": "execute_result"
    }
   ],
   "source": [
    "for i in range(len(pages_split)):\n",
    "    pages_split[i].page_content = ' '.join(pages_split[i].page_content.split())\n",
    "pages_split"
   ]
  },
  {
   "cell_type": "code",
   "execution_count": 13,
   "id": "a4c84613",
   "metadata": {},
   "outputs": [
    {
     "data": {
      "text/plain": [
       "[Document(metadata={'H1 Course Tiltle': 'Introduction to Data and Data Science', 'H2 Lecture Content': 'Analysis vs Analytics'}, page_content='Alright! So… Let’s discuss the not-so-obvious differences between the terms analysis and analytics. Due to the similarity of the words, some people believe they share the same meaning, and thus use them interchangeably. Technically, this isn’t correct. There is, in fact, a distinct difference between the two. And the reason for one often being used instead of the other is the lack of a transparent understanding of both. So, let’s clear this up, shall we? First, we will start with analysis. Consi'),\n",
       " Document(metadata={'H1 Course Tiltle': 'Introduction to Data and Data Science', 'H2 Lecture Content': 'Analysis vs Analytics'}, page_content='hall we? First, we will start with analysis. Consider the following… You have a huge dataset containing data of various types. Instead of tackling the entire dataset and running the risk of becoming overwhelmed, you separate it into easier to digest chunks and study them individually and examine how they relate to other parts. And that’s analysis in a nutshell. One important thing to remember, however, is that you perform analyses on things that have already happened in the past. Such as using a'),\n",
       " Document(metadata={'H1 Course Tiltle': 'Introduction to Data and Data Science', 'H2 Lecture Content': 'Analysis vs Analytics'}, page_content='have already happened in the past. Such as using an analysis to explain how a story ended the way it did or how there was a decrease in sales last summer. All this means that we do analyses to explain how and/or why something happened. Great! Now, this leads us nicely on to the definition of analytics. As you have probably guessed, analytics generally refers to the future. Instead of explaining past events it explores potential future ones. Analytics is essentially the application of logical and'),\n",
       " Document(metadata={'H1 Course Tiltle': 'Introduction to Data and Data Science', 'H2 Lecture Content': 'Analysis vs Analytics'}, page_content='tics is essentially the application of logical and computational reasoning to the component parts obtained in an analysis. And in doing this you are looking for patterns and exploring what you could do with them in the future. Here, analytics branches off into two areas: qualitative analytics – this is using your intuition and experience in conjunction with the analysis to plan your next business move. And quantitative analytics – this is applying formulas and algorithms to numbers you have gath'),\n",
       " Document(metadata={'H1 Course Tiltle': 'Introduction to Data and Data Science', 'H2 Lecture Content': 'Analysis vs Analytics'}, page_content=\"g formulas and algorithms to numbers you have gathered from your analysis. Here are a couple of examples. Say, you are an owner of an online clothing store. You are ahead of the competition and have a great understanding of what your customer's needs and wants are. You’ve performed a very detailed analysis from women’s clothing articles and feel sure about which fashion trends to follow. You may use this intuition to decide on which styles of clothing to start selling. This would be qualitative\"),\n",
       " Document(metadata={'H1 Course Tiltle': 'Introduction to Data and Data Science', 'H2 Lecture Content': 'Analysis vs Analytics'}, page_content='thing to start selling. This would be qualitative analytics. But you might not know when to introduce the new collection. In that case, relying on past sales data and user experience data, you could predict in which month it would be best to do that. This is an example of using quantitative analytics. Fantastic! To backtrack a little, you can combine these areas with analyses also – you could perform qualitative analysis – to explain how or why a story ended the way it did. And you can perform q'),\n",
       " Document(metadata={'H1 Course Tiltle': 'Introduction to Data and Data Science', 'H2 Lecture Content': 'Analysis vs Analytics'}, page_content='story ended the way it did. And you can perform quantitative analysis – working with past data to explain how sales decreased last summer. Perfect! Now that we have cleared up the differences between analysis and analytics it shouldn’t be too difficult to see how terms such as ‘data analysis’, ‘data analytics’, ‘business analysis’ and ‘business analytics’ can have their unique meanings too. More of this will be explained in the next video which aims to simplify these, as well as many more with'),\n",
       " Document(metadata={'H1 Course Tiltle': 'Introduction to Data and Data Science', 'H2 Lecture Content': 'Analysis vs Analytics'}, page_content='aims to simplify these, as well as many more with a fantastic diagram. So, let’s move on!'),\n",
       " Document(metadata={'H1 Course Tiltle': 'Introduction to Data and Data Science', 'H2 Lecture Content': 'Programming Languages & Software Employed in Data Science - All the Tools You Need'}, page_content='Alright! So… How are the techniques used in data, business intelligence, or predictive analytics applied in real life? Certainly, with the help of computers. You can basically split the relevant tools into two categories—programming languages and software. Knowing a programming language enables you to devise programs that can execute specific operations. Moreover, you can reuse these programs whenever you need to execute the same action. As you can see from the infographic, R, and Python are the'),\n",
       " Document(metadata={'H1 Course Tiltle': 'Introduction to Data and Data Science', 'H2 Lecture Content': 'Programming Languages & Software Employed in Data Science - All the Tools You Need'}, page_content='an see from the infographic, R, and Python are the two most popular tools across all columns. Their biggest advantage is that they can manipulate data and are integrated within multiple data and data science software platforms. They are not just suitable for mathematical and statistical computations. In other words, R, and Python are adaptable. They can solve a wide variety of business and data-related problems from beginning to the end. Of course, R, and Python do have their limitations. They a'),\n",
       " Document(metadata={'H1 Course Tiltle': 'Introduction to Data and Data Science', 'H2 Lecture Content': 'Programming Languages & Software Employed in Data Science - All the Tools You Need'}, page_content='e, R, and Python do have their limitations. They are not able to address problems specific to some domains. One example is ‘relational database management systems’—there, SQL is king. It was specifically created for that purpose. SQL is at its most advantageous when working with traditional, historical data. When preparing your BI analysis, for instance, you will surely employ it. Okay. When it comes to data science, mentioning MATLAB is inevitable. It is ideal for working with mathematical func'),\n",
       " Document(metadata={'H1 Course Tiltle': 'Introduction to Data and Data Science', 'H2 Lecture Content': 'Programming Languages & Software Employed in Data Science - All the Tools You Need'}, page_content='le. It is ideal for working with mathematical functions or matrix manipulations. That’s why it is present in all categories except for ‘big data’. While respectable, MATLAB usage is a paid service, and that’s one of the reasons why it is losing ground to open-source languages like R and Python. Either way, R, Python, and MATLAB, combined with SQL, cover most of the tools used when working with traditional data, BI, and conventional data science. What about big data? Apart from R and Python, peop'),\n",
       " Document(metadata={'H1 Course Tiltle': 'Introduction to Data and Data Science', 'H2 Lecture Content': 'Programming Languages & Software Employed in Data Science - All the Tools You Need'}, page_content='What about big data? Apart from R and Python, people working in this area are often proficient in other languages like Java or Scala. These two have not been developed specifically for doing statistical analyses, however they turn out to be very useful when combining data from multiple sources. All right! Let’s finish off with machine learning. When it comes to machine learning, we often deal with big data. Thus, we need a lot of computational power, and we can expect people to use the languages'),\n",
       " Document(metadata={'H1 Course Tiltle': 'Introduction to Data and Data Science', 'H2 Lecture Content': 'Programming Languages & Software Employed in Data Science - All the Tools You Need'}, page_content='wer, and we can expect people to use the languages similar to those in the big data column. Apart from R, Python, and MATLAB, other, faster languages are used like Java, JavaScript, C, C++, and Scala. Cool. What we said may be wonderful, but that’s not all! By using one or more programming languages, people create application software or, as they are sometimes called, software solutions, that are adjusted for specific business needs. Their smaller scope does not make them less useful, in fact, j'),\n",
       " Document(metadata={'H1 Course Tiltle': 'Introduction to Data and Data Science', 'H2 Lecture Content': 'Programming Languages & Software Employed in Data Science - All the Tools You Need'}, page_content='r scope does not make them less useful, in fact, just the opposite—they are a lot easier to learn and be adopted by others. You have already heard of several of those. Because of its ability to do relatively complex computations and good visualizations quickly, Excel is a tool applicable to more than one category—traditional data, BI, and Data Science. Similarly, SPSS is a very famous tool for working with traditional data and applying statistical analysis. Among the many applications we have pl'),\n",
       " Document(metadata={'H1 Course Tiltle': 'Introduction to Data and Data Science', 'H2 Lecture Content': 'Programming Languages & Software Employed in Data Science - All the Tools You Need'}, page_content='l analysis. Among the many applications we have plotted, we can say there is an increasing amount of software designed for working with big data such as Apache Hadoop, Apache Hbase, and Mongo DB. In terms of big data, Hadoop is the name that must stick with you. Hadoop is listed as a software in the sense that it is a collection of programs, but don’t imagine it as a nice-looking application. It’s actually a software framework which was designed to address the complexity of big data and its comp'),\n",
       " Document(metadata={'H1 Course Tiltle': 'Introduction to Data and Data Science', 'H2 Lecture Content': 'Programming Languages & Software Employed in Data Science - All the Tools You Need'}, page_content='to address the complexity of big data and its computational intensity. Most notably, Hadoop distributes the computational tasks on multiple computers which is basically the way to handle big data nowadays. Power BI, SaS, Qlik, and especially Tableau are top-notch examples of software designed for business intelligence visualizations. In terms of predictive analytics, EViews is mostly used for working with econometric time-series models, and Stata—for academic statistical and econometric research'),\n",
       " Document(metadata={'H1 Course Tiltle': 'Introduction to Data and Data Science', 'H2 Lecture Content': 'Programming Languages & Software Employed in Data Science - All the Tools You Need'}, page_content='—for academic statistical and econometric research, where techniques like regression, cluster, and factor analysis are constantly applied. As a final note, remember the following. Should you have the relevant business and theoretical knowledge, learning a software tool is relatively easy as opposed to learning a programming language. More importantly, it will be sufficient for your need to create quick and accurate analyses. However, if your theoretical preparation is strong enough, you will fin'),\n",
       " Document(metadata={'H1 Course Tiltle': 'Introduction to Data and Data Science', 'H2 Lecture Content': 'Programming Languages & Software Employed in Data Science - All the Tools You Need'}, page_content='retical preparation is strong enough, you will find yourself restricted by software. Knowing a programming language such as R and Python, gives you the freedom to create specific, ad-hoc tools for each project you are working on. Great! We hope we gave you a good idea about the level of applicability of the most frequently used programming and software tools in the field of data science. Thank you for watching!')]"
      ]
     },
     "execution_count": 13,
     "metadata": {},
     "output_type": "execute_result"
    }
   ],
   "source": [
    "char_splitter = CharacterTextSplitter(separator=\"\", chunk_size=500, chunk_overlap=50)\n",
    "chunk_text = char_splitter.split_documents(pages_split)\n",
    "chunk_text"
   ]
  },
  {
   "cell_type": "code",
   "execution_count": 14,
   "id": "e240ef53",
   "metadata": {},
   "outputs": [
    {
     "data": {
      "text/plain": [
       "Document(metadata={'H1 Course Tiltle': 'Introduction to Data and Data Science', 'H2 Lecture Content': 'Analysis vs Analytics'}, page_content='Alright! So… Let’s discuss the not-so-obvious differences between the terms analysis and analytics. Due to the similarity of the words, some people believe they share the same meaning, and thus use them interchangeably. Technically, this isn’t correct. There is, in fact, a distinct difference between the two. And the reason for one often being used instead of the other is the lack of a transparent understanding of both. So, let’s clear this up, shall we? First, we will start with analysis. Consi')"
      ]
     },
     "execution_count": 14,
     "metadata": {},
     "output_type": "execute_result"
    }
   ],
   "source": [
    "chunk_text[0]"
   ]
  },
  {
   "cell_type": "code",
   "execution_count": 16,
   "metadata": {},
   "outputs": [
    {
     "data": {
      "text/plain": [
       "500"
      ]
     },
     "execution_count": 16,
     "metadata": {},
     "output_type": "execute_result"
    }
   ],
   "source": [
    "len(chunk_text[0].page_content)"
   ]
  },
  {
   "cell_type": "code",
   "execution_count": 17,
   "metadata": {},
   "outputs": [
    {
     "data": {
      "text/plain": [
       "500"
      ]
     },
     "execution_count": 17,
     "metadata": {},
     "output_type": "execute_result"
    }
   ],
   "source": [
    "len(chunk_text[5].page_content)"
   ]
  },
  {
   "cell_type": "code",
   "execution_count": 18,
   "id": "f6b33c9e",
   "metadata": {},
   "outputs": [
    {
     "data": {
      "text/plain": [
       "19"
      ]
     },
     "execution_count": 18,
     "metadata": {},
     "output_type": "execute_result"
    }
   ],
   "source": [
    "len(chunk_text)"
   ]
  },
  {
   "cell_type": "code",
   "execution_count": 19,
   "metadata": {},
   "outputs": [
    {
     "data": {
      "text/plain": [
       "414"
      ]
     },
     "execution_count": 19,
     "metadata": {},
     "output_type": "execute_result"
    }
   ],
   "source": [
    "len(chunk_text[18].page_content)"
   ]
  },
  {
   "cell_type": "code",
   "execution_count": 22,
   "id": "6a50c8e4",
   "metadata": {},
   "outputs": [
    {
     "data": {
      "text/plain": [
       "'tics is essentially the application of logical and computational reasoning to the component parts obtained in an analysis. And in doing this you are looking for patterns and exploring what you could do with them in the future. Here, analytics branches off into two areas: qualitative analytics – this is using your intuition and experience in conjunction with the analysis to plan your next business move. And quantitative analytics – this is applying formulas and algorithms to numbers you have gath'"
      ]
     },
     "execution_count": 22,
     "metadata": {},
     "output_type": "execute_result"
    }
   ],
   "source": [
    "chunk_text[3].page_content"
   ]
  },
  {
   "cell_type": "code",
   "execution_count": 23,
   "id": "74e765e7",
   "metadata": {},
   "outputs": [
    {
     "data": {
      "text/plain": [
       "'thing to start selling. This would be qualitative analytics. But you might not know when to introduce the new collection. In that case, relying on past sales data and user experience data, you could predict in which month it would be best to do that. This is an example of using quantitative analytics. Fantastic! To backtrack a little, you can combine these areas with analyses also – you could perform qualitative analysis – to explain how or why a story ended the way it did. And you can perform q'"
      ]
     },
     "execution_count": 23,
     "metadata": {},
     "output_type": "execute_result"
    }
   ],
   "source": [
    "chunk_text[5].page_content"
   ]
  },
  {
   "cell_type": "code",
   "execution_count": 25,
   "metadata": {},
   "outputs": [
    {
     "data": {
      "text/plain": [
       "'retical preparation is strong enough, you will find yourself restricted by software. Knowing a programming language such as R and Python, gives you the freedom to create specific, ad-hoc tools for each project you are working on. Great! We hope we gave you a good idea about the level of applicability of the most frequently used programming and software tools in the field of data science. Thank you for watching!'"
      ]
     },
     "execution_count": 25,
     "metadata": {},
     "output_type": "execute_result"
    }
   ],
   "source": [
    "chunk_text[18].page_content"
   ]
  },
  {
   "cell_type": "code",
   "execution_count": 27,
   "id": "50d630af",
   "metadata": {},
   "outputs": [
    {
     "data": {
      "text/plain": [
       "OpenAIEmbeddings(client=<openai.resources.embeddings.Embeddings object at 0x000001D7E430FFD0>, async_client=<openai.resources.embeddings.AsyncEmbeddings object at 0x000001D7E4310BE0>, model='text-embedding-ada-002', dimensions=None, deployment='text-embedding-ada-002', openai_api_version=None, openai_api_base=None, openai_api_type=None, openai_proxy=None, embedding_ctx_length=8191, openai_api_key=SecretStr('**********'), openai_organization=None, allowed_special=None, disallowed_special=None, chunk_size=1000, max_retries=2, request_timeout=None, headers=None, tiktoken_enabled=True, tiktoken_model_name=None, show_progress_bar=False, model_kwargs={}, skip_empty=False, default_headers=None, default_query=None, retry_min_seconds=4, retry_max_seconds=20, http_client=None, http_async_client=None, check_embedding_ctx_length=True)"
      ]
     },
     "execution_count": 27,
     "metadata": {},
     "output_type": "execute_result"
    }
   ],
   "source": [
    "embedding = OpenAIEmbeddings(model= \"text-embedding-ada-002\")\n",
    "embedding"
   ]
  },
  {
   "cell_type": "code",
   "execution_count": 34,
   "id": "688bdd55",
   "metadata": {},
   "outputs": [
    {
     "name": "stderr",
     "output_type": "stream",
     "text": [
      "c:\\Users\\Abdelrahman\\Documents\\NLP\\Open AI\\LANGCHAIN\\venv\\lib\\site-packages\\tqdm\\auto.py:21: TqdmWarning: IProgress not found. Please update jupyter and ipywidgets. See https://ipywidgets.readthedocs.io/en/stable/user_install.html\n",
      "  from .autonotebook import tqdm as notebook_tqdm\n",
      "c:\\Users\\Abdelrahman\\Documents\\NLP\\Open AI\\LANGCHAIN\\venv\\lib\\site-packages\\huggingface_hub\\file_download.py:143: UserWarning: `huggingface_hub` cache-system uses symlinks by default to efficiently store duplicated files but your machine does not support them in C:\\Users\\Abdelrahman\\.cache\\huggingface\\hub\\models--sentence-transformers--all-MiniLM-L6-v2. Caching files will still work but in a degraded version that might require more space on your disk. This warning can be disabled by setting the `HF_HUB_DISABLE_SYMLINKS_WARNING` environment variable. For more details, see https://huggingface.co/docs/huggingface_hub/how-to-cache#limitations.\n",
      "To support symlinks on Windows, you either need to activate Developer Mode or to run Python as an administrator. In order to activate developer mode, see this article: https://docs.microsoft.com/en-us/windows/apps/get-started/enable-your-device-for-development\n",
      "  warnings.warn(message)\n",
      "Xet Storage is enabled for this repo, but the 'hf_xet' package is not installed. Falling back to regular HTTP download. For better performance, install the package with: `pip install huggingface_hub[hf_xet]` or `pip install hf_xet`\n"
     ]
    }
   ],
   "source": [
    "from langchain.embeddings import HuggingFaceEmbeddings\n",
    "\n",
    "embedding = HuggingFaceEmbeddings(model_name=\"all-MiniLM-L6-v2\")"
   ]
  },
  {
   "cell_type": "code",
   "execution_count": 39,
   "metadata": {},
   "outputs": [],
   "source": [
    "vector1 = embedding.embed_query(chunk_text[3].page_content)\n",
    "vector2 = embedding.embed_query(chunk_text[5].page_content)\n",
    "vector3 = embedding.embed_query(chunk_text[18].page_content)"
   ]
  },
  {
   "cell_type": "code",
   "execution_count": 36,
   "id": "ebb6f851",
   "metadata": {},
   "outputs": [
    {
     "data": {
      "text/plain": [
       "[-0.03323490545153618,\n",
       " -0.014143339358270168,\n",
       " -0.12660478055477142,\n",
       " 0.00825841911137104,\n",
       " -0.02597159706056118,\n",
       " -0.029311703518033028,\n",
       " 0.046228036284446716,\n",
       " -0.0006110678659752011,\n",
       " 0.037511833012104034,\n",
       " 0.036631349474191666,\n",
       " -0.04820283129811287,\n",
       " -0.011371229775249958,\n",
       " 0.0590350367128849,\n",
       " 0.09890953451395035,\n",
       " -0.003608548315241933,\n",
       " 0.041034579277038574,\n",
       " 0.0072774020954966545,\n",
       " -0.04036857560276985,\n",
       " -0.0044714417308568954,\n",
       " -0.14495337009429932,\n",
       " -0.04900633916258812,\n",
       " -0.08513221889734268,\n",
       " -0.02186587266623974,\n",
       " -0.06691473722457886,\n",
       " -0.01950897090137005,\n",
       " 0.03770763427019119,\n",
       " -0.00789649412035942,\n",
       " -0.011843112297356129,\n",
       " 0.058200158178806305,\n",
       " 0.018781675025820732,\n",
       " -0.025916380807757378,\n",
       " 0.11373547464609146,\n",
       " 0.012182224541902542,\n",
       " 0.0003106482035946101,\n",
       " -0.06882765144109726,\n",
       " 0.04868427664041519,\n",
       " -0.07103106379508972,\n",
       " -0.004024021327495575,\n",
       " -0.027442511171102524,\n",
       " 0.018162783235311508,\n",
       " -0.06573657691478729,\n",
       " -0.030933205038309097,\n",
       " -0.03936385363340378,\n",
       " -0.03977726399898529,\n",
       " 0.051401834934949875,\n",
       " 0.0038221823051571846,\n",
       " -0.039561353623867035,\n",
       " -0.024756228551268578,\n",
       " -0.036173369735479355,\n",
       " 0.013477402739226818,\n",
       " -0.0745159238576889,\n",
       " -0.003932738211005926,\n",
       " -0.03879962116479874,\n",
       " 0.026460876688361168,\n",
       " 0.07272947579622269,\n",
       " 0.005362634547054768,\n",
       " 0.02754349261522293,\n",
       " -0.06223992258310318,\n",
       " -0.008252237923443317,\n",
       " 0.028497956693172455,\n",
       " -0.008506512269377708,\n",
       " -0.02467367611825466,\n",
       " -0.045341234654188156,\n",
       " -0.008591012097895145,\n",
       " 0.018218964338302612,\n",
       " 0.06334216147661209,\n",
       " -0.06929760426282883,\n",
       " 0.11174678802490234,\n",
       " 0.025046784430742264,\n",
       " 0.024933062493801117,\n",
       " 0.025688158348202705,\n",
       " -0.013003860600292683,\n",
       " -0.07420901209115982,\n",
       " 0.04392838478088379,\n",
       " -0.0033579650335013866,\n",
       " 0.025046855211257935,\n",
       " 0.02062048949301243,\n",
       " 0.017709366977214813,\n",
       " -0.004657632205635309,\n",
       " -0.099097341299057,\n",
       " -0.05334422364830971,\n",
       " 0.05393734574317932,\n",
       " -0.024076947942376137,\n",
       " 0.09805355966091156,\n",
       " 0.02666517160832882,\n",
       " 0.020895453169941902,\n",
       " 0.048864275217056274,\n",
       " 0.04997510462999344,\n",
       " 0.012799523770809174,\n",
       " 0.07444605976343155,\n",
       " 0.08347823470830917,\n",
       " 0.08250059187412262,\n",
       " 0.0389203205704689,\n",
       " -0.062367454171180725,\n",
       " 0.08367971330881119,\n",
       " 0.012146270833909512,\n",
       " -0.039249237626791,\n",
       " -0.032035984098911285,\n",
       " 0.09618432819843292,\n",
       " -0.03898609057068825,\n",
       " 0.05546746402978897,\n",
       " 0.053253792226314545,\n",
       " -0.022448349744081497,\n",
       " 0.01208602823317051,\n",
       " -0.06728917360305786,\n",
       " -0.07541463524103165,\n",
       " -0.0016842326149344444,\n",
       " 0.02153906039893627,\n",
       " 0.006459545344114304,\n",
       " 0.012315798550844193,\n",
       " -0.008281789720058441,\n",
       " 0.03539638966321945,\n",
       " -0.012449932284653187,\n",
       " -0.06015855073928833,\n",
       " -0.02164854109287262,\n",
       " -0.061293162405490875,\n",
       " 0.0001533873873995617,\n",
       " 0.019545134156942368,\n",
       " 0.004530744161456823,\n",
       " 0.10875296592712402,\n",
       " 0.008138093166053295,\n",
       " 0.018845461308956146,\n",
       " -0.0454634465277195,\n",
       " 0.013076148927211761,\n",
       " 0.06548963487148285,\n",
       " -0.023682085797190666,\n",
       " -0.12323438376188278,\n",
       " -3.2282183505124963e-34,\n",
       " -0.04960636794567108,\n",
       " 0.0007128288270905614,\n",
       " -0.06041542440652847,\n",
       " 0.05335730314254761,\n",
       " 0.010186580941081047,\n",
       " 0.03858648240566254,\n",
       " -0.027746494859457016,\n",
       " -0.037889521569013596,\n",
       " 0.05893418565392494,\n",
       " 0.06780757009983063,\n",
       " -0.017826970666646957,\n",
       " 0.1606064885854721,\n",
       " -0.011456407606601715,\n",
       " 0.06807062029838562,\n",
       " 0.06566590815782547,\n",
       " -0.009160802699625492,\n",
       " -0.029932182282209396,\n",
       " 0.07012217491865158,\n",
       " -0.0627581924200058,\n",
       " -0.03788060322403908,\n",
       " 0.0055525521747767925,\n",
       " -0.051517561078071594,\n",
       " 0.04474141448736191,\n",
       " 0.04196314513683319,\n",
       " 0.0447002537548542,\n",
       " 0.06144779175519943,\n",
       " -0.021099695935845375,\n",
       " -0.01358309481292963,\n",
       " 0.019960155710577965,\n",
       " -0.004036831669509411,\n",
       " 0.07541003823280334,\n",
       " 0.03157774731516838,\n",
       " -0.007353148423135281,\n",
       " 0.01671035774052143,\n",
       " 0.04747018963098526,\n",
       " -0.01604367420077324,\n",
       " 0.019169555976986885,\n",
       " -0.021397801116108894,\n",
       " 0.06997309625148773,\n",
       " 0.06607240438461304,\n",
       " -0.023596839979290962,\n",
       " -0.0004946753615513444,\n",
       " 0.014246424660086632,\n",
       " 0.0705970972776413,\n",
       " -0.07493621110916138,\n",
       " 0.013056395575404167,\n",
       " 0.02097819745540619,\n",
       " -0.007598616182804108,\n",
       " 0.06923381984233856,\n",
       " -0.0248574111610651,\n",
       " -0.0014727831585332751,\n",
       " -0.05294545367360115,\n",
       " 0.07580535113811493,\n",
       " -0.0948243960738182,\n",
       " 0.03793170303106308,\n",
       " 0.019299162551760674,\n",
       " -0.012799286283552647,\n",
       " -0.12128359079360962,\n",
       " -0.07842414826154709,\n",
       " 0.07300696521997452,\n",
       " -0.03395908325910568,\n",
       " -0.0023813415318727493,\n",
       " -0.04406135529279709,\n",
       " 0.0029354533180594444,\n",
       " -0.043345481157302856,\n",
       " -0.027644863352179527,\n",
       " -0.10859186947345734,\n",
       " -0.024543888866901398,\n",
       " 0.041186001151800156,\n",
       " 0.03635053336620331,\n",
       " -0.05373540148139,\n",
       " 0.016500454396009445,\n",
       " 0.04777505248785019,\n",
       " -0.020832160487771034,\n",
       " 0.04526592046022415,\n",
       " -0.035930175334215164,\n",
       " 0.010080295614898205,\n",
       " 0.019609663635492325,\n",
       " -0.06571105867624283,\n",
       " -0.027683794498443604,\n",
       " -0.12144952267408371,\n",
       " -0.04607510194182396,\n",
       " 0.04181235283613205,\n",
       " -0.05362769216299057,\n",
       " 0.07066895812749863,\n",
       " -0.0037971418350934982,\n",
       " 0.04028933122754097,\n",
       " -0.0222765039652586,\n",
       " -0.05119321122765541,\n",
       " -0.022470692172646523,\n",
       " -0.0697307288646698,\n",
       " 0.019051440060138702,\n",
       " -0.062477074563503265,\n",
       " 0.03804705664515495,\n",
       " -0.013177587650716305,\n",
       " -1.733743781196492e-33,\n",
       " -0.0662088468670845,\n",
       " 0.07178696244955063,\n",
       " -0.05037561431527138,\n",
       " 0.003300487995147705,\n",
       " 0.025627873837947845,\n",
       " -0.07547947019338608,\n",
       " -0.02408902533352375,\n",
       " -0.10470116138458252,\n",
       " 0.1276165246963501,\n",
       " 0.021535880863666534,\n",
       " -0.021380577236413956,\n",
       " -0.008628156036138535,\n",
       " 0.008495970629155636,\n",
       " 0.05157703161239624,\n",
       " -0.10885903239250183,\n",
       " -0.04354553669691086,\n",
       " -0.03670639544725418,\n",
       " -0.0903322845697403,\n",
       " -0.06111886352300644,\n",
       " 0.025426378473639488,\n",
       " -0.08948035538196564,\n",
       " 0.005048312246799469,\n",
       " -0.038490161299705505,\n",
       " -0.14321018755435944,\n",
       " 0.0328415185213089,\n",
       " 0.04654267430305481,\n",
       " -0.024524200707674026,\n",
       " -0.07930772006511688,\n",
       " 0.037360962480306625,\n",
       " -0.0004122653044760227,\n",
       " -0.0408552847802639,\n",
       " -0.12051545828580856,\n",
       " 0.026621462777256966,\n",
       " 0.003150032367557287,\n",
       " 0.04150519520044327,\n",
       " -0.013986577279865742,\n",
       " 0.1575866937637329,\n",
       " -0.07072115689516068,\n",
       " 0.005356753244996071,\n",
       " -0.006287597119808197,\n",
       " 0.026271600276231766,\n",
       " -0.011243480257689953,\n",
       " -0.02457369863986969,\n",
       " -0.03581077605485916,\n",
       " -0.05754994601011276,\n",
       " 0.06957508623600006,\n",
       " -0.026018887758255005,\n",
       " 0.14206400513648987,\n",
       " -0.06900544464588165,\n",
       " -0.026180831715464592,\n",
       " 0.04786252975463867,\n",
       " -0.0031127403490245342,\n",
       " 0.040394023060798645,\n",
       " 0.03479330986738205,\n",
       " -0.0061053745448589325,\n",
       " -0.03813064843416214,\n",
       " 0.07110994309186935,\n",
       " -0.006983309518545866,\n",
       " -0.1074390783905983,\n",
       " 0.06506536155939102,\n",
       " 0.0407952256500721,\n",
       " 0.0022348754573613405,\n",
       " 0.06155303865671158,\n",
       " -0.015934230759739876,\n",
       " -0.02371511235833168,\n",
       " 0.057701051235198975,\n",
       " 0.07396256923675537,\n",
       " -0.05440173298120499,\n",
       " -0.05415193364024162,\n",
       " -0.08190865814685822,\n",
       " 0.007174823433160782,\n",
       " -0.015055850148200989,\n",
       " -0.054139457643032074,\n",
       " -0.04848872870206833,\n",
       " -0.047834400087594986,\n",
       " -0.060256123542785645,\n",
       " -0.01139865443110466,\n",
       " -0.012934643775224686,\n",
       " 0.04910707846283913,\n",
       " 0.010312536731362343,\n",
       " 0.01070409920066595,\n",
       " 0.030356867238879204,\n",
       " -0.00318684009835124,\n",
       " -0.005942779127508402,\n",
       " -0.024988345801830292,\n",
       " 0.09475577622652054,\n",
       " -0.023132409900426865,\n",
       " 0.05048591271042824,\n",
       " 0.024083657190203667,\n",
       " -0.013797702267765999,\n",
       " -0.13775381445884705,\n",
       " -0.0026244644541293383,\n",
       " -0.04164406657218933,\n",
       " 0.04820874333381653,\n",
       " -0.029149791225790977,\n",
       " -4.4686519373726696e-08,\n",
       " -0.08165156841278076,\n",
       " -0.012788084335625172,\n",
       " 0.005718338768929243,\n",
       " -0.036789532750844955,\n",
       " 0.03958848863840103,\n",
       " -0.015866337344050407,\n",
       " -0.03682507202029228,\n",
       " 0.05636388808488846,\n",
       " 0.01137976162135601,\n",
       " 0.09276185929775238,\n",
       " 0.009994718246161938,\n",
       " -0.010670928284525871,\n",
       " -0.05937818065285683,\n",
       " -0.060385506600141525,\n",
       " 0.06578900665044785,\n",
       " 0.02637193724513054,\n",
       " 0.1140967532992363,\n",
       " -0.014659387990832329,\n",
       " 0.006637153681367636,\n",
       " -0.056376952677965164,\n",
       " 0.042732417583465576,\n",
       " 0.02055584266781807,\n",
       " -0.03505973890423775,\n",
       " 0.04787452891469002,\n",
       " 0.021717170253396034,\n",
       " -0.06770014762878418,\n",
       " -0.004758047871291637,\n",
       " 0.01435002125799656,\n",
       " 0.00728330435231328,\n",
       " 0.005457374267280102,\n",
       " 0.017187057062983513,\n",
       " -0.004352494142949581,\n",
       " 0.12900856137275696,\n",
       " -0.02753266505897045,\n",
       " 0.04713192954659462,\n",
       " -0.020756976678967476,\n",
       " 0.02294667437672615,\n",
       " 0.0457397997379303,\n",
       " 0.0764889121055603,\n",
       " -0.018567247316241264,\n",
       " -0.020081594586372375,\n",
       " 0.05385025963187218,\n",
       " -0.046283058822155,\n",
       " 0.037283144891262054,\n",
       " 0.003666038392111659,\n",
       " -0.00931368675082922,\n",
       " -0.07206739485263824,\n",
       " 0.011848262511193752,\n",
       " 0.04844854027032852,\n",
       " 0.05804920941591263,\n",
       " 0.007315477356314659,\n",
       " -0.028241660445928574,\n",
       " 0.011300560086965561,\n",
       " 0.015947120264172554,\n",
       " 0.009984536096453667,\n",
       " 0.008952279575169086,\n",
       " 0.022199301049113274,\n",
       " -0.06931522488594055,\n",
       " 0.019779957830905914,\n",
       " 0.06864748895168304,\n",
       " 0.013456741347908974,\n",
       " 0.054347965866327286,\n",
       " 0.010901514440774918,\n",
       " -0.02873408980667591]"
      ]
     },
     "execution_count": 36,
     "metadata": {},
     "output_type": "execute_result"
    }
   ],
   "source": [
    "vector1"
   ]
  },
  {
   "cell_type": "code",
   "execution_count": 40,
   "metadata": {},
   "outputs": [
    {
     "data": {
      "text/plain": [
       "(384, 384, 384)"
      ]
     },
     "execution_count": 40,
     "metadata": {},
     "output_type": "execute_result"
    }
   ],
   "source": [
    "len(vector1), len(vector2), len(vector3)"
   ]
  },
  {
   "cell_type": "markdown",
   "id": "4c8ea350",
   "metadata": {},
   "source": [
    "#### Apply dot product to each Vector to quantify their similarity"
   ]
  },
  {
   "cell_type": "code",
   "execution_count": 41,
   "id": "fecd46b5",
   "metadata": {},
   "outputs": [
    {
     "data": {
      "text/plain": [
       "(np.float64(0.30577040702371605),\n",
       " np.float64(0.367707281451062),\n",
       " np.float64(0.15601821415704858))"
      ]
     },
     "execution_count": 41,
     "metadata": {},
     "output_type": "execute_result"
    }
   ],
   "source": [
    "np.dot(vector1,vector2), np.dot(vector1,vector3), np.dot(vector2,vector3)"
   ]
  },
  {
   "cell_type": "markdown",
   "id": "d82fede2",
   "metadata": {},
   "source": [
    "#### Magnitude:\n",
    "L2 norm (Euclidean length) of the vectors vector1, vector2, and vector3"
   ]
  },
  {
   "cell_type": "code",
   "execution_count": 44,
   "metadata": {},
   "outputs": [
    {
     "data": {
      "text/plain": [
       "(np.float64(0.9999999734360839),\n",
       " np.float64(0.9999999824920486),\n",
       " np.float64(1.0000001219997638))"
      ]
     },
     "execution_count": 44,
     "metadata": {},
     "output_type": "execute_result"
    }
   ],
   "source": [
    "np.linalg.norm(vector1), np.linalg.norm(vector2), np.linalg.norm(vector3)"
   ]
  },
  {
   "cell_type": "markdown",
   "id": "29930f8d",
   "metadata": {},
   "source": [
    "### Add Vectordatabase"
   ]
  },
  {
   "cell_type": "code",
   "execution_count": 45,
   "id": "636f3f20",
   "metadata": {},
   "outputs": [],
   "source": [
    "from langchain_community.vectorstores import Chroma"
   ]
  },
  {
   "cell_type": "code",
   "execution_count": 46,
   "id": "d0650473",
   "metadata": {},
   "outputs": [],
   "source": [
    "vector_store = Chroma.from_documents(documents= chunk_text,\n",
    "                                     embedding=embedding,\n",
    "                                     persist_directory=\"my_chroma_store\")"
   ]
  },
  {
   "cell_type": "code",
   "execution_count": 47,
   "id": "fc76127d",
   "metadata": {},
   "outputs": [
    {
     "name": "stderr",
     "output_type": "stream",
     "text": [
      "C:\\Users\\Abdelrahman\\AppData\\Local\\Temp\\ipykernel_14544\\629838147.py:1: LangChainDeprecationWarning: The class `Chroma` was deprecated in LangChain 0.2.9 and will be removed in 1.0. An updated version of the class exists in the :class:`~langchain-chroma package and should be used instead. To use it run `pip install -U :class:`~langchain-chroma` and import as `from :class:`~langchain_chroma import Chroma``.\n",
      "  vecstore_from_directory = Chroma(persist_directory=\"my_chroma_store\",\n"
     ]
    }
   ],
   "source": [
    "vecstore_from_directory = Chroma(persist_directory=\"my_chroma_store\",\n",
    "                                 embedding_function=embedding)"
   ]
  },
  {
   "cell_type": "code",
   "execution_count": 48,
   "id": "4a0b9b38",
   "metadata": {},
   "outputs": [
    {
     "data": {
      "text/plain": [
       "{'ids': ['48692bc0-61e7-43e5-887b-d0b9df9188fc',\n",
       "  'c71c24e5-d701-4488-a21b-73755bfe8617',\n",
       "  '7c234662-f12c-4c55-9d89-ecfbaefd39e9',\n",
       "  '210339ba-d0df-4532-8ccc-ff617ff97fa1',\n",
       "  'b7463370-048a-4745-829f-4225bcf06ca1',\n",
       "  '6e908eba-32e9-452d-ba95-6fbb0c80b5e3',\n",
       "  'fc7c2ed2-f02e-420d-a0ac-04b18c2c4047',\n",
       "  '7e0b2a71-17ed-44ce-9db6-4209d41aeedf',\n",
       "  '37c29e75-751a-4da0-abc0-c092bd0e6a1b',\n",
       "  '4a65603a-6b4e-43d8-82f1-3ed53f2be7ad',\n",
       "  '93e5f93f-d28e-483b-8657-f0df2b54c236',\n",
       "  'c02cd1ac-1db4-491d-9eee-34109cccf315',\n",
       "  'f1bb986c-e258-428a-a774-0260488a450d',\n",
       "  'bf73a5c2-7ceb-4e43-a269-4a733377148b',\n",
       "  '2c632882-27f2-4d76-af06-45cf26e27335',\n",
       "  '29d72697-dc71-4d98-9182-1c335f557a6e',\n",
       "  '679591a8-0cf7-43f6-9922-83fd2e7f9be5',\n",
       "  '0e2df61a-c6f6-4792-87a9-8dd23478edac',\n",
       "  'a1e67d3d-6380-4333-b9d9-fc794a3773a4'],\n",
       " 'embeddings': None,\n",
       " 'documents': ['Alright! So… Let’s discuss the not-so-obvious differences between the terms analysis and analytics. Due to the similarity of the words, some people believe they share the same meaning, and thus use them interchangeably. Technically, this isn’t correct. There is, in fact, a distinct difference between the two. And the reason for one often being used instead of the other is the lack of a transparent understanding of both. So, let’s clear this up, shall we? First, we will start with analysis. Consi',\n",
       "  'hall we? First, we will start with analysis. Consider the following… You have a huge dataset containing data of various types. Instead of tackling the entire dataset and running the risk of becoming overwhelmed, you separate it into easier to digest chunks and study them individually and examine how they relate to other parts. And that’s analysis in a nutshell. One important thing to remember, however, is that you perform analyses on things that have already happened in the past. Such as using a',\n",
       "  'have already happened in the past. Such as using an analysis to explain how a story ended the way it did or how there was a decrease in sales last summer. All this means that we do analyses to explain how and/or why something happened. Great! Now, this leads us nicely on to the definition of analytics. As you have probably guessed, analytics generally refers to the future. Instead of explaining past events it explores potential future ones. Analytics is essentially the application of logical and',\n",
       "  'tics is essentially the application of logical and computational reasoning to the component parts obtained in an analysis. And in doing this you are looking for patterns and exploring what you could do with them in the future. Here, analytics branches off into two areas: qualitative analytics – this is using your intuition and experience in conjunction with the analysis to plan your next business move. And quantitative analytics – this is applying formulas and algorithms to numbers you have gath',\n",
       "  \"g formulas and algorithms to numbers you have gathered from your analysis. Here are a couple of examples. Say, you are an owner of an online clothing store. You are ahead of the competition and have a great understanding of what your customer's needs and wants are. You’ve performed a very detailed analysis from women’s clothing articles and feel sure about which fashion trends to follow. You may use this intuition to decide on which styles of clothing to start selling. This would be qualitative\",\n",
       "  'thing to start selling. This would be qualitative analytics. But you might not know when to introduce the new collection. In that case, relying on past sales data and user experience data, you could predict in which month it would be best to do that. This is an example of using quantitative analytics. Fantastic! To backtrack a little, you can combine these areas with analyses also – you could perform qualitative analysis – to explain how or why a story ended the way it did. And you can perform q',\n",
       "  'story ended the way it did. And you can perform quantitative analysis – working with past data to explain how sales decreased last summer. Perfect! Now that we have cleared up the differences between analysis and analytics it shouldn’t be too difficult to see how terms such as ‘data analysis’, ‘data analytics’, ‘business analysis’ and ‘business analytics’ can have their unique meanings too. More of this will be explained in the next video which aims to simplify these, as well as many more with',\n",
       "  'aims to simplify these, as well as many more with a fantastic diagram. So, let’s move on!',\n",
       "  'Alright! So… How are the techniques used in data, business intelligence, or predictive analytics applied in real life? Certainly, with the help of computers. You can basically split the relevant tools into two categories—programming languages and software. Knowing a programming language enables you to devise programs that can execute specific operations. Moreover, you can reuse these programs whenever you need to execute the same action. As you can see from the infographic, R, and Python are the',\n",
       "  'an see from the infographic, R, and Python are the two most popular tools across all columns. Their biggest advantage is that they can manipulate data and are integrated within multiple data and data science software platforms. They are not just suitable for mathematical and statistical computations. In other words, R, and Python are adaptable. They can solve a wide variety of business and data-related problems from beginning to the end. Of course, R, and Python do have their limitations. They a',\n",
       "  'e, R, and Python do have their limitations. They are not able to address problems specific to some domains. One example is ‘relational database management systems’—there, SQL is king. It was specifically created for that purpose. SQL is at its most advantageous when working with traditional, historical data. When preparing your BI analysis, for instance, you will surely employ it. Okay. When it comes to data science, mentioning MATLAB is inevitable. It is ideal for working with mathematical func',\n",
       "  'le. It is ideal for working with mathematical functions or matrix manipulations. That’s why it is present in all categories except for ‘big data’. While respectable, MATLAB usage is a paid service, and that’s one of the reasons why it is losing ground to open-source languages like R and Python. Either way, R, Python, and MATLAB, combined with SQL, cover most of the tools used when working with traditional data, BI, and conventional data science. What about big data? Apart from R and Python, peop',\n",
       "  'What about big data? Apart from R and Python, people working in this area are often proficient in other languages like Java or Scala. These two have not been developed specifically for doing statistical analyses, however they turn out to be very useful when combining data from multiple sources. All right! Let’s finish off with machine learning. When it comes to machine learning, we often deal with big data. Thus, we need a lot of computational power, and we can expect people to use the languages',\n",
       "  'wer, and we can expect people to use the languages similar to those in the big data column. Apart from R, Python, and MATLAB, other, faster languages are used like Java, JavaScript, C, C++, and Scala. Cool. What we said may be wonderful, but that’s not all! By using one or more programming languages, people create application software or, as they are sometimes called, software solutions, that are adjusted for specific business needs. Their smaller scope does not make them less useful, in fact, j',\n",
       "  'r scope does not make them less useful, in fact, just the opposite—they are a lot easier to learn and be adopted by others. You have already heard of several of those. Because of its ability to do relatively complex computations and good visualizations quickly, Excel is a tool applicable to more than one category—traditional data, BI, and Data Science. Similarly, SPSS is a very famous tool for working with traditional data and applying statistical analysis. Among the many applications we have pl',\n",
       "  'l analysis. Among the many applications we have plotted, we can say there is an increasing amount of software designed for working with big data such as Apache Hadoop, Apache Hbase, and Mongo DB. In terms of big data, Hadoop is the name that must stick with you. Hadoop is listed as a software in the sense that it is a collection of programs, but don’t imagine it as a nice-looking application. It’s actually a software framework which was designed to address the complexity of big data and its comp',\n",
       "  'to address the complexity of big data and its computational intensity. Most notably, Hadoop distributes the computational tasks on multiple computers which is basically the way to handle big data nowadays. Power BI, SaS, Qlik, and especially Tableau are top-notch examples of software designed for business intelligence visualizations. In terms of predictive analytics, EViews is mostly used for working with econometric time-series models, and Stata—for academic statistical and econometric research',\n",
       "  '—for academic statistical and econometric research, where techniques like regression, cluster, and factor analysis are constantly applied. As a final note, remember the following. Should you have the relevant business and theoretical knowledge, learning a software tool is relatively easy as opposed to learning a programming language. More importantly, it will be sufficient for your need to create quick and accurate analyses. However, if your theoretical preparation is strong enough, you will fin',\n",
       "  'retical preparation is strong enough, you will find yourself restricted by software. Knowing a programming language such as R and Python, gives you the freedom to create specific, ad-hoc tools for each project you are working on. Great! We hope we gave you a good idea about the level of applicability of the most frequently used programming and software tools in the field of data science. Thank you for watching!'],\n",
       " 'uris': None,\n",
       " 'included': ['metadatas', 'documents'],\n",
       " 'data': None,\n",
       " 'metadatas': [{'H1 Course Tiltle': 'Introduction to Data and Data Science',\n",
       "   'H2 Lecture Content': 'Analysis vs Analytics'},\n",
       "  {'H1 Course Tiltle': 'Introduction to Data and Data Science',\n",
       "   'H2 Lecture Content': 'Analysis vs Analytics'},\n",
       "  {'H1 Course Tiltle': 'Introduction to Data and Data Science',\n",
       "   'H2 Lecture Content': 'Analysis vs Analytics'},\n",
       "  {'H2 Lecture Content': 'Analysis vs Analytics',\n",
       "   'H1 Course Tiltle': 'Introduction to Data and Data Science'},\n",
       "  {'H1 Course Tiltle': 'Introduction to Data and Data Science',\n",
       "   'H2 Lecture Content': 'Analysis vs Analytics'},\n",
       "  {'H1 Course Tiltle': 'Introduction to Data and Data Science',\n",
       "   'H2 Lecture Content': 'Analysis vs Analytics'},\n",
       "  {'H2 Lecture Content': 'Analysis vs Analytics',\n",
       "   'H1 Course Tiltle': 'Introduction to Data and Data Science'},\n",
       "  {'H1 Course Tiltle': 'Introduction to Data and Data Science',\n",
       "   'H2 Lecture Content': 'Analysis vs Analytics'},\n",
       "  {'H1 Course Tiltle': 'Introduction to Data and Data Science',\n",
       "   'H2 Lecture Content': 'Programming Languages & Software Employed in Data Science - All the Tools You Need'},\n",
       "  {'H2 Lecture Content': 'Programming Languages & Software Employed in Data Science - All the Tools You Need',\n",
       "   'H1 Course Tiltle': 'Introduction to Data and Data Science'},\n",
       "  {'H2 Lecture Content': 'Programming Languages & Software Employed in Data Science - All the Tools You Need',\n",
       "   'H1 Course Tiltle': 'Introduction to Data and Data Science'},\n",
       "  {'H1 Course Tiltle': 'Introduction to Data and Data Science',\n",
       "   'H2 Lecture Content': 'Programming Languages & Software Employed in Data Science - All the Tools You Need'},\n",
       "  {'H2 Lecture Content': 'Programming Languages & Software Employed in Data Science - All the Tools You Need',\n",
       "   'H1 Course Tiltle': 'Introduction to Data and Data Science'},\n",
       "  {'H1 Course Tiltle': 'Introduction to Data and Data Science',\n",
       "   'H2 Lecture Content': 'Programming Languages & Software Employed in Data Science - All the Tools You Need'},\n",
       "  {'H1 Course Tiltle': 'Introduction to Data and Data Science',\n",
       "   'H2 Lecture Content': 'Programming Languages & Software Employed in Data Science - All the Tools You Need'},\n",
       "  {'H2 Lecture Content': 'Programming Languages & Software Employed in Data Science - All the Tools You Need',\n",
       "   'H1 Course Tiltle': 'Introduction to Data and Data Science'},\n",
       "  {'H1 Course Tiltle': 'Introduction to Data and Data Science',\n",
       "   'H2 Lecture Content': 'Programming Languages & Software Employed in Data Science - All the Tools You Need'},\n",
       "  {'H1 Course Tiltle': 'Introduction to Data and Data Science',\n",
       "   'H2 Lecture Content': 'Programming Languages & Software Employed in Data Science - All the Tools You Need'},\n",
       "  {'H1 Course Tiltle': 'Introduction to Data and Data Science',\n",
       "   'H2 Lecture Content': 'Programming Languages & Software Employed in Data Science - All the Tools You Need'}]}"
      ]
     },
     "execution_count": 48,
     "metadata": {},
     "output_type": "execute_result"
    }
   ],
   "source": [
    "vecstore_from_directory.get()"
   ]
  },
  {
   "cell_type": "code",
   "execution_count": 54,
   "metadata": {},
   "outputs": [
    {
     "data": {
      "text/plain": [
       "{'ids': ['c71c24e5-d701-4488-a21b-73755bfe8617'],\n",
       " 'embeddings': array([[ 3.95845547e-02,  1.45653309e-02,  1.57417413e-02,\n",
       "         -1.46156810e-02,  3.26879062e-02, -4.89867385e-03,\n",
       "         -3.19424868e-02, -3.00571835e-03, -1.47509959e-03,\n",
       "          1.10089816e-02, -1.44490246e-02,  3.33675295e-02,\n",
       "         -4.79300730e-02,  1.98398605e-02, -4.27697301e-02,\n",
       "          1.82914250e-02, -4.92675640e-02,  1.56947374e-02,\n",
       "         -3.04079335e-02, -1.20953128e-01, -5.52219674e-02,\n",
       "         -4.35541458e-02, -2.91407295e-02,  5.16001582e-02,\n",
       "         -2.09782012e-02,  9.39488336e-02, -2.96834297e-03,\n",
       "         -8.71348847e-03,  2.64168419e-02, -2.83259507e-02,\n",
       "          1.05891973e-02,  4.97992188e-02,  2.71492451e-02,\n",
       "          5.79720736e-02, -1.09871730e-01,  7.83888623e-02,\n",
       "         -1.85681712e-02,  1.06644794e-01,  5.90732433e-02,\n",
       "          1.93585288e-02, -3.33782732e-02,  4.07407768e-02,\n",
       "          1.11270640e-02,  1.86749734e-02,  2.45439596e-02,\n",
       "         -6.36503994e-02, -5.59594110e-02, -4.39886227e-02,\n",
       "          2.11466998e-02,  4.34238426e-02, -1.39210731e-01,\n",
       "          3.87377962e-02, -2.08506407e-03, -1.03312479e-02,\n",
       "          4.67336401e-02, -2.72278413e-02,  8.96286126e-03,\n",
       "         -9.67294443e-03, -2.75573246e-02, -4.86753546e-02,\n",
       "         -3.50307450e-02, -2.42741723e-02, -5.88314980e-02,\n",
       "         -3.28119211e-02,  1.82830580e-02,  4.93110344e-02,\n",
       "          1.62374638e-02,  8.62846598e-02,  4.60968576e-02,\n",
       "          9.95458513e-02, -4.14233394e-02,  1.96539499e-02,\n",
       "         -7.19650015e-02,  5.24672978e-02, -5.52583300e-03,\n",
       "          2.64315233e-02, -4.91809621e-02, -4.36424427e-02,\n",
       "         -9.40354168e-03, -4.83759232e-02,  2.93070227e-02,\n",
       "         -6.98584784e-03,  8.72841477e-03,  6.21888712e-02,\n",
       "          2.09010858e-02, -6.95527047e-02,  1.74040198e-02,\n",
       "         -1.65081839e-03, -5.91416657e-02,  5.84890544e-02,\n",
       "          1.78767331e-02, -9.38177388e-03,  9.47595164e-02,\n",
       "         -2.79293563e-02,  1.53027460e-01,  6.54595792e-02,\n",
       "         -3.88123877e-02, -3.25635038e-02,  1.28070131e-01,\n",
       "          3.25510055e-02,  4.19076445e-04,  6.16904013e-02,\n",
       "         -5.60188247e-03,  2.77955588e-02, -5.51201440e-02,\n",
       "         -9.61203128e-02,  6.22494426e-03, -1.36400918e-02,\n",
       "          7.31500005e-03, -4.51525077e-02,  7.25032389e-03,\n",
       "          3.03701013e-02, -7.42821321e-02, -3.62454802e-02,\n",
       "          1.05373196e-01, -8.31330568e-02, -2.15386227e-02,\n",
       "          2.03549154e-02, -2.72070915e-02,  1.13334566e-01,\n",
       "         -7.19422987e-03, -1.95974559e-02,  5.10907322e-02,\n",
       "         -1.73107702e-02,  3.78797650e-02,  1.29926605e-02,\n",
       "         -4.11053114e-02,  3.24837872e-33, -8.90288316e-03,\n",
       "         -7.07163438e-02, -6.10957481e-02,  8.86143297e-02,\n",
       "         -9.06804055e-02, -3.33042443e-02, -8.54585990e-02,\n",
       "          4.19596024e-03,  1.57384407e-02,  8.80822912e-02,\n",
       "          5.64969778e-02,  1.16776735e-01, -5.83571717e-02,\n",
       "          1.52951879e-02,  2.86445022e-02, -9.29768756e-03,\n",
       "         -7.59248585e-02,  5.96883036e-02, -5.79987951e-02,\n",
       "         -4.76230122e-02, -2.06404552e-03, -1.10186480e-01,\n",
       "          5.67357168e-02,  3.59475170e-03,  1.48083521e-02,\n",
       "         -3.82698104e-02,  5.80535345e-02,  1.19831297e-03,\n",
       "         -4.71697003e-02, -8.69014207e-03, -1.18324300e-03,\n",
       "          2.53764205e-02, -9.80814174e-02,  1.78842433e-02,\n",
       "          3.61896902e-02,  3.32853496e-02,  1.78745035e-02,\n",
       "         -3.07474751e-02,  1.09555118e-01, -2.93739773e-02,\n",
       "         -3.37454909e-03,  9.09435749e-03, -5.62946312e-03,\n",
       "         -2.08411682e-02, -3.45586613e-03,  3.10390964e-02,\n",
       "          1.76120913e-04, -1.72302444e-02,  3.36298748e-04,\n",
       "          4.72624274e-03,  1.59880426e-02, -7.15633407e-02,\n",
       "          7.36542791e-03,  1.60969850e-02, -9.28396881e-02,\n",
       "          3.56744453e-02, -2.69756950e-02, -5.27962223e-02,\n",
       "          2.06604134e-02,  6.99130744e-02,  2.38854662e-02,\n",
       "          6.59323484e-03, -2.66790874e-02,  4.26128507e-02,\n",
       "         -5.80205917e-02,  6.86308667e-02, -9.75298211e-02,\n",
       "          2.22881548e-02,  4.08458188e-02, -1.42978057e-02,\n",
       "         -1.82604056e-03, -3.22723202e-02, -8.92972853e-03,\n",
       "         -1.16181085e-02,  3.08154672e-02, -1.45451855e-02,\n",
       "          1.74579695e-02,  8.71738233e-03, -5.96117713e-02,\n",
       "         -8.81804898e-03,  1.38670160e-03, -4.85929623e-02,\n",
       "          5.11561930e-02, -8.08892623e-02, -3.45619693e-02,\n",
       "          9.50712152e-03,  5.34899607e-02, -4.57494110e-02,\n",
       "         -2.77119838e-02, -2.17300151e-02, -8.05914551e-02,\n",
       "          3.92454974e-02,  2.35027298e-02, -3.60731669e-02,\n",
       "          5.11275604e-02, -6.35069125e-33, -4.14557420e-02,\n",
       "          5.21607362e-02, -5.01688337e-03, -1.50849363e-02,\n",
       "          5.82821481e-02, -3.63924131e-02, -1.07181430e-01,\n",
       "         -5.35226464e-02,  5.33589944e-02, -2.51148548e-02,\n",
       "         -4.13298234e-02, -4.29170132e-02,  7.77589232e-02,\n",
       "         -7.27011487e-02, -7.82527626e-02, -1.48590636e-02,\n",
       "         -1.34146754e-02, -3.45881730e-02, -2.33036503e-02,\n",
       "          2.91601159e-02, -9.60539728e-02,  5.17642498e-03,\n",
       "         -3.46873258e-03, -5.35803773e-02, -1.40988976e-02,\n",
       "          3.39608602e-02, -6.02079108e-02, -4.97063585e-02,\n",
       "          1.07632428e-02, -5.03049083e-02, -9.26490203e-02,\n",
       "         -2.61068624e-02,  2.94163637e-02, -2.97453869e-02,\n",
       "         -2.11696122e-02, -6.43083500e-03,  7.61034116e-02,\n",
       "         -7.51457065e-02,  1.96918659e-02, -4.26998325e-02,\n",
       "          7.31498227e-02,  8.91580582e-02, -4.01871577e-02,\n",
       "         -2.26868782e-02,  4.09268290e-02, -7.83168431e-03,\n",
       "         -7.58475363e-02,  8.23229477e-02,  2.07515173e-02,\n",
       "          2.51384033e-03,  3.91919762e-02,  6.82071298e-02,\n",
       "          4.33469154e-02, -4.55716588e-02,  2.62626670e-02,\n",
       "         -2.52663456e-02,  9.19355452e-02, -4.59594391e-02,\n",
       "         -7.45335817e-02,  5.63857071e-02, -1.19166784e-01,\n",
       "         -1.48992576e-02, -1.43100405e-02,  7.33390450e-02,\n",
       "         -1.14655485e-02, -1.08371168e-01,  8.38651601e-03,\n",
       "         -1.02116697e-01, -7.90436193e-02,  2.06115935e-02,\n",
       "          2.13108957e-02,  6.29574731e-02, -4.97057512e-02,\n",
       "          5.46117593e-03, -2.39567179e-03, -4.33534272e-02,\n",
       "         -8.43660161e-02, -2.26827171e-02,  3.80612239e-02,\n",
       "          2.13479642e-02,  1.79723948e-02, -1.07988808e-02,\n",
       "          2.59999447e-02, -4.42627643e-04, -2.97116451e-02,\n",
       "          1.54877678e-01, -9.46973916e-03, -3.53718773e-02,\n",
       "         -4.58372124e-02, -2.91832313e-02, -1.10982947e-01,\n",
       "         -1.01414844e-01, -7.53916651e-02,  5.26473718e-03,\n",
       "         -1.23505760e-02, -6.55878409e-08,  3.77672240e-02,\n",
       "         -8.87802169e-02,  4.94962782e-02,  3.73064773e-03,\n",
       "          6.55311123e-02, -4.65735383e-02, -1.04298174e-01,\n",
       "          1.86315447e-01, -2.44640056e-02,  1.43321706e-02,\n",
       "          5.08823954e-02,  2.09832750e-02, -4.98714522e-02,\n",
       "          7.79161006e-02,  1.21061867e-02, -6.46016281e-03,\n",
       "          9.52209085e-02, -4.46708873e-02, -6.29290342e-02,\n",
       "          1.93204377e-02,  1.80783104e-02, -5.09758946e-03,\n",
       "          2.37771980e-02,  3.00683063e-02,  1.16002843e-01,\n",
       "         -1.48071283e-02, -1.16784656e-02,  4.25902121e-02,\n",
       "          1.26166185e-02,  2.24250890e-02, -3.65228974e-03,\n",
       "          1.43910125e-02, -1.19932937e-02, -7.86089674e-02,\n",
       "          3.51547487e-02,  2.85775773e-02,  7.12345988e-02,\n",
       "          1.13305002e-02, -1.51590025e-02, -1.11012664e-02,\n",
       "         -5.76942153e-02,  2.82934941e-02, -3.23272427e-03,\n",
       "          6.59021288e-02, -7.22159911e-03, -2.08577253e-02,\n",
       "         -1.10297710e-01,  9.17075500e-02,  1.49780987e-02,\n",
       "          4.71961237e-02,  3.70714702e-02,  1.10109355e-02,\n",
       "          1.62921324e-02,  6.66498393e-02,  3.04671638e-02,\n",
       "          5.42021766e-02,  1.81250181e-02,  2.36280169e-02,\n",
       "          2.65851188e-02,  2.69922707e-03,  7.74763003e-02,\n",
       "          2.72928290e-02, -6.88965917e-02, -3.62640023e-02]]),\n",
       " 'documents': None,\n",
       " 'uris': None,\n",
       " 'included': ['embeddings'],\n",
       " 'data': None,\n",
       " 'metadatas': None}"
      ]
     },
     "execution_count": 54,
     "metadata": {},
     "output_type": "execute_result"
    }
   ],
   "source": [
    "vecstore_from_directory.get(ids='c71c24e5-d701-4488-a21b-73755bfe8617',\n",
    "                            include=[\"embeddings\"])"
   ]
  },
  {
   "cell_type": "code",
   "execution_count": null,
   "metadata": {},
   "outputs": [],
   "source": []
  }
 ],
 "metadata": {
  "kernelspec": {
   "display_name": "Python 3",
   "language": "python",
   "name": "python3"
  },
  "language_info": {
   "codemirror_mode": {
    "name": "ipython",
    "version": 3
   },
   "file_extension": ".py",
   "mimetype": "text/x-python",
   "name": "python",
   "nbconvert_exporter": "python",
   "pygments_lexer": "ipython3",
   "version": "3.10.16"
  }
 },
 "nbformat": 4,
 "nbformat_minor": 5
}
