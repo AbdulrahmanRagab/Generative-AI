{
 "cells": [
  {
   "cell_type": "markdown",
   "id": "6bfdb6de",
   "metadata": {},
   "source": [
    "### Document Retrieval  \"Vector Store Retriever\"\n",
    "1- `Similarity Search`\n",
    "\n",
    "2- `Maximal Marginal Relevance - MMR`"
   ]
  },
  {
   "cell_type": "code",
   "execution_count": 1,
   "id": "5a13549c",
   "metadata": {},
   "outputs": [
    {
     "name": "stdout",
     "output_type": "stream",
     "text": [
      "OPENAI_API_KEY: value\n"
     ]
    }
   ],
   "source": [
    "import openai\n",
    "from openai import OpenAI\n",
    "import langchain\n",
    "import os\n",
    "# Step 1: Load environment variables\n",
    "%reload_ext dotenv\n",
    "%dotenv\n",
    "# Step 3: Access your OpenAI API key from environment variables\n",
    "for key, value in os.environ.items():\n",
    "    if key == \"OPENAI_API_KEY\":\n",
    "        print(f\"{key}: value\")\n",
    "client = OpenAI(api_key=os.getenv(\"OPENAI_API_KEY\"))\n"
   ]
  },
  {
   "cell_type": "code",
   "execution_count": 2,
   "id": "e9d2704e",
   "metadata": {},
   "outputs": [],
   "source": [
    "from langchain_openai.chat_models import ChatOpenAI"
   ]
  },
  {
   "cell_type": "code",
   "execution_count": 65,
   "id": "3fcb6b4b",
   "metadata": {},
   "outputs": [
    {
     "name": "stdout",
     "output_type": "stream",
     "text": [
      "I'm just a computer program, so I don't have feelings, but I'm here and ready to help you! How can I assist you today?\n"
     ]
    }
   ],
   "source": [
    "chat = ChatOpenAI(model='gpt-4o-mini', temperature=0,max_completion_tokens=70)\n",
    "response = chat.invoke(\"how are you chat gpt\")\n",
    "print(response.content)"
   ]
  },
  {
   "cell_type": "code",
   "execution_count": 4,
   "id": "c10a8d34",
   "metadata": {},
   "outputs": [],
   "source": [
    "from langchain_community.document_loaders import Docx2txtLoader\n",
    "from langchain_text_splitters.markdown import MarkdownHeaderTextSplitter\n",
    "from langchain_text_splitters.character import CharacterTextSplitter\n",
    "from langchain_openai.embeddings import OpenAIEmbeddings\n",
    "import numpy as np\n",
    "from langchain_community.vectorstores import Chroma\n",
    "from langchain.embeddings import HuggingFaceEmbeddings\n",
    "from langchain_core.documents import Document"
   ]
  },
  {
   "cell_type": "code",
   "execution_count": 5,
   "id": "e65446df",
   "metadata": {},
   "outputs": [
    {
     "name": "stderr",
     "output_type": "stream",
     "text": [
      "C:\\Users\\Abdelrahman\\AppData\\Local\\Temp\\ipykernel_21528\\1019514392.py:1: LangChainDeprecationWarning: The class `HuggingFaceEmbeddings` was deprecated in LangChain 0.2.2 and will be removed in 1.0. An updated version of the class exists in the :class:`~langchain-huggingface package and should be used instead. To use it run `pip install -U :class:`~langchain-huggingface` and import as `from :class:`~langchain_huggingface import HuggingFaceEmbeddings``.\n",
      "  embedding = HuggingFaceEmbeddings(model_name=\"all-MiniLM-L6-v2\")\n",
      "c:\\Users\\Abdelrahman\\Documents\\NLP\\Open AI\\LANGCHAIN\\venv\\lib\\site-packages\\tqdm\\auto.py:21: TqdmWarning: IProgress not found. Please update jupyter and ipywidgets. See https://ipywidgets.readthedocs.io/en/stable/user_install.html\n",
      "  from .autonotebook import tqdm as notebook_tqdm\n"
     ]
    }
   ],
   "source": [
    "embedding = HuggingFaceEmbeddings(model_name=\"all-MiniLM-L6-v2\")"
   ]
  },
  {
   "cell_type": "code",
   "execution_count": 11,
   "id": "46d2adf9",
   "metadata": {},
   "outputs": [],
   "source": [
    "vectorstore = Chroma(persist_directory=\"my_chroma_store\",\n",
    "                                 embedding_function=embedding)"
   ]
  },
  {
   "cell_type": "code",
   "execution_count": 12,
   "id": "6a1e8fc6",
   "metadata": {},
   "outputs": [
    {
     "data": {
      "text/plain": [
       "{'ids': ['48692bc0-61e7-43e5-887b-d0b9df9188fc',\n",
       "  'c71c24e5-d701-4488-a21b-73755bfe8617',\n",
       "  '7c234662-f12c-4c55-9d89-ecfbaefd39e9',\n",
       "  '210339ba-d0df-4532-8ccc-ff617ff97fa1',\n",
       "  'b7463370-048a-4745-829f-4225bcf06ca1',\n",
       "  '6e908eba-32e9-452d-ba95-6fbb0c80b5e3',\n",
       "  'fc7c2ed2-f02e-420d-a0ac-04b18c2c4047',\n",
       "  '7e0b2a71-17ed-44ce-9db6-4209d41aeedf',\n",
       "  '37c29e75-751a-4da0-abc0-c092bd0e6a1b',\n",
       "  '4a65603a-6b4e-43d8-82f1-3ed53f2be7ad',\n",
       "  '93e5f93f-d28e-483b-8657-f0df2b54c236',\n",
       "  'c02cd1ac-1db4-491d-9eee-34109cccf315',\n",
       "  'f1bb986c-e258-428a-a774-0260488a450d',\n",
       "  'bf73a5c2-7ceb-4e43-a269-4a733377148b',\n",
       "  '2c632882-27f2-4d76-af06-45cf26e27335',\n",
       "  '29d72697-dc71-4d98-9182-1c335f557a6e',\n",
       "  '679591a8-0cf7-43f6-9922-83fd2e7f9be5',\n",
       "  '0e2df61a-c6f6-4792-87a9-8dd23478edac',\n",
       "  'a1e67d3d-6380-4333-b9d9-fc794a3773a4',\n",
       "  'b3458dbe-cb82-4947-99c8-a4bf70414c47'],\n",
       " 'embeddings': None,\n",
       " 'documents': ['Alright! So… Let’s discuss the not-so-obvious differences between the terms analysis and analytics. Due to the similarity of the words, some people believe they share the same meaning, and thus use them interchangeably. Technically, this isn’t correct. There is, in fact, a distinct difference between the two. And the reason for one often being used instead of the other is the lack of a transparent understanding of both. So, let’s clear this up, shall we? First, we will start with analysis. Consi',\n",
       "  'hall we? First, we will start with analysis. Consider the following… You have a huge dataset containing data of various types. Instead of tackling the entire dataset and running the risk of becoming overwhelmed, you separate it into easier to digest chunks and study them individually and examine how they relate to other parts. And that’s analysis in a nutshell. One important thing to remember, however, is that you perform analyses on things that have already happened in the past. Such as using a',\n",
       "  'have already happened in the past. Such as using an analysis to explain how a story ended the way it did or how there was a decrease in sales last summer. All this means that we do analyses to explain how and/or why something happened. Great! Now, this leads us nicely on to the definition of analytics. As you have probably guessed, analytics generally refers to the future. Instead of explaining past events it explores potential future ones. Analytics is essentially the application of logical and',\n",
       "  'tics is essentially the application of logical and computational reasoning to the component parts obtained in an analysis. And in doing this you are looking for patterns and exploring what you could do with them in the future. Here, analytics branches off into two areas: qualitative analytics – this is using your intuition and experience in conjunction with the analysis to plan your next business move. And quantitative analytics – this is applying formulas and algorithms to numbers you have gath',\n",
       "  \"g formulas and algorithms to numbers you have gathered from your analysis. Here are a couple of examples. Say, you are an owner of an online clothing store. You are ahead of the competition and have a great understanding of what your customer's needs and wants are. You’ve performed a very detailed analysis from women’s clothing articles and feel sure about which fashion trends to follow. You may use this intuition to decide on which styles of clothing to start selling. This would be qualitative\",\n",
       "  'thing to start selling. This would be qualitative analytics. But you might not know when to introduce the new collection. In that case, relying on past sales data and user experience data, you could predict in which month it would be best to do that. This is an example of using quantitative analytics. Fantastic! To backtrack a little, you can combine these areas with analyses also – you could perform qualitative analysis – to explain how or why a story ended the way it did. And you can perform q',\n",
       "  'story ended the way it did. And you can perform quantitative analysis – working with past data to explain how sales decreased last summer. Perfect! Now that we have cleared up the differences between analysis and analytics it shouldn’t be too difficult to see how terms such as ‘data analysis’, ‘data analytics’, ‘business analysis’ and ‘business analytics’ can have their unique meanings too. More of this will be explained in the next video which aims to simplify these, as well as many more with',\n",
       "  'aims to simplify these, as well as many more with a fantastic diagram. So, let’s move on!',\n",
       "  'Alright! So… How are the techniques used in data, business intelligence, or predictive analytics applied in real life? Certainly, with the help of computers. You can basically split the relevant tools into two categories—programming languages and software. Knowing a programming language enables you to devise programs that can execute specific operations. Moreover, you can reuse these programs whenever you need to execute the same action. As you can see from the infographic, R, and Python are the',\n",
       "  'an see from the infographic, R, and Python are the two most popular tools across all columns. Their biggest advantage is that they can manipulate data and are integrated within multiple data and data science software platforms. They are not just suitable for mathematical and statistical computations. In other words, R, and Python are adaptable. They can solve a wide variety of business and data-related problems from beginning to the end. Of course, R, and Python do have their limitations. They a',\n",
       "  'e, R, and Python do have their limitations. They are not able to address problems specific to some domains. One example is ‘relational database management systems’—there, SQL is king. It was specifically created for that purpose. SQL is at its most advantageous when working with traditional, historical data. When preparing your BI analysis, for instance, you will surely employ it. Okay. When it comes to data science, mentioning MATLAB is inevitable. It is ideal for working with mathematical func',\n",
       "  'le. It is ideal for working with mathematical functions or matrix manipulations. That’s why it is present in all categories except for ‘big data’. While respectable, MATLAB usage is a paid service, and that’s one of the reasons why it is losing ground to open-source languages like R and Python. Either way, R, Python, and MATLAB, combined with SQL, cover most of the tools used when working with traditional data, BI, and conventional data science. What about big data? Apart from R and Python, peop',\n",
       "  'What about big data? Apart from R and Python, people working in this area are often proficient in other languages like Java or Scala. These two have not been developed specifically for doing statistical analyses, however they turn out to be very useful when combining data from multiple sources. All right! Let’s finish off with machine learning. When it comes to machine learning, we often deal with big data. Thus, we need a lot of computational power, and we can expect people to use the languages',\n",
       "  'wer, and we can expect people to use the languages similar to those in the big data column. Apart from R, Python, and MATLAB, other, faster languages are used like Java, JavaScript, C, C++, and Scala. Cool. What we said may be wonderful, but that’s not all! By using one or more programming languages, people create application software or, as they are sometimes called, software solutions, that are adjusted for specific business needs. Their smaller scope does not make them less useful, in fact, j',\n",
       "  'r scope does not make them less useful, in fact, just the opposite—they are a lot easier to learn and be adopted by others. You have already heard of several of those. Because of its ability to do relatively complex computations and good visualizations quickly, Excel is a tool applicable to more than one category—traditional data, BI, and Data Science. Similarly, SPSS is a very famous tool for working with traditional data and applying statistical analysis. Among the many applications we have pl',\n",
       "  'l analysis. Among the many applications we have plotted, we can say there is an increasing amount of software designed for working with big data such as Apache Hadoop, Apache Hbase, and Mongo DB. In terms of big data, Hadoop is the name that must stick with you. Hadoop is listed as a software in the sense that it is a collection of programs, but don’t imagine it as a nice-looking application. It’s actually a software framework which was designed to address the complexity of big data and its comp',\n",
       "  'to address the complexity of big data and its computational intensity. Most notably, Hadoop distributes the computational tasks on multiple computers which is basically the way to handle big data nowadays. Power BI, SaS, Qlik, and especially Tableau are top-notch examples of software designed for business intelligence visualizations. In terms of predictive analytics, EViews is mostly used for working with econometric time-series models, and Stata—for academic statistical and econometric research',\n",
       "  '—for academic statistical and econometric research, where techniques like regression, cluster, and factor analysis are constantly applied. As a final note, remember the following. Should you have the relevant business and theoretical knowledge, learning a software tool is relatively easy as opposed to learning a programming language. More importantly, it will be sufficient for your need to create quick and accurate analyses. However, if your theoretical preparation is strong enough, you will fin',\n",
       "  'retical preparation is strong enough, you will find yourself restricted by software. Knowing a programming language such as R and Python, gives you the freedom to create specific, ad-hoc tools for each project you are working on. Great! We hope we gave you a good idea about the level of applicability of the most frequently used programming and software tools in the field of data science. Thank you for watching!',\n",
       "  'Alright! So… How are the techniques used in data, business intelligence, or predictive analytics applied in real life? Certainly, with the help of computers. You can basically split the relevant tools into two categories—programming languages and software. Knowing a programming language enables you to devise programs that can execute specific operations. Moreover, you can reuse these programs whenever you need to execute the same action'],\n",
       " 'uris': None,\n",
       " 'included': ['metadatas', 'documents'],\n",
       " 'data': None,\n",
       " 'metadatas': [{'H2 Lecture Content': 'Analysis vs Analytics',\n",
       "   'H1 Course Tiltle': 'Introduction to Data and Data Science'},\n",
       "  {'H2 Lecture Content': 'Analysis vs Analytics',\n",
       "   'H1 Course Tiltle': 'Introduction to Data and Data Science'},\n",
       "  {'H1 Course Tiltle': 'Introduction to Data and Data Science',\n",
       "   'H2 Lecture Content': 'Analysis vs Analytics'},\n",
       "  {'H2 Lecture Content': 'Analysis vs Analytics',\n",
       "   'H1 Course Tiltle': 'Introduction to Data and Data Science'},\n",
       "  {'H1 Course Tiltle': 'Introduction to Data and Data Science',\n",
       "   'H2 Lecture Content': 'Analysis vs Analytics'},\n",
       "  {'H2 Lecture Content': 'Analysis vs Analytics',\n",
       "   'H1 Course Tiltle': 'Introduction to Data and Data Science'},\n",
       "  {'H2 Lecture Content': 'Analysis vs Analytics',\n",
       "   'H1 Course Tiltle': 'Introduction to Data and Data Science'},\n",
       "  {'H2 Lecture Content': 'Analysis vs Analytics',\n",
       "   'H1 Course Tiltle': 'Introduction to Data and Data Science'},\n",
       "  {'H1 Course Tiltle': 'Introduction to Data and Data Science',\n",
       "   'H2 Lecture Content': 'Programming Languages & Software Employed in Data Science - All the Tools You Need'},\n",
       "  {'H1 Course Tiltle': 'Introduction to Data and Data Science',\n",
       "   'H2 Lecture Content': 'Programming Languages & Software Employed in Data Science - All the Tools You Need'},\n",
       "  {'H2 Lecture Content': 'Programming Languages & Software Employed in Data Science - All the Tools You Need',\n",
       "   'H1 Course Tiltle': 'Introduction to Data and Data Science'},\n",
       "  {'H1 Course Tiltle': 'Introduction to Data and Data Science',\n",
       "   'H2 Lecture Content': 'Programming Languages & Software Employed in Data Science - All the Tools You Need'},\n",
       "  {'H1 Course Tiltle': 'Introduction to Data and Data Science',\n",
       "   'H2 Lecture Content': 'Programming Languages & Software Employed in Data Science - All the Tools You Need'},\n",
       "  {'H1 Course Tiltle': 'Introduction to Data and Data Science',\n",
       "   'H2 Lecture Content': 'Programming Languages & Software Employed in Data Science - All the Tools You Need'},\n",
       "  {'H2 Lecture Content': 'Programming Languages & Software Employed in Data Science - All the Tools You Need',\n",
       "   'H1 Course Tiltle': 'Introduction to Data and Data Science'},\n",
       "  {'H2 Lecture Content': 'Programming Languages & Software Employed in Data Science - All the Tools You Need',\n",
       "   'H1 Course Tiltle': 'Introduction to Data and Data Science'},\n",
       "  {'H1 Course Tiltle': 'Introduction to Data and Data Science',\n",
       "   'H2 Lecture Content': 'Programming Languages & Software Employed in Data Science - All the Tools You Need'},\n",
       "  {'H2 Lecture Content': 'Programming Languages & Software Employed in Data Science - All the Tools You Need',\n",
       "   'H1 Course Tiltle': 'Introduction to Data and Data Science'},\n",
       "  {'H2 Lecture Content': 'Programming Languages & Software Employed in Data Science - All the Tools You Need',\n",
       "   'H1 Course Tiltle': 'Introduction to Data and Data Science'},\n",
       "  {'Course Title': 'Introduction to Data and Data Science',\n",
       "   'Lecture Title': 'Programming Languages & Software Employed in Data Science - All the Tools You Need'}]}"
      ]
     },
     "execution_count": 12,
     "metadata": {},
     "output_type": "execute_result"
    }
   ],
   "source": [
    "vectorstore.get()"
   ]
  },
  {
   "cell_type": "markdown",
   "id": "d8da996a",
   "metadata": {},
   "source": [
    "#### 1- Similarity Search"
   ]
  },
  {
   "cell_type": "code",
   "execution_count": 13,
   "id": "96205728",
   "metadata": {},
   "outputs": [],
   "source": [
    "add_doc = Document(page_content= \"Alright! So… How are the techniques used in data, business intelligence, or predictive analytics applied in real life? Certainly, with the help of computers. You can basically split the relevant tools into two categories—programming languages and software. Knowing a programming language enables you to devise programs that can execute specific operations. Moreover, you can reuse these programs whenever you need to execute the same action\",\n",
    "                   metadata = {'Course Title': 'Introduction to Data and Data Science', \n",
    "                                    'Lecture Title': 'Programming Languages & Software Employed in Data Science - All the Tools You Need'}\n",
    "                                    )"
   ]
  },
  {
   "cell_type": "code",
   "execution_count": 14,
   "id": "d7db5982",
   "metadata": {},
   "outputs": [
    {
     "data": {
      "text/plain": [
       "['2827a83d-3bd6-47a1-a44d-48db979d192c']"
      ]
     },
     "execution_count": 14,
     "metadata": {},
     "output_type": "execute_result"
    }
   ],
   "source": [
    "vectorstore.add_documents([add_doc])"
   ]
  },
  {
   "cell_type": "code",
   "execution_count": 16,
   "id": "a3a05452",
   "metadata": {},
   "outputs": [
    {
     "data": {
      "text/plain": [
       "21"
      ]
     },
     "execution_count": 16,
     "metadata": {},
     "output_type": "execute_result"
    }
   ],
   "source": [
    "len(vectorstore.get()['ids'])"
   ]
  },
  {
   "cell_type": "code",
   "execution_count": 17,
   "id": "8a4fc0d4",
   "metadata": {},
   "outputs": [],
   "source": [
    "vectorstore.delete('2827a83d-3bd6-47a1-a44d-48db979d192c')"
   ]
  },
  {
   "cell_type": "code",
   "execution_count": 18,
   "id": "cc3932b6",
   "metadata": {},
   "outputs": [
    {
     "data": {
      "text/plain": [
       "20"
      ]
     },
     "execution_count": 18,
     "metadata": {},
     "output_type": "execute_result"
    }
   ],
   "source": [
    "len(vectorstore.get()['ids'])"
   ]
  },
  {
   "cell_type": "code",
   "execution_count": 19,
   "id": "66edf283",
   "metadata": {},
   "outputs": [],
   "source": [
    "question = \"What programming languages do data scientists use?\""
   ]
  },
  {
   "cell_type": "code",
   "execution_count": 26,
   "id": "77bb4e51",
   "metadata": {},
   "outputs": [
    {
     "data": {
      "text/plain": [
       "[Document(metadata={'H1 Course Tiltle': 'Introduction to Data and Data Science', 'H2 Lecture Content': 'Programming Languages & Software Employed in Data Science - All the Tools You Need'}, page_content='wer, and we can expect people to use the languages similar to those in the big data column. Apart from R, Python, and MATLAB, other, faster languages are used like Java, JavaScript, C, C++, and Scala. Cool. What we said may be wonderful, but that’s not all! By using one or more programming languages, people create application software or, as they are sometimes called, software solutions, that are adjusted for specific business needs. Their smaller scope does not make them less useful, in fact, j'),\n",
       " Document(metadata={'H2 Lecture Content': 'Programming Languages & Software Employed in Data Science - All the Tools You Need', 'H1 Course Tiltle': 'Introduction to Data and Data Science'}, page_content='le. It is ideal for working with mathematical functions or matrix manipulations. That’s why it is present in all categories except for ‘big data’. While respectable, MATLAB usage is a paid service, and that’s one of the reasons why it is losing ground to open-source languages like R and Python. Either way, R, Python, and MATLAB, combined with SQL, cover most of the tools used when working with traditional data, BI, and conventional data science. What about big data? Apart from R and Python, peop'),\n",
       " Document(metadata={'H1 Course Tiltle': 'Introduction to Data and Data Science', 'H2 Lecture Content': 'Programming Languages & Software Employed in Data Science - All the Tools You Need'}, page_content='an see from the infographic, R, and Python are the two most popular tools across all columns. Their biggest advantage is that they can manipulate data and are integrated within multiple data and data science software platforms. They are not just suitable for mathematical and statistical computations. In other words, R, and Python are adaptable. They can solve a wide variety of business and data-related problems from beginning to the end. Of course, R, and Python do have their limitations. They a'),\n",
       " Document(metadata={'H2 Lecture Content': 'Programming Languages & Software Employed in Data Science - All the Tools You Need', 'H1 Course Tiltle': 'Introduction to Data and Data Science'}, page_content='retical preparation is strong enough, you will find yourself restricted by software. Knowing a programming language such as R and Python, gives you the freedom to create specific, ad-hoc tools for each project you are working on. Great! We hope we gave you a good idea about the level of applicability of the most frequently used programming and software tools in the field of data science. Thank you for watching!'),\n",
       " Document(metadata={'H2 Lecture Content': 'Programming Languages & Software Employed in Data Science - All the Tools You Need', 'H1 Course Tiltle': 'Introduction to Data and Data Science'}, page_content='Alright! So… How are the techniques used in data, business intelligence, or predictive analytics applied in real life? Certainly, with the help of computers. You can basically split the relevant tools into two categories—programming languages and software. Knowing a programming language enables you to devise programs that can execute specific operations. Moreover, you can reuse these programs whenever you need to execute the same action. As you can see from the infographic, R, and Python are the')]"
      ]
     },
     "execution_count": 26,
     "metadata": {},
     "output_type": "execute_result"
    }
   ],
   "source": [
    "retrieved_docs = vectorstore.similarity_search(query=question, k=5)\n",
    "retrieved_docs"
   ]
  },
  {
   "cell_type": "markdown",
   "id": "51198b6d",
   "metadata": {},
   "source": [
    "When you call vectorstore.similarity_search(query=question, k=5), ChromaDB:\n",
    "Embeds the query (question) using the same embedding model.\n",
    "Compares the query's vector against stored document vectors.\n",
    "Returns the top k=5 most similar documents."
   ]
  },
  {
   "cell_type": "code",
   "execution_count": 27,
   "metadata": {},
   "outputs": [
    {
     "name": "stdout",
     "output_type": "stream",
     "text": [
      "Page Content: wer, and we can expect people to use the languages similar to those in the big data column. Apart from R, Python, and MATLAB, other, faster languages are used like Java, JavaScript, C, C++, and Scala. Cool. What we said may be wonderful, but that’s not all! By using one or more programming languages, people create application software or, as they are sometimes called, software solutions, that are adjusted for specific business needs. Their smaller scope does not make them less useful, in fact, j\n",
      "----------\n",
      "Lecture Content:Programming Languages & Software Employed in Data Science - All the Tools You Need\n",
      "\n",
      "Page Content: le. It is ideal for working with mathematical functions or matrix manipulations. That’s why it is present in all categories except for ‘big data’. While respectable, MATLAB usage is a paid service, and that’s one of the reasons why it is losing ground to open-source languages like R and Python. Either way, R, Python, and MATLAB, combined with SQL, cover most of the tools used when working with traditional data, BI, and conventional data science. What about big data? Apart from R and Python, peop\n",
      "----------\n",
      "Lecture Content:Programming Languages & Software Employed in Data Science - All the Tools You Need\n",
      "\n",
      "Page Content: an see from the infographic, R, and Python are the two most popular tools across all columns. Their biggest advantage is that they can manipulate data and are integrated within multiple data and data science software platforms. They are not just suitable for mathematical and statistical computations. In other words, R, and Python are adaptable. They can solve a wide variety of business and data-related problems from beginning to the end. Of course, R, and Python do have their limitations. They a\n",
      "----------\n",
      "Lecture Content:Programming Languages & Software Employed in Data Science - All the Tools You Need\n",
      "\n",
      "Page Content: retical preparation is strong enough, you will find yourself restricted by software. Knowing a programming language such as R and Python, gives you the freedom to create specific, ad-hoc tools for each project you are working on. Great! We hope we gave you a good idea about the level of applicability of the most frequently used programming and software tools in the field of data science. Thank you for watching!\n",
      "----------\n",
      "Lecture Content:Programming Languages & Software Employed in Data Science - All the Tools You Need\n",
      "\n",
      "Page Content: Alright! So… How are the techniques used in data, business intelligence, or predictive analytics applied in real life? Certainly, with the help of computers. You can basically split the relevant tools into two categories—programming languages and software. Knowing a programming language enables you to devise programs that can execute specific operations. Moreover, you can reuse these programs whenever you need to execute the same action. As you can see from the infographic, R, and Python are the\n",
      "----------\n",
      "Lecture Content:Programming Languages & Software Employed in Data Science - All the Tools You Need\n",
      "\n"
     ]
    }
   ],
   "source": [
    "for i in retrieved_docs:\n",
    "    print(f\"Page Content: {i.page_content}\\n----------\\nLecture Content:{i.metadata['H2 Lecture Content']}\\n\")"
   ]
  },
  {
   "cell_type": "markdown",
   "id": "1a24e34e",
   "metadata": {},
   "source": [
    "In the previous lesson, we explored semantic similarity search, a technique that retrieves documents most similar to a user's query using vector-based matching. While effective in finding relevant content, this method has limitations—especially when the dataset contains duplicate or highly similar documents. In such cases, the search can return redundant results, potentially overlooking more diverse and useful information."
   ]
  },
  {
   "cell_type": "markdown",
   "id": "c9d6a2a6",
   "metadata": {},
   "source": [
    "#### 2- Maximal Marginal Relevance Search MMR\n",
    " Limitations of Similarity Search\n",
    "- Ranks documents **solely** by query match quality\n",
    "- **Key drawback**: \n",
    "  - Returns near-identical documents when available\n",
    "  - Reduces diversity in result sets\n",
    " The Marginal Relevance Formula\n",
    "```math\n",
    "Marginal\\ Relevance = λ × Relevance − (1 − λ) × Redundancy\n",
    "```\n",
    " Lambda (λ) Interpretation\n",
    "| λ Value | Priority | Effect |\n",
    "|---------|----------|--------|\n",
    "| **λ → 1** | Relevance | Similar to standard similarity search |\n",
    "| **λ → 0** | Diversity | Favors unique documents over relevance |\n",
    " Practical Examples\n",
    " 1. Standard Similarity Search\n",
    "**Behavior**:\n",
    "- Returns documents focused on programming languages (R, Python)\n",
    "- Includes duplicates/similar documents\n",
    "- **Problem**: Little new information in top results\n",
    " 2. MMR with λ = 0.1 (Diversity-Focused)\n",
    "**Results**:\n",
    "- Includes wider content variety\n",
    "- May show unrelated documents\n",
    "- **Tradeoff**: Higher diversity, lower relevance\n",
    " 3. MMR with λ = 1 (Pure Relevance)\n",
    "**Behavior**:\n",
    "- Matches standard similarity search\n",
    "- **Problem**: Returns redundant results\n",
    "- **Outcome**: Minimal variation in returned documents\n",
    "```\n",
    "Key improvements made:\n",
    "1. Added hierarchical headers for better structure\n",
    "2. Created a clean table for λ value effects\n",
    "3. Used math formatting for the equation\n",
    "4. Organized examples into clear subsections\n",
    "5. Improved bullet point consistency\n",
    "6. Added emphasis to key terms\n",
    "Would you like me to add any additional sections or explanations?"
   ]
  },
  {
   "cell_type": "code",
   "execution_count": 53,
   "metadata": {},
   "outputs": [
    {
     "data": {
      "text/plain": [
       "[Document(metadata={'H1 Course Tiltle': 'Introduction to Data and Data Science', 'H2 Lecture Content': 'Programming Languages & Software Employed in Data Science - All the Tools You Need'}, page_content='wer, and we can expect people to use the languages similar to those in the big data column. Apart from R, Python, and MATLAB, other, faster languages are used like Java, JavaScript, C, C++, and Scala. Cool. What we said may be wonderful, but that’s not all! By using one or more programming languages, people create application software or, as they are sometimes called, software solutions, that are adjusted for specific business needs. Their smaller scope does not make them less useful, in fact, j'),\n",
       " Document(metadata={'H2 Lecture Content': 'Programming Languages & Software Employed in Data Science - All the Tools You Need', 'H1 Course Tiltle': 'Introduction to Data and Data Science'}, page_content='retical preparation is strong enough, you will find yourself restricted by software. Knowing a programming language such as R and Python, gives you the freedom to create specific, ad-hoc tools for each project you are working on. Great! We hope we gave you a good idea about the level of applicability of the most frequently used programming and software tools in the field of data science. Thank you for watching!'),\n",
       " Document(metadata={'H2 Lecture Content': 'Programming Languages & Software Employed in Data Science - All the Tools You Need', 'H1 Course Tiltle': 'Introduction to Data and Data Science'}, page_content='Alright! So… How are the techniques used in data, business intelligence, or predictive analytics applied in real life? Certainly, with the help of computers. You can basically split the relevant tools into two categories—programming languages and software. Knowing a programming language enables you to devise programs that can execute specific operations. Moreover, you can reuse these programs whenever you need to execute the same action. As you can see from the infographic, R, and Python are the')]"
      ]
     },
     "execution_count": 53,
     "metadata": {},
     "output_type": "execute_result"
    }
   ],
   "source": [
    "retrieved_docs = vectorstore.max_marginal_relevance_search(query=question,\n",
    "                                                           k=3,\n",
    "                                                           lambda_mult= 0.6)\n",
    "                                                           #filter = {\"Lecture Title\": \"Programming Languages & Software Employed in Data Science - All the Tools You Need\"})\n",
    "retrieved_docs"
   ]
  },
  {
   "cell_type": "code",
   "execution_count": 54,
   "id": "250548f6",
   "metadata": {},
   "outputs": [
    {
     "data": {
      "text/plain": [
       "20"
      ]
     },
     "execution_count": 54,
     "metadata": {},
     "output_type": "execute_result"
    }
   ],
   "source": [
    "len(vectorstore.get()['documents'])"
   ]
  },
  {
   "cell_type": "code",
   "execution_count": 56,
   "id": "ac1cd245",
   "metadata": {},
   "outputs": [],
   "source": [
    "retrievr = vectorstore.as_retriever(search_type = 'mmr',\n",
    "                                    search_Kwargs = {'k' : 3,\n",
    "                                                     'lambda_mult' : 0.7})"
   ]
  },
  {
   "cell_type": "code",
   "execution_count": 57,
   "id": "d50617a0",
   "metadata": {},
   "outputs": [
    {
     "data": {
      "text/plain": [
       "VectorStoreRetriever(tags=['Chroma', 'HuggingFaceEmbeddings'], vectorstore=<langchain_community.vectorstores.chroma.Chroma object at 0x0000025D2FE4D480>, search_type='mmr', search_kwargs={})"
      ]
     },
     "execution_count": 57,
     "metadata": {},
     "output_type": "execute_result"
    }
   ],
   "source": [
    "retrievr"
   ]
  },
  {
   "cell_type": "code",
   "execution_count": 58,
   "metadata": {},
   "outputs": [
    {
     "data": {
      "text/plain": [
       "[Document(metadata={'H1 Course Tiltle': 'Introduction to Data and Data Science', 'H2 Lecture Content': 'Programming Languages & Software Employed in Data Science - All the Tools You Need'}, page_content='Alright! So… How are the techniques used in data, business intelligence, or predictive analytics applied in real life? Certainly, with the help of computers. You can basically split the relevant tools into two categories—programming languages and software. Knowing a programming language enables you to devise programs that can execute specific operations. Moreover, you can reuse these programs whenever you need to execute the same action. As you can see from the infographic, R, and Python are the'),\n",
       " Document(metadata={'H1 Course Tiltle': 'Introduction to Data and Data Science', 'H2 Lecture Content': 'Programming Languages & Software Employed in Data Science - All the Tools You Need'}, page_content='an see from the infographic, R, and Python are the two most popular tools across all columns. Their biggest advantage is that they can manipulate data and are integrated within multiple data and data science software platforms. They are not just suitable for mathematical and statistical computations. In other words, R, and Python are adaptable. They can solve a wide variety of business and data-related problems from beginning to the end. Of course, R, and Python do have their limitations. They a'),\n",
       " Document(metadata={'H2 Lecture Content': 'Programming Languages & Software Employed in Data Science - All the Tools You Need', 'H1 Course Tiltle': 'Introduction to Data and Data Science'}, page_content='l analysis. Among the many applications we have plotted, we can say there is an increasing amount of software designed for working with big data such as Apache Hadoop, Apache Hbase, and Mongo DB. In terms of big data, Hadoop is the name that must stick with you. Hadoop is listed as a software in the sense that it is a collection of programs, but don’t imagine it as a nice-looking application. It’s actually a software framework which was designed to address the complexity of big data and its comp'),\n",
       " Document(metadata={'H1 Course Tiltle': 'Introduction to Data and Data Science', 'H2 Lecture Content': 'Programming Languages & Software Employed in Data Science - All the Tools You Need'}, page_content='retical preparation is strong enough, you will find yourself restricted by software. Knowing a programming language such as R and Python, gives you the freedom to create specific, ad-hoc tools for each project you are working on. Great! We hope we gave you a good idea about the level of applicability of the most frequently used programming and software tools in the field of data science. Thank you for watching!')]"
      ]
     },
     "execution_count": 58,
     "metadata": {},
     "output_type": "execute_result"
    }
   ],
   "source": [
    "question = \"What software do data scientists use?\"\n",
    "retrieved_docs = retrievr.invoke(question)\n",
    "retrieved_docs"
   ]
  },
  {
   "cell_type": "markdown",
   "id": "e3a9fe2f",
   "metadata": {},
   "source": [
    "#### Example"
   ]
  },
  {
   "cell_type": "code",
   "execution_count": 71,
   "id": "88177215",
   "metadata": {},
   "outputs": [],
   "source": [
    "from langchain_core.prompts import HumanMessagePromptTemplate,ChatPromptTemplate\n",
    "from langchain.schema.runnable import RunnablePassthrough\n",
    "from langchain_core.output_parsers import StrOutputParser"
   ]
  },
  {
   "cell_type": "code",
   "execution_count": 60,
   "id": "4ee02e05",
   "metadata": {},
   "outputs": [],
   "source": [
    "retrievr = vectorstore.as_retriever(search_type='mmr',\n",
    "                                    search_kwargs = {'k':3,\n",
    "                                                     'lambda_mult':0.7})"
   ]
  },
  {
   "cell_type": "code",
   "execution_count": 62,
   "metadata": {},
   "outputs": [],
   "source": [
    "hum_message_template = '''\n",
    "Answer the following question:\n",
    "{question}\n",
    "\n",
    "To answer the question, use only the following context:\n",
    "{context}\n",
    "\n",
    "At the end of the response, specify the name of the lecture this context is taken from in the format:\n",
    "Resources: *Lecture Title*\n",
    "where *Lecture Title* should be substituted with the title of all resource lectures.\n",
    "'''"
   ]
  },
  {
   "cell_type": "code",
   "execution_count": 64,
   "id": "72aac930",
   "metadata": {},
   "outputs": [],
   "source": [
    "hum_prompt_template = HumanMessagePromptTemplate.from_template(hum_message_template)\n",
    "chat_template = ChatPromptTemplate.from_messages([hum_prompt_template])"
   ]
  },
  {
   "cell_type": "code",
   "execution_count": 66,
   "metadata": {},
   "outputs": [],
   "source": [
    "question = \"What software do data scientists use?\""
   ]
  },
  {
   "cell_type": "code",
   "execution_count": null,
   "id": "a7acbb4b",
   "metadata": {},
   "outputs": [],
   "source": [
    "chain = ({'context' : retrievr,\n",
    "         'question' : RunnablePassthrough()}\n",
    "        | chat_template | chat | StrOutputParser())"
   ]
  },
  {
   "cell_type": "code",
   "execution_count": 74,
   "id": "24e20227",
   "metadata": {},
   "outputs": [
    {
     "data": {
      "text/plain": [
       "'Data scientists use a variety of software and programming languages to manipulate data and solve business-related problems. The two most popular programming languages in this field are R and Python, which are adaptable and integrated within multiple data science software platforms. Additionally, for working with big data, software such as Apache Hadoop, Apache Hbase, and MongoDB are commonly employed.'"
      ]
     },
     "execution_count": 74,
     "metadata": {},
     "output_type": "execute_result"
    }
   ],
   "source": [
    "response = chain.invoke(question)\n",
    "response"
   ]
  },
  {
   "cell_type": "markdown",
   "id": "4f2c275a",
   "metadata": {},
   "source": [
    "This is a LangChain Runnable chain using the new | (pipe) syntax.\n",
    "Let’s walk through it:\n",
    "Input:\n",
    "\n",
    "* The input is a string (e.g., \"What software do data scientists use?\").\n",
    "\n",
    "Step 1: {'context': retrievr, 'question': RunnablePassthrough()}\n",
    "\n",
    "* RunnablePassthrough() passes the input directly through as the question.\n",
    "* retrievr runs the question through the vector store to fetch 3 relevant documents as context.\n",
    "* Output is a dictionary:\n",
    "pythonDownloadCopy code Wrap{\n",
    "  'context': [Document(page_content='...', metadata={'source': 'Lecture 1.pdf'}), ...],\n",
    "  'question': 'What software do data scientists use?'\n",
    "}\n",
    "\n",
    "\n",
    "Step 2: | chat_template\n",
    "\n",
    "* The chat_template uses the context and question to format a prompt for the LLM.\n",
    "\n",
    "Step 3: | chat\n",
    "\n",
    "* chat is an LLM (e.g., OpenAI's GPT-3.5 or GPT-4).\n",
    "* It receives the formatted prompt and generates a response.\n",
    "\n",
    "Step 4: | StrOutputParser()\n",
    "\n",
    "* Parses the LLM’s output into a plain string (instead of a complex output object).\n",
    "* Makes the final result easy to use.\n",
    "\n",
    "\n",
    "✅ The entire chain combines retrieval + prompt engineering + LLM reasoning + output parsing."
   ]
  }
 ],
 "metadata": {
  "kernelspec": {
   "display_name": "Python 3",
   "language": "python",
   "name": "python3"
  },
  "language_info": {
   "codemirror_mode": {
    "name": "ipython",
    "version": 3
   },
   "file_extension": ".py",
   "mimetype": "text/x-python",
   "name": "python",
   "nbconvert_exporter": "python",
   "pygments_lexer": "ipython3",
   "version": "3.10.16"
  }
 },
 "nbformat": 4,
 "nbformat_minor": 5
}
