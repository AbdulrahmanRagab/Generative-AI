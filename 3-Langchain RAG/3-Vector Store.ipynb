{
 "cells": [
  {
   "cell_type": "markdown",
   "id": "6bfdb6de",
   "metadata": {},
   "source": [
    "### Document Embedding and Storing"
   ]
  },
  {
   "cell_type": "code",
   "execution_count": 1,
   "id": "5a13549c",
   "metadata": {},
   "outputs": [
    {
     "name": "stdout",
     "output_type": "stream",
     "text": [
      "OPENAI_API_KEY: value\n"
     ]
    }
   ],
   "source": [
    "import openai\n",
    "from openai import OpenAI\n",
    "import langchain\n",
    "import os\n",
    "# Step 1: Load environment variables\n",
    "%reload_ext dotenv\n",
    "%dotenv\n",
    "# Step 3: Access your OpenAI API key from environment variables\n",
    "for key, value in os.environ.items():\n",
    "    if key == \"OPENAI_API_KEY\":\n",
    "        print(f\"{key}: value\")\n",
    "client = OpenAI(api_key=os.getenv(\"OPENAI_API_KEY\"))\n"
   ]
  },
  {
   "cell_type": "code",
   "execution_count": 2,
   "id": "e9d2704e",
   "metadata": {},
   "outputs": [],
   "source": [
    "from langchain_openai.chat_models import ChatOpenAI"
   ]
  },
  {
   "cell_type": "code",
   "execution_count": 3,
   "id": "3fcb6b4b",
   "metadata": {},
   "outputs": [
    {
     "name": "stdout",
     "output_type": "stream",
     "text": [
      "I'm just a computer program, so I don't have feelings, but I'm here and ready to help you\n"
     ]
    }
   ],
   "source": [
    "chat = ChatOpenAI(model='gpt-4o-mini', temperature=0,max_completion_tokens=20)\n",
    "response = chat.invoke(\"how are you chat gpt\")\n",
    "print(response.content)"
   ]
  },
  {
   "cell_type": "code",
   "execution_count": 8,
   "id": "c10a8d34",
   "metadata": {},
   "outputs": [],
   "source": [
    "from langchain_community.document_loaders import Docx2txtLoader\n",
    "from langchain_text_splitters.markdown import MarkdownHeaderTextSplitter\n",
    "from langchain_text_splitters.character import CharacterTextSplitter\n",
    "from langchain_openai.embeddings import OpenAIEmbeddings\n",
    "import numpy as np\n",
    "from langchain_community.vectorstores import Chroma\n",
    "from langchain.embeddings import HuggingFaceEmbeddings\n",
    "from langchain_core.documents import Document"
   ]
  },
  {
   "cell_type": "code",
   "execution_count": 7,
   "id": "e65446df",
   "metadata": {},
   "outputs": [
    {
     "name": "stderr",
     "output_type": "stream",
     "text": [
      "C:\\Users\\Abdelrahman\\AppData\\Local\\Temp\\ipykernel_30352\\1019514392.py:1: LangChainDeprecationWarning: The class `HuggingFaceEmbeddings` was deprecated in LangChain 0.2.2 and will be removed in 1.0. An updated version of the class exists in the :class:`~langchain-huggingface package and should be used instead. To use it run `pip install -U :class:`~langchain-huggingface` and import as `from :class:`~langchain_huggingface import HuggingFaceEmbeddings``.\n",
      "  embedding = HuggingFaceEmbeddings(model_name=\"all-MiniLM-L6-v2\")\n",
      "c:\\Users\\Abdelrahman\\Documents\\NLP\\Open AI\\LANGCHAIN\\venv\\lib\\site-packages\\tqdm\\auto.py:21: TqdmWarning: IProgress not found. Please update jupyter and ipywidgets. See https://ipywidgets.readthedocs.io/en/stable/user_install.html\n",
      "  from .autonotebook import tqdm as notebook_tqdm\n"
     ]
    }
   ],
   "source": [
    "embedding = HuggingFaceEmbeddings(model_name=\"all-MiniLM-L6-v2\")"
   ]
  },
  {
   "cell_type": "code",
   "execution_count": 9,
   "id": "46d2adf9",
   "metadata": {},
   "outputs": [
    {
     "name": "stderr",
     "output_type": "stream",
     "text": [
      "C:\\Users\\Abdelrahman\\AppData\\Local\\Temp\\ipykernel_30352\\629838147.py:1: LangChainDeprecationWarning: The class `Chroma` was deprecated in LangChain 0.2.9 and will be removed in 1.0. An updated version of the class exists in the :class:`~langchain-chroma package and should be used instead. To use it run `pip install -U :class:`~langchain-chroma` and import as `from :class:`~langchain_chroma import Chroma``.\n",
      "  vecstore_from_directory = Chroma(persist_directory=\"my_chroma_store\",\n"
     ]
    }
   ],
   "source": [
    "vecstore_from_directory = Chroma(persist_directory=\"my_chroma_store\",\n",
    "                                 embedding_function=embedding)"
   ]
  },
  {
   "cell_type": "code",
   "execution_count": 10,
   "id": "6a1e8fc6",
   "metadata": {},
   "outputs": [
    {
     "data": {
      "text/plain": [
       "{'ids': ['48692bc0-61e7-43e5-887b-d0b9df9188fc',\n",
       "  'c71c24e5-d701-4488-a21b-73755bfe8617',\n",
       "  '7c234662-f12c-4c55-9d89-ecfbaefd39e9',\n",
       "  '210339ba-d0df-4532-8ccc-ff617ff97fa1',\n",
       "  'b7463370-048a-4745-829f-4225bcf06ca1',\n",
       "  '6e908eba-32e9-452d-ba95-6fbb0c80b5e3',\n",
       "  'fc7c2ed2-f02e-420d-a0ac-04b18c2c4047',\n",
       "  '7e0b2a71-17ed-44ce-9db6-4209d41aeedf',\n",
       "  '37c29e75-751a-4da0-abc0-c092bd0e6a1b',\n",
       "  '4a65603a-6b4e-43d8-82f1-3ed53f2be7ad',\n",
       "  '93e5f93f-d28e-483b-8657-f0df2b54c236',\n",
       "  'c02cd1ac-1db4-491d-9eee-34109cccf315',\n",
       "  'f1bb986c-e258-428a-a774-0260488a450d',\n",
       "  'bf73a5c2-7ceb-4e43-a269-4a733377148b',\n",
       "  '2c632882-27f2-4d76-af06-45cf26e27335',\n",
       "  '29d72697-dc71-4d98-9182-1c335f557a6e',\n",
       "  '679591a8-0cf7-43f6-9922-83fd2e7f9be5',\n",
       "  '0e2df61a-c6f6-4792-87a9-8dd23478edac',\n",
       "  'a1e67d3d-6380-4333-b9d9-fc794a3773a4'],\n",
       " 'embeddings': None,\n",
       " 'documents': ['Alright! So… Let’s discuss the not-so-obvious differences between the terms analysis and analytics. Due to the similarity of the words, some people believe they share the same meaning, and thus use them interchangeably. Technically, this isn’t correct. There is, in fact, a distinct difference between the two. And the reason for one often being used instead of the other is the lack of a transparent understanding of both. So, let’s clear this up, shall we? First, we will start with analysis. Consi',\n",
       "  'hall we? First, we will start with analysis. Consider the following… You have a huge dataset containing data of various types. Instead of tackling the entire dataset and running the risk of becoming overwhelmed, you separate it into easier to digest chunks and study them individually and examine how they relate to other parts. And that’s analysis in a nutshell. One important thing to remember, however, is that you perform analyses on things that have already happened in the past. Such as using a',\n",
       "  'have already happened in the past. Such as using an analysis to explain how a story ended the way it did or how there was a decrease in sales last summer. All this means that we do analyses to explain how and/or why something happened. Great! Now, this leads us nicely on to the definition of analytics. As you have probably guessed, analytics generally refers to the future. Instead of explaining past events it explores potential future ones. Analytics is essentially the application of logical and',\n",
       "  'tics is essentially the application of logical and computational reasoning to the component parts obtained in an analysis. And in doing this you are looking for patterns and exploring what you could do with them in the future. Here, analytics branches off into two areas: qualitative analytics – this is using your intuition and experience in conjunction with the analysis to plan your next business move. And quantitative analytics – this is applying formulas and algorithms to numbers you have gath',\n",
       "  \"g formulas and algorithms to numbers you have gathered from your analysis. Here are a couple of examples. Say, you are an owner of an online clothing store. You are ahead of the competition and have a great understanding of what your customer's needs and wants are. You’ve performed a very detailed analysis from women’s clothing articles and feel sure about which fashion trends to follow. You may use this intuition to decide on which styles of clothing to start selling. This would be qualitative\",\n",
       "  'thing to start selling. This would be qualitative analytics. But you might not know when to introduce the new collection. In that case, relying on past sales data and user experience data, you could predict in which month it would be best to do that. This is an example of using quantitative analytics. Fantastic! To backtrack a little, you can combine these areas with analyses also – you could perform qualitative analysis – to explain how or why a story ended the way it did. And you can perform q',\n",
       "  'story ended the way it did. And you can perform quantitative analysis – working with past data to explain how sales decreased last summer. Perfect! Now that we have cleared up the differences between analysis and analytics it shouldn’t be too difficult to see how terms such as ‘data analysis’, ‘data analytics’, ‘business analysis’ and ‘business analytics’ can have their unique meanings too. More of this will be explained in the next video which aims to simplify these, as well as many more with',\n",
       "  'aims to simplify these, as well as many more with a fantastic diagram. So, let’s move on!',\n",
       "  'Alright! So… How are the techniques used in data, business intelligence, or predictive analytics applied in real life? Certainly, with the help of computers. You can basically split the relevant tools into two categories—programming languages and software. Knowing a programming language enables you to devise programs that can execute specific operations. Moreover, you can reuse these programs whenever you need to execute the same action. As you can see from the infographic, R, and Python are the',\n",
       "  'an see from the infographic, R, and Python are the two most popular tools across all columns. Their biggest advantage is that they can manipulate data and are integrated within multiple data and data science software platforms. They are not just suitable for mathematical and statistical computations. In other words, R, and Python are adaptable. They can solve a wide variety of business and data-related problems from beginning to the end. Of course, R, and Python do have their limitations. They a',\n",
       "  'e, R, and Python do have their limitations. They are not able to address problems specific to some domains. One example is ‘relational database management systems’—there, SQL is king. It was specifically created for that purpose. SQL is at its most advantageous when working with traditional, historical data. When preparing your BI analysis, for instance, you will surely employ it. Okay. When it comes to data science, mentioning MATLAB is inevitable. It is ideal for working with mathematical func',\n",
       "  'le. It is ideal for working with mathematical functions or matrix manipulations. That’s why it is present in all categories except for ‘big data’. While respectable, MATLAB usage is a paid service, and that’s one of the reasons why it is losing ground to open-source languages like R and Python. Either way, R, Python, and MATLAB, combined with SQL, cover most of the tools used when working with traditional data, BI, and conventional data science. What about big data? Apart from R and Python, peop',\n",
       "  'What about big data? Apart from R and Python, people working in this area are often proficient in other languages like Java or Scala. These two have not been developed specifically for doing statistical analyses, however they turn out to be very useful when combining data from multiple sources. All right! Let’s finish off with machine learning. When it comes to machine learning, we often deal with big data. Thus, we need a lot of computational power, and we can expect people to use the languages',\n",
       "  'wer, and we can expect people to use the languages similar to those in the big data column. Apart from R, Python, and MATLAB, other, faster languages are used like Java, JavaScript, C, C++, and Scala. Cool. What we said may be wonderful, but that’s not all! By using one or more programming languages, people create application software or, as they are sometimes called, software solutions, that are adjusted for specific business needs. Their smaller scope does not make them less useful, in fact, j',\n",
       "  'r scope does not make them less useful, in fact, just the opposite—they are a lot easier to learn and be adopted by others. You have already heard of several of those. Because of its ability to do relatively complex computations and good visualizations quickly, Excel is a tool applicable to more than one category—traditional data, BI, and Data Science. Similarly, SPSS is a very famous tool for working with traditional data and applying statistical analysis. Among the many applications we have pl',\n",
       "  'l analysis. Among the many applications we have plotted, we can say there is an increasing amount of software designed for working with big data such as Apache Hadoop, Apache Hbase, and Mongo DB. In terms of big data, Hadoop is the name that must stick with you. Hadoop is listed as a software in the sense that it is a collection of programs, but don’t imagine it as a nice-looking application. It’s actually a software framework which was designed to address the complexity of big data and its comp',\n",
       "  'to address the complexity of big data and its computational intensity. Most notably, Hadoop distributes the computational tasks on multiple computers which is basically the way to handle big data nowadays. Power BI, SaS, Qlik, and especially Tableau are top-notch examples of software designed for business intelligence visualizations. In terms of predictive analytics, EViews is mostly used for working with econometric time-series models, and Stata—for academic statistical and econometric research',\n",
       "  '—for academic statistical and econometric research, where techniques like regression, cluster, and factor analysis are constantly applied. As a final note, remember the following. Should you have the relevant business and theoretical knowledge, learning a software tool is relatively easy as opposed to learning a programming language. More importantly, it will be sufficient for your need to create quick and accurate analyses. However, if your theoretical preparation is strong enough, you will fin',\n",
       "  'retical preparation is strong enough, you will find yourself restricted by software. Knowing a programming language such as R and Python, gives you the freedom to create specific, ad-hoc tools for each project you are working on. Great! We hope we gave you a good idea about the level of applicability of the most frequently used programming and software tools in the field of data science. Thank you for watching!'],\n",
       " 'uris': None,\n",
       " 'included': ['metadatas', 'documents'],\n",
       " 'data': None,\n",
       " 'metadatas': [{'H1 Course Tiltle': 'Introduction to Data and Data Science',\n",
       "   'H2 Lecture Content': 'Analysis vs Analytics'},\n",
       "  {'H2 Lecture Content': 'Analysis vs Analytics',\n",
       "   'H1 Course Tiltle': 'Introduction to Data and Data Science'},\n",
       "  {'H1 Course Tiltle': 'Introduction to Data and Data Science',\n",
       "   'H2 Lecture Content': 'Analysis vs Analytics'},\n",
       "  {'H2 Lecture Content': 'Analysis vs Analytics',\n",
       "   'H1 Course Tiltle': 'Introduction to Data and Data Science'},\n",
       "  {'H2 Lecture Content': 'Analysis vs Analytics',\n",
       "   'H1 Course Tiltle': 'Introduction to Data and Data Science'},\n",
       "  {'H1 Course Tiltle': 'Introduction to Data and Data Science',\n",
       "   'H2 Lecture Content': 'Analysis vs Analytics'},\n",
       "  {'H2 Lecture Content': 'Analysis vs Analytics',\n",
       "   'H1 Course Tiltle': 'Introduction to Data and Data Science'},\n",
       "  {'H2 Lecture Content': 'Analysis vs Analytics',\n",
       "   'H1 Course Tiltle': 'Introduction to Data and Data Science'},\n",
       "  {'H2 Lecture Content': 'Programming Languages & Software Employed in Data Science - All the Tools You Need',\n",
       "   'H1 Course Tiltle': 'Introduction to Data and Data Science'},\n",
       "  {'H1 Course Tiltle': 'Introduction to Data and Data Science',\n",
       "   'H2 Lecture Content': 'Programming Languages & Software Employed in Data Science - All the Tools You Need'},\n",
       "  {'H2 Lecture Content': 'Programming Languages & Software Employed in Data Science - All the Tools You Need',\n",
       "   'H1 Course Tiltle': 'Introduction to Data and Data Science'},\n",
       "  {'H2 Lecture Content': 'Programming Languages & Software Employed in Data Science - All the Tools You Need',\n",
       "   'H1 Course Tiltle': 'Introduction to Data and Data Science'},\n",
       "  {'H1 Course Tiltle': 'Introduction to Data and Data Science',\n",
       "   'H2 Lecture Content': 'Programming Languages & Software Employed in Data Science - All the Tools You Need'},\n",
       "  {'H2 Lecture Content': 'Programming Languages & Software Employed in Data Science - All the Tools You Need',\n",
       "   'H1 Course Tiltle': 'Introduction to Data and Data Science'},\n",
       "  {'H1 Course Tiltle': 'Introduction to Data and Data Science',\n",
       "   'H2 Lecture Content': 'Programming Languages & Software Employed in Data Science - All the Tools You Need'},\n",
       "  {'H1 Course Tiltle': 'Introduction to Data and Data Science',\n",
       "   'H2 Lecture Content': 'Programming Languages & Software Employed in Data Science - All the Tools You Need'},\n",
       "  {'H1 Course Tiltle': 'Introduction to Data and Data Science',\n",
       "   'H2 Lecture Content': 'Programming Languages & Software Employed in Data Science - All the Tools You Need'},\n",
       "  {'H1 Course Tiltle': 'Introduction to Data and Data Science',\n",
       "   'H2 Lecture Content': 'Programming Languages & Software Employed in Data Science - All the Tools You Need'},\n",
       "  {'H1 Course Tiltle': 'Introduction to Data and Data Science',\n",
       "   'H2 Lecture Content': 'Programming Languages & Software Employed in Data Science - All the Tools You Need'}]}"
      ]
     },
     "execution_count": 10,
     "metadata": {},
     "output_type": "execute_result"
    }
   ],
   "source": [
    "vecstore_from_directory.get()"
   ]
  },
  {
   "cell_type": "code",
   "execution_count": 18,
   "id": "dafeedc6",
   "metadata": {},
   "outputs": [
    {
     "name": "stdout",
     "output_type": "stream",
     "text": [
      "['48692bc0-61e7-43e5-887b-d0b9df9188fc', 'c71c24e5-d701-4488-a21b-73755bfe8617', '7c234662-f12c-4c55-9d89-ecfbaefd39e9', '210339ba-d0df-4532-8ccc-ff617ff97fa1', 'b7463370-048a-4745-829f-4225bcf06ca1', '6e908eba-32e9-452d-ba95-6fbb0c80b5e3', 'fc7c2ed2-f02e-420d-a0ac-04b18c2c4047', '7e0b2a71-17ed-44ce-9db6-4209d41aeedf', '37c29e75-751a-4da0-abc0-c092bd0e6a1b', '4a65603a-6b4e-43d8-82f1-3ed53f2be7ad', '93e5f93f-d28e-483b-8657-f0df2b54c236', 'c02cd1ac-1db4-491d-9eee-34109cccf315', 'f1bb986c-e258-428a-a774-0260488a450d', 'bf73a5c2-7ceb-4e43-a269-4a733377148b', '2c632882-27f2-4d76-af06-45cf26e27335', '29d72697-dc71-4d98-9182-1c335f557a6e', '679591a8-0cf7-43f6-9922-83fd2e7f9be5', '0e2df61a-c6f6-4792-87a9-8dd23478edac', 'a1e67d3d-6380-4333-b9d9-fc794a3773a4']\n",
      "19\n"
     ]
    }
   ],
   "source": [
    "data = vecstore_from_directory.get()\n",
    "print(data[\"ids\"])\n",
    "print(len(data[\"ids\"]))"
   ]
  },
  {
   "cell_type": "code",
   "execution_count": 19,
   "id": "3b72e75c",
   "metadata": {},
   "outputs": [
    {
     "data": {
      "text/plain": [
       "7"
      ]
     },
     "execution_count": 19,
     "metadata": {},
     "output_type": "execute_result"
    }
   ],
   "source": [
    "len(vecstore_from_directory.get())"
   ]
  },
  {
   "cell_type": "code",
   "execution_count": 21,
   "id": "1c3f7783",
   "metadata": {},
   "outputs": [
    {
     "data": {
      "text/plain": [
       "{'ids': ['c71c24e5-d701-4488-a21b-73755bfe8617'],\n",
       " 'embeddings': array([[ 3.95845547e-02,  1.45653309e-02,  1.57417413e-02,\n",
       "         -1.46156810e-02,  3.26879062e-02, -4.89867385e-03,\n",
       "         -3.19424868e-02, -3.00571835e-03, -1.47509959e-03,\n",
       "          1.10089816e-02, -1.44490246e-02,  3.33675295e-02,\n",
       "         -4.79300730e-02,  1.98398605e-02, -4.27697301e-02,\n",
       "          1.82914250e-02, -4.92675640e-02,  1.56947374e-02,\n",
       "         -3.04079335e-02, -1.20953128e-01, -5.52219674e-02,\n",
       "         -4.35541458e-02, -2.91407295e-02,  5.16001582e-02,\n",
       "         -2.09782012e-02,  9.39488336e-02, -2.96834297e-03,\n",
       "         -8.71348847e-03,  2.64168419e-02, -2.83259507e-02,\n",
       "          1.05891973e-02,  4.97992188e-02,  2.71492451e-02,\n",
       "          5.79720736e-02, -1.09871730e-01,  7.83888623e-02,\n",
       "         -1.85681712e-02,  1.06644794e-01,  5.90732433e-02,\n",
       "          1.93585288e-02, -3.33782732e-02,  4.07407768e-02,\n",
       "          1.11270640e-02,  1.86749734e-02,  2.45439596e-02,\n",
       "         -6.36503994e-02, -5.59594110e-02, -4.39886227e-02,\n",
       "          2.11466998e-02,  4.34238426e-02, -1.39210731e-01,\n",
       "          3.87377962e-02, -2.08506407e-03, -1.03312479e-02,\n",
       "          4.67336401e-02, -2.72278413e-02,  8.96286126e-03,\n",
       "         -9.67294443e-03, -2.75573246e-02, -4.86753546e-02,\n",
       "         -3.50307450e-02, -2.42741723e-02, -5.88314980e-02,\n",
       "         -3.28119211e-02,  1.82830580e-02,  4.93110344e-02,\n",
       "          1.62374638e-02,  8.62846598e-02,  4.60968576e-02,\n",
       "          9.95458513e-02, -4.14233394e-02,  1.96539499e-02,\n",
       "         -7.19650015e-02,  5.24672978e-02, -5.52583300e-03,\n",
       "          2.64315233e-02, -4.91809621e-02, -4.36424427e-02,\n",
       "         -9.40354168e-03, -4.83759232e-02,  2.93070227e-02,\n",
       "         -6.98584784e-03,  8.72841477e-03,  6.21888712e-02,\n",
       "          2.09010858e-02, -6.95527047e-02,  1.74040198e-02,\n",
       "         -1.65081839e-03, -5.91416657e-02,  5.84890544e-02,\n",
       "          1.78767331e-02, -9.38177388e-03,  9.47595164e-02,\n",
       "         -2.79293563e-02,  1.53027460e-01,  6.54595792e-02,\n",
       "         -3.88123877e-02, -3.25635038e-02,  1.28070131e-01,\n",
       "          3.25510055e-02,  4.19076445e-04,  6.16904013e-02,\n",
       "         -5.60188247e-03,  2.77955588e-02, -5.51201440e-02,\n",
       "         -9.61203128e-02,  6.22494426e-03, -1.36400918e-02,\n",
       "          7.31500005e-03, -4.51525077e-02,  7.25032389e-03,\n",
       "          3.03701013e-02, -7.42821321e-02, -3.62454802e-02,\n",
       "          1.05373196e-01, -8.31330568e-02, -2.15386227e-02,\n",
       "          2.03549154e-02, -2.72070915e-02,  1.13334566e-01,\n",
       "         -7.19422987e-03, -1.95974559e-02,  5.10907322e-02,\n",
       "         -1.73107702e-02,  3.78797650e-02,  1.29926605e-02,\n",
       "         -4.11053114e-02,  3.24837872e-33, -8.90288316e-03,\n",
       "         -7.07163438e-02, -6.10957481e-02,  8.86143297e-02,\n",
       "         -9.06804055e-02, -3.33042443e-02, -8.54585990e-02,\n",
       "          4.19596024e-03,  1.57384407e-02,  8.80822912e-02,\n",
       "          5.64969778e-02,  1.16776735e-01, -5.83571717e-02,\n",
       "          1.52951879e-02,  2.86445022e-02, -9.29768756e-03,\n",
       "         -7.59248585e-02,  5.96883036e-02, -5.79987951e-02,\n",
       "         -4.76230122e-02, -2.06404552e-03, -1.10186480e-01,\n",
       "          5.67357168e-02,  3.59475170e-03,  1.48083521e-02,\n",
       "         -3.82698104e-02,  5.80535345e-02,  1.19831297e-03,\n",
       "         -4.71697003e-02, -8.69014207e-03, -1.18324300e-03,\n",
       "          2.53764205e-02, -9.80814174e-02,  1.78842433e-02,\n",
       "          3.61896902e-02,  3.32853496e-02,  1.78745035e-02,\n",
       "         -3.07474751e-02,  1.09555118e-01, -2.93739773e-02,\n",
       "         -3.37454909e-03,  9.09435749e-03, -5.62946312e-03,\n",
       "         -2.08411682e-02, -3.45586613e-03,  3.10390964e-02,\n",
       "          1.76120913e-04, -1.72302444e-02,  3.36298748e-04,\n",
       "          4.72624274e-03,  1.59880426e-02, -7.15633407e-02,\n",
       "          7.36542791e-03,  1.60969850e-02, -9.28396881e-02,\n",
       "          3.56744453e-02, -2.69756950e-02, -5.27962223e-02,\n",
       "          2.06604134e-02,  6.99130744e-02,  2.38854662e-02,\n",
       "          6.59323484e-03, -2.66790874e-02,  4.26128507e-02,\n",
       "         -5.80205917e-02,  6.86308667e-02, -9.75298211e-02,\n",
       "          2.22881548e-02,  4.08458188e-02, -1.42978057e-02,\n",
       "         -1.82604056e-03, -3.22723202e-02, -8.92972853e-03,\n",
       "         -1.16181085e-02,  3.08154672e-02, -1.45451855e-02,\n",
       "          1.74579695e-02,  8.71738233e-03, -5.96117713e-02,\n",
       "         -8.81804898e-03,  1.38670160e-03, -4.85929623e-02,\n",
       "          5.11561930e-02, -8.08892623e-02, -3.45619693e-02,\n",
       "          9.50712152e-03,  5.34899607e-02, -4.57494110e-02,\n",
       "         -2.77119838e-02, -2.17300151e-02, -8.05914551e-02,\n",
       "          3.92454974e-02,  2.35027298e-02, -3.60731669e-02,\n",
       "          5.11275604e-02, -6.35069125e-33, -4.14557420e-02,\n",
       "          5.21607362e-02, -5.01688337e-03, -1.50849363e-02,\n",
       "          5.82821481e-02, -3.63924131e-02, -1.07181430e-01,\n",
       "         -5.35226464e-02,  5.33589944e-02, -2.51148548e-02,\n",
       "         -4.13298234e-02, -4.29170132e-02,  7.77589232e-02,\n",
       "         -7.27011487e-02, -7.82527626e-02, -1.48590636e-02,\n",
       "         -1.34146754e-02, -3.45881730e-02, -2.33036503e-02,\n",
       "          2.91601159e-02, -9.60539728e-02,  5.17642498e-03,\n",
       "         -3.46873258e-03, -5.35803773e-02, -1.40988976e-02,\n",
       "          3.39608602e-02, -6.02079108e-02, -4.97063585e-02,\n",
       "          1.07632428e-02, -5.03049083e-02, -9.26490203e-02,\n",
       "         -2.61068624e-02,  2.94163637e-02, -2.97453869e-02,\n",
       "         -2.11696122e-02, -6.43083500e-03,  7.61034116e-02,\n",
       "         -7.51457065e-02,  1.96918659e-02, -4.26998325e-02,\n",
       "          7.31498227e-02,  8.91580582e-02, -4.01871577e-02,\n",
       "         -2.26868782e-02,  4.09268290e-02, -7.83168431e-03,\n",
       "         -7.58475363e-02,  8.23229477e-02,  2.07515173e-02,\n",
       "          2.51384033e-03,  3.91919762e-02,  6.82071298e-02,\n",
       "          4.33469154e-02, -4.55716588e-02,  2.62626670e-02,\n",
       "         -2.52663456e-02,  9.19355452e-02, -4.59594391e-02,\n",
       "         -7.45335817e-02,  5.63857071e-02, -1.19166784e-01,\n",
       "         -1.48992576e-02, -1.43100405e-02,  7.33390450e-02,\n",
       "         -1.14655485e-02, -1.08371168e-01,  8.38651601e-03,\n",
       "         -1.02116697e-01, -7.90436193e-02,  2.06115935e-02,\n",
       "          2.13108957e-02,  6.29574731e-02, -4.97057512e-02,\n",
       "          5.46117593e-03, -2.39567179e-03, -4.33534272e-02,\n",
       "         -8.43660161e-02, -2.26827171e-02,  3.80612239e-02,\n",
       "          2.13479642e-02,  1.79723948e-02, -1.07988808e-02,\n",
       "          2.59999447e-02, -4.42627643e-04, -2.97116451e-02,\n",
       "          1.54877678e-01, -9.46973916e-03, -3.53718773e-02,\n",
       "         -4.58372124e-02, -2.91832313e-02, -1.10982947e-01,\n",
       "         -1.01414844e-01, -7.53916651e-02,  5.26473718e-03,\n",
       "         -1.23505760e-02, -6.55878409e-08,  3.77672240e-02,\n",
       "         -8.87802169e-02,  4.94962782e-02,  3.73064773e-03,\n",
       "          6.55311123e-02, -4.65735383e-02, -1.04298174e-01,\n",
       "          1.86315447e-01, -2.44640056e-02,  1.43321706e-02,\n",
       "          5.08823954e-02,  2.09832750e-02, -4.98714522e-02,\n",
       "          7.79161006e-02,  1.21061867e-02, -6.46016281e-03,\n",
       "          9.52209085e-02, -4.46708873e-02, -6.29290342e-02,\n",
       "          1.93204377e-02,  1.80783104e-02, -5.09758946e-03,\n",
       "          2.37771980e-02,  3.00683063e-02,  1.16002843e-01,\n",
       "         -1.48071283e-02, -1.16784656e-02,  4.25902121e-02,\n",
       "          1.26166185e-02,  2.24250890e-02, -3.65228974e-03,\n",
       "          1.43910125e-02, -1.19932937e-02, -7.86089674e-02,\n",
       "          3.51547487e-02,  2.85775773e-02,  7.12345988e-02,\n",
       "          1.13305002e-02, -1.51590025e-02, -1.11012664e-02,\n",
       "         -5.76942153e-02,  2.82934941e-02, -3.23272427e-03,\n",
       "          6.59021288e-02, -7.22159911e-03, -2.08577253e-02,\n",
       "         -1.10297710e-01,  9.17075500e-02,  1.49780987e-02,\n",
       "          4.71961237e-02,  3.70714702e-02,  1.10109355e-02,\n",
       "          1.62921324e-02,  6.66498393e-02,  3.04671638e-02,\n",
       "          5.42021766e-02,  1.81250181e-02,  2.36280169e-02,\n",
       "          2.65851188e-02,  2.69922707e-03,  7.74763003e-02,\n",
       "          2.72928290e-02, -6.88965917e-02, -3.62640023e-02]]),\n",
       " 'documents': None,\n",
       " 'uris': None,\n",
       " 'included': ['embeddings'],\n",
       " 'data': None,\n",
       " 'metadatas': None}"
      ]
     },
     "execution_count": 21,
     "metadata": {},
     "output_type": "execute_result"
    }
   ],
   "source": [
    "rand_id = vecstore_from_directory.get(ids='c71c24e5-d701-4488-a21b-73755bfe8617',\n",
    "                            include=[\"embeddings\"])\n",
    "rand_id"
   ]
  },
  {
   "cell_type": "markdown",
   "id": "4e06593c",
   "metadata": {},
   "source": [
    "#### Vector Store Operatonions (`add`, `update`, `delete`)"
   ]
  },
  {
   "cell_type": "markdown",
   "id": "22b74d55",
   "metadata": {},
   "source": [
    "**1- `Add`**"
   ]
  },
  {
   "cell_type": "code",
   "execution_count": 22,
   "id": "2084c9b6",
   "metadata": {},
   "outputs": [],
   "source": [
    "add_doc = Document(page_content=\"Alright! So… Let’s discuss the not-so-obvious differences between the terms analysis and analytics. Due to the similarity of the words, some people believe they share the same meaning, and thus use them interchangeably. Technically, this isn’t correct. There is, in fact, a distinct difference between the two. And the reason for one often being used instead of the other is the lack of a transparent understanding of both. So, let’s clear this up, shall we? First, we will start with analysis\",\n",
    "                   metadata={'H1 Course Title' : 'Introduction to Data and Data Science',\n",
    "                             'H2 Lecture Content' : 'Analysis vs Analytics'})"
   ]
  },
  {
   "cell_type": "code",
   "execution_count": 23,
   "metadata": {},
   "outputs": [
    {
     "data": {
      "text/plain": [
       "['93edd31e-ae8a-4d5a-b449-1c687090c3d5']"
      ]
     },
     "execution_count": 23,
     "metadata": {},
     "output_type": "execute_result"
    }
   ],
   "source": [
    "vecstore_from_directory.add_documents([add_doc])"
   ]
  },
  {
   "cell_type": "code",
   "execution_count": 24,
   "id": "9f74fc24",
   "metadata": {},
   "outputs": [
    {
     "data": {
      "text/plain": [
       "{'ids': ['93edd31e-ae8a-4d5a-b449-1c687090c3d5'],\n",
       " 'embeddings': None,\n",
       " 'documents': ['Alright! So… Let’s discuss the not-so-obvious differences between the terms analysis and analytics. Due to the similarity of the words, some people believe they share the same meaning, and thus use them interchangeably. Technically, this isn’t correct. There is, in fact, a distinct difference between the two. And the reason for one often being used instead of the other is the lack of a transparent understanding of both. So, let’s clear this up, shall we? First, we will start with analysis'],\n",
       " 'uris': None,\n",
       " 'included': ['metadatas', 'documents'],\n",
       " 'data': None,\n",
       " 'metadatas': [{'H1 Course Title': 'Introduction to Data and Data Science',\n",
       "   'H2 Lecture Content': 'Analysis vs Analytics'}]}"
      ]
     },
     "execution_count": 24,
     "metadata": {},
     "output_type": "execute_result"
    }
   ],
   "source": [
    "vecstore_from_directory.get(\"93edd31e-ae8a-4d5a-b449-1c687090c3d5\")"
   ]
  },
  {
   "cell_type": "code",
   "execution_count": 25,
   "id": "6a0f9dc6",
   "metadata": {},
   "outputs": [],
   "source": [
    "update_doc = Document(page_content=\"Great! We hope we gave you a good idea about the level of applicability of the most frequently used programming and software tools in the field of data science. Thank you for watching!\",\n",
    "                      metadata={'H1 Course Title' : 'Introduction to Data and Data Science',\n",
    "                                'H2 Lecture Content' : 'Programming Languages & Software Employed in Data Science - All the Tools You Need'})"
   ]
  },
  {
   "cell_type": "code",
   "execution_count": 26,
   "id": "4731e5df",
   "metadata": {},
   "outputs": [],
   "source": [
    "vecstore_from_directory.update_document(document_id='93edd31e-ae8a-4d5a-b449-1c687090c3d5',\n",
    "                                        document=update_doc)"
   ]
  },
  {
   "cell_type": "code",
   "execution_count": 27,
   "metadata": {},
   "outputs": [
    {
     "data": {
      "text/plain": [
       "{'ids': ['93edd31e-ae8a-4d5a-b449-1c687090c3d5'],\n",
       " 'embeddings': None,\n",
       " 'documents': ['Great! We hope we gave you a good idea about the level of applicability of the most frequently used programming and software tools in the field of data science. Thank you for watching!'],\n",
       " 'uris': None,\n",
       " 'included': ['metadatas', 'documents'],\n",
       " 'data': None,\n",
       " 'metadatas': [{'H1 Course Title': 'Introduction to Data and Data Science',\n",
       "   'H2 Lecture Content': 'Programming Languages & Software Employed in Data Science - All the Tools You Need'}]}"
      ]
     },
     "execution_count": 27,
     "metadata": {},
     "output_type": "execute_result"
    }
   ],
   "source": [
    "vecstore_from_directory.get('93edd31e-ae8a-4d5a-b449-1c687090c3d5')"
   ]
  },
  {
   "cell_type": "code",
   "execution_count": 28,
   "id": "ea1b2001",
   "metadata": {},
   "outputs": [],
   "source": [
    "vecstore_from_directory.delete('93edd31e-ae8a-4d5a-b449-1c687090c3d5')"
   ]
  },
  {
   "cell_type": "code",
   "execution_count": 29,
   "id": "aa4bd422",
   "metadata": {},
   "outputs": [
    {
     "data": {
      "text/plain": [
       "{'ids': [],\n",
       " 'embeddings': None,\n",
       " 'documents': [],\n",
       " 'uris': None,\n",
       " 'included': ['metadatas', 'documents'],\n",
       " 'data': None,\n",
       " 'metadatas': []}"
      ]
     },
     "execution_count": 29,
     "metadata": {},
     "output_type": "execute_result"
    }
   ],
   "source": [
    "vecstore_from_directory.get('93edd31e-ae8a-4d5a-b449-1c687090c3d5')"
   ]
  },
  {
   "cell_type": "code",
   "execution_count": null,
   "metadata": {},
   "outputs": [],
   "source": []
  }
 ],
 "metadata": {
  "kernelspec": {
   "display_name": "Python 3",
   "language": "python",
   "name": "python3"
  },
  "language_info": {
   "codemirror_mode": {
    "name": "ipython",
    "version": 3
   },
   "file_extension": ".py",
   "mimetype": "text/x-python",
   "name": "python",
   "nbconvert_exporter": "python",
   "pygments_lexer": "ipython3",
   "version": "3.10.16"
  }
 },
 "nbformat": 4,
 "nbformat_minor": 5
}
