{
 "cells": [
  {
   "cell_type": "code",
   "execution_count": 2,
   "id": "f9cd36de",
   "metadata": {},
   "outputs": [
    {
     "name": "stdout",
     "output_type": "stream",
     "text": [
      "OPENAI_API_KEY: value\n"
     ]
    }
   ],
   "source": [
    "import openai\n",
    "from openai import OpenAI\n",
    "import langchain\n",
    "import os\n",
    "# Step 1: `Load environment variables```\n",
    "%reload_ext dotenv\n",
    "%dotenv\n",
    "# Step 3: Access your OpenAI API key from environment variables\n",
    "for key, value in os.environ.items():\n",
    "    if key == \"OPENAI_API_KEY\":\n",
    "        print(f\"{key}: value\")"
   ]
  },
  {
   "cell_type": "code",
   "execution_count": 3,
   "id": "9eba9965",
   "metadata": {},
   "outputs": [],
   "source": [
    "client = OpenAI(api_key=os.getenv(\"OPENAI_API_KEY\"))"
   ]
  },
  {
   "cell_type": "code",
   "execution_count": 4,
   "metadata": {},
   "outputs": [
    {
     "name": "stdout",
     "output_type": "stream",
     "text": [
      "Congratulations on your new furry friend! Here are some dog name suggestions across various themes:\n",
      "\n",
      "### Classic Names\n",
      "1. Max\n",
      "\n"
     ]
    }
   ],
   "source": [
    "from langchain_openai.chat_models import ChatOpenAI\n",
    "chat = ChatOpenAI(model='gpt-4o-mini', temperature=0,max_completion_tokens=25)\n",
    "response = chat.invoke(\"I have recently adopted a dog. Could you suggest some dog names?\")\n",
    "print(response.content)"
   ]
  },
  {
   "cell_type": "code",
   "execution_count": 5,
   "id": "e01cfbf4",
   "metadata": {},
   "outputs": [],
   "source": [
    "from langchain_openai.chat_models import ChatOpenAI\n",
    "from langchain_core.prompts import (ChatPromptTemplate,SystemMessagePromptTemplate,\n",
    "                                    HumanMessagePromptTemplate,AIMessagePromptTemplate,\n",
    "                                    FewShotChatMessagePromptTemplate)"
   ]
  },
  {
   "cell_type": "code",
   "execution_count": null,
   "id": "d2f33f71",
   "metadata": {},
   "outputs": [],
   "source": [
    "hum_template = '''I've recently adopted a {pet}. Could you suggest some {pet} names?'''\n",
    "ai_template = '''{response}'''\n",
    "\n",
    "hum_message_template = HumanMessagePromptTemplate.from_template(template=hum_template)\n",
    "ai_message_template = AIMessagePromptTemplate.from_template(template=ai_template)"
   ]
  },
  {
   "cell_type": "code",
   "execution_count": 7,
   "id": "cb9d3951",
   "metadata": {},
   "outputs": [],
   "source": [
    "example_template = ChatPromptTemplate([hum_message_template,ai_message_template])"
   ]
  },
  {
   "cell_type": "code",
   "execution_count": 8,
   "id": "329905f6",
   "metadata": {},
   "outputs": [],
   "source": [
    "examples = [{'pet':'dog',\n",
    "             'response':'''Oh, absolutely. Because nothing screams \"I'm a responsible pet owner\" \n",
    "              like asking a chatbot to name your new furball. How about \"Bark Twain\" (if it's a literary hound)? '''\n",
    "            },\n",
    "            \n",
    "            {\n",
    "             'pet':'cat',\n",
    "             'response':'''Oh, absolutely. Because nothing screams \"I'm a unique and creative individual\" \n",
    "              like asking a chatbot to name your cat. How about \"Furry McFurFace\", \"Sir Meowsalot\", or \"Catastrophe\"? '''\n",
    "            }\n",
    "]"
   ]
  },
  {
   "cell_type": "code",
   "execution_count": 9,
   "id": "3a43fb6b",
   "metadata": {},
   "outputs": [],
   "source": [
    "few_shot_prompt = FewShotChatMessagePromptTemplate(examples=examples,\n",
    "                                                   example_prompt=example_template,\n",
    "                                                   input_variables=['pet'])"
   ]
  },
  {
   "cell_type": "code",
   "execution_count": 11,
   "id": "604c72c8",
   "metadata": {},
   "outputs": [],
   "source": [
    "chat_template = ChatPromptTemplate.from_messages([few_shot_prompt,hum_message_template])"
   ]
  },
  {
   "cell_type": "code",
   "execution_count": null,
   "id": "ff0d99fb",
   "metadata": {},
   "outputs": [
    {
     "name": "stdout",
     "output_type": "stream",
     "text": [
      "messages=[HumanMessage(content=\"I've recently adopted a dog. \\nCould you suggest some dog names?\", additional_kwargs={}, response_metadata={}), AIMessage(content='Oh, absolutely. Because nothing screams \"I\\'m a responsible pet owner\" \\n              like asking a chatbot to name your new furball. How about \"Bark Twain\" (if it\\'s a literary hound)? ', additional_kwargs={}, response_metadata={}), HumanMessage(content=\"I've recently adopted a cat. \\nCould you suggest some cat names?\", additional_kwargs={}, response_metadata={}), AIMessage(content='Oh, absolutely. Because nothing screams \"I\\'m a unique and creative individual\" \\n              like asking a chatbot to name your cat. How about \"Furry McFurFace\", \"Sir Meowsalot\", or \"Catastrophe\"? ', additional_kwargs={}, response_metadata={}), HumanMessage(content=\"I've recently adopted a rabbit. \\nCould you suggest some rabbit names?\", additional_kwargs={}, response_metadata={})]\n"
     ]
    }
   ],
   "source": [
    "chat_value = chat_template.invoke({'pet':'rabbit'})\n",
    "chat_value"
   ]
  },
  {
   "cell_type": "code",
   "execution_count": 13,
   "id": "0e829781",
   "metadata": {},
   "outputs": [
    {
     "name": "stdout",
     "output_type": "stream",
     "text": [
      "Of course! Here are some fun and cute names for your new rabbit:\n",
      "\n",
      "1. **Thumper**\n",
      "2. **B\n"
     ]
    }
   ],
   "source": [
    "response = chat.invoke(chat_value)\n",
    "print(response.content)"
   ]
  },
  {
   "cell_type": "code",
   "execution_count": 14,
   "id": "a4128b6b",
   "metadata": {},
   "outputs": [
    {
     "name": "stdout",
     "output_type": "stream",
     "text": [
      "human: I've recently adopted a dog. \n",
      "Could you suggest some dog names?\n",
      "\n",
      "ai: Oh, absolutely. Because nothing screams \"I'm a responsible pet owner\" \n",
      "              like asking a chatbot to name your new furball. How about \"Bark Twain\" (if it's a literary hound)? \n",
      "\n",
      "human: I've recently adopted a cat. \n",
      "Could you suggest some cat names?\n",
      "\n",
      "ai: Oh, absolutely. Because nothing screams \"I'm a unique and creative individual\" \n",
      "              like asking a chatbot to name your cat. How about \"Furry McFurFace\", \"Sir Meowsalot\", or \"Catastrophe\"? \n",
      "\n",
      "human: I've recently adopted a rabbit. \n",
      "Could you suggest some rabbit names?\n",
      "\n"
     ]
    }
   ],
   "source": [
    "for i in chat_value.messages:\n",
    "    print(f'{i.type}: {i.content}\\n')"
   ]
  },
  {
   "cell_type": "code",
   "execution_count": 15,
   "id": "392a4487",
   "metadata": {},
   "outputs": [],
   "source": [
    "from langchain.chains.llm import LLMChain"
   ]
  },
  {
   "cell_type": "code",
   "execution_count": null,
   "metadata": {},
   "outputs": [
    {
     "name": "stderr",
     "output_type": "stream",
     "text": [
      "C:\\Users\\Abdelrahman\\AppData\\Local\\Temp\\ipykernel_26936\\2633328307.py:1: LangChainDeprecationWarning: The class `LLMChain` was deprecated in LangChain 0.1.17 and will be removed in 1.0. Use :meth:`~RunnableSequence, e.g., `prompt | llm`` instead.\n",
      "  chain = LLMChain(llm = chat,\n"
     ]
    }
   ],
   "source": [
    "chain = LLMChain(llm = chat, prompt = chat_template)"
   ]
  },
  {
   "cell_type": "code",
   "execution_count": 21,
   "id": "7fc0e678",
   "metadata": {},
   "outputs": [
    {
     "data": {
      "text/plain": [
       "{'pet': 'fish',\n",
       " 'text': 'Of course! Here are some fun and creative names for your new fish:\\n\\n1. **Bubbles**\\n2. **Fin'}"
      ]
     },
     "execution_count": 21,
     "metadata": {},
     "output_type": "execute_result"
    }
   ],
   "source": [
    "response = chain.invoke({'pet':'fish'})\n",
    "response"
   ]
  },
  {
   "cell_type": "code",
   "execution_count": null,
   "id": "a095fcf4",
   "metadata": {},
   "outputs": [],
   "source": []
  }
 ],
 "metadata": {
  "kernelspec": {
   "display_name": "Python 3",
   "language": "python",
   "name": "python3"
  },
  "language_info": {
   "codemirror_mode": {
    "name": "ipython",
    "version": 3
   },
   "file_extension": ".py",
   "mimetype": "text/x-python",
   "name": "python",
   "nbconvert_exporter": "python",
   "pygments_lexer": "ipython3",
   "version": "3.10.16"
  }
 },
 "nbformat": 4,
 "nbformat_minor": 5
}
