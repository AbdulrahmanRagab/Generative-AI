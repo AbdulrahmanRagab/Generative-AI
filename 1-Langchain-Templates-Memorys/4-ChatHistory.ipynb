{
 "cells": [
  {
   "cell_type": "markdown",
   "id": "391bde66",
   "metadata": {},
   "source": [
    "### Chat Message History\n",
    "**To simulate multi-turn conversation by keeping a history of exchanges between the user and AI.**"
   ]
  },
  {
   "cell_type": "code",
   "execution_count": 1,
   "id": "f9cd36de",
   "metadata": {},
   "outputs": [
    {
     "name": "stdout",
     "output_type": "stream",
     "text": [
      "OPENAI_API_KEY: value\n"
     ]
    }
   ],
   "source": [
    "import openai\n",
    "from openai import OpenAI\n",
    "import langchain\n",
    "import os\n",
    "# Step 1: Load environment variables\n",
    "%reload_ext dotenv\n",
    "%dotenv\n",
    "# Step 3: Access your OpenAI API key from environment variables\n",
    "for key, value in os.environ.items():\n",
    "    if key == \"OPENAI_API_KEY\":\n",
    "        print(f\"{key}: value\")"
   ]
  },
  {
   "cell_type": "code",
   "execution_count": 2,
   "id": "9eba9965",
   "metadata": {},
   "outputs": [],
   "source": [
    "client = OpenAI(api_key=os.getenv(\"OPENAI_API_KEY\"))"
   ]
  },
  {
   "cell_type": "code",
   "execution_count": 12,
   "metadata": {},
   "outputs": [
    {
     "name": "stdout",
     "output_type": "stream",
     "text": [
      "Congratulations on your new furry friend! Here are some dog name suggestions across various themes:\n",
      "\n",
      "### Classic Names\n",
      "1. Max\n",
      "2. Bella\n",
      "3. Charlie\n",
      "4. Daisy\n",
      "5. Buddy\n",
      "\n",
      "### Unique Names\n",
      "1. Zephyr\n",
      "\n"
     ]
    }
   ],
   "source": [
    "from langchain_openai.chat_models import ChatOpenAI\n",
    "chat = ChatOpenAI(model='gpt-4o-mini', temperature=0,max_completion_tokens=50)\n",
    "response = chat.invoke(\"I have recently adopted a dog. Could you suggest some dog names?\")\n",
    "print(response.content)"
   ]
  },
  {
   "cell_type": "code",
   "execution_count": 4,
   "id": "5e832d70",
   "metadata": {},
   "outputs": [],
   "source": [
    "from langchain_openai import ChatOpenAI\n",
    "from langchain_core.prompts import (ChatPromptTemplate,HumanMessagePromptTemplate)\n",
    "from langchain.chains.llm import LLMChain\n",
    "from langchain_community.chat_message_histories import ChatMessageHistory"
   ]
  },
  {
   "cell_type": "code",
   "execution_count": 5,
   "id": "fb270164",
   "metadata": {},
   "outputs": [
    {
     "data": {
      "text/plain": [
       "InMemoryChatMessageHistory(messages=[])"
      ]
     },
     "execution_count": 5,
     "metadata": {},
     "output_type": "execute_result"
    }
   ],
   "source": [
    "background_info = ChatMessageHistory()\n",
    "background_info"
   ]
  },
  {
   "cell_type": "markdown",
   "id": "137d4dfc",
   "metadata": {},
   "source": [
    "##### `background_info` Object of ChatMessageHistory : \n",
    "This object holds previous conversation turns "
   ]
  },
  {
   "cell_type": "markdown",
   "id": "83b5d039",
   "metadata": {},
   "source": [
    "**create manual chat messag history**"
   ]
  },
  {
   "cell_type": "code",
   "execution_count": 6,
   "id": "c216bf70",
   "metadata": {},
   "outputs": [],
   "source": [
    "background_info.add_user_message(\"Can you give me an interesting fact I probably didn't know about?\")\n",
    "background_info.add_ai_message(\"Sure, did you know that the longest place name on the planet is 85 letters long?\")"
   ]
  },
  {
   "cell_type": "code",
   "execution_count": 18,
   "id": "a99f735f",
   "metadata": {},
   "outputs": [
    {
     "data": {
      "text/plain": [
       "[HumanMessage(content=\"Can you give me an interesting fact I probably didn't know about?\", additional_kwargs={}, response_metadata={}),\n",
       " AIMessage(content='Sure, did you know that the longest place name on the planet is 85 letters long?', additional_kwargs={}, response_metadata={})]"
      ]
     },
     "execution_count": 18,
     "metadata": {},
     "output_type": "execute_result"
    }
   ],
   "source": [
    "background_info.messages"
   ]
  },
  {
   "cell_type": "code",
   "execution_count": 8,
   "id": "eccc8b93",
   "metadata": {},
   "outputs": [],
   "source": [
    "hum_message_template = HumanMessagePromptTemplate.from_template(template='{follow-up question}')"
   ]
  },
  {
   "cell_type": "code",
   "execution_count": 19,
   "id": "25d82897",
   "metadata": {},
   "outputs": [
    {
     "data": {
      "text/plain": [
       "ChatPromptTemplate(input_variables=['follow-up question'], input_types={}, partial_variables={}, messages=[HumanMessage(content=\"Can you give me an interesting fact I probably didn't know about?\", additional_kwargs={}, response_metadata={}), AIMessage(content='Sure, did you know that the longest place name on the planet is 85 letters long?', additional_kwargs={}, response_metadata={}), HumanMessagePromptTemplate(prompt=PromptTemplate(input_variables=['follow-up question'], input_types={}, partial_variables={}, template='{follow-up question}'), additional_kwargs={})])"
      ]
     },
     "execution_count": 19,
     "metadata": {},
     "output_type": "execute_result"
    }
   ],
   "source": [
    "chat_template = ChatPromptTemplate.from_messages(background_info.messages + [hum_message_template])\n",
    "chat_template"
   ]
  },
  {
   "cell_type": "code",
   "execution_count": 14,
   "id": "5206a408",
   "metadata": {},
   "outputs": [],
   "source": [
    "chain = LLMChain(llm = chat, prompt=chat_template)"
   ]
  },
  {
   "cell_type": "code",
   "execution_count": 17,
   "id": "462a18bf",
   "metadata": {},
   "outputs": [
    {
     "data": {
      "text/plain": [
       "{'follow-up question': 'what is the name?',\n",
       " 'text': 'The longest place name in the world is \"Taumatawhakatangihangakoauauotamateapokaiwhenuakitanatahu,\" a hill located near Porangahau in New Zealand. The name is of Māori origin'}"
      ]
     },
     "execution_count": 17,
     "metadata": {},
     "output_type": "execute_result"
    }
   ],
   "source": [
    "response = chain.invoke({'follow-up question':'what is the name?'})\n",
    "response"
   ]
  },
  {
   "cell_type": "code",
   "execution_count": 20,
   "id": "8f7fdd36",
   "metadata": {},
   "outputs": [
    {
     "data": {
      "text/plain": [
       "'The longest place name in the world is \"Taumatawhakatangihangakoauauotamateapokaiwhenuakitanatahu,\" a hill located near Porangahau in New Zealand. The name is of Māori origin'"
      ]
     },
     "execution_count": 20,
     "metadata": {},
     "output_type": "execute_result"
    }
   ],
   "source": [
    "response['text']"
   ]
  },
  {
   "cell_type": "code",
   "execution_count": null,
   "id": "aadcc68b",
   "metadata": {},
   "outputs": [],
   "source": []
  }
 ],
 "metadata": {
  "kernelspec": {
   "display_name": "Python 3",
   "language": "python",
   "name": "python3"
  },
  "language_info": {
   "codemirror_mode": {
    "name": "ipython",
    "version": 3
   },
   "file_extension": ".py",
   "mimetype": "text/x-python",
   "name": "python",
   "nbconvert_exporter": "python",
   "pygments_lexer": "ipython3",
   "version": "3.10.16"
  }
 },
 "nbformat": 4,
 "nbformat_minor": 5
}
