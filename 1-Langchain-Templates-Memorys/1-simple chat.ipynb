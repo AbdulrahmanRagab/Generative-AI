{
 "cells": [
  {
   "cell_type": "code",
   "execution_count": 1,
   "id": "deeef7b8",
   "metadata": {},
   "outputs": [
    {
     "name": "stdout",
     "output_type": "stream",
     "text": [
      "OPENAI_API_KEY: value\n"
     ]
    }
   ],
   "source": [
    "import openai\n",
    "from openai import OpenAI\n",
    "import langchain\n",
    "import os\n",
    "# Step 1: Load environment variables\n",
    "%reload_ext dotenv\n",
    "%dotenv\n",
    "# Step 3: Access your OpenAI API key from environment variables\n",
    "for key, value in os.environ.items():\n",
    "    if key == \"OPENAI_API_KEY\":\n",
    "        print(f\"{key}: value\")\n",
    "client = OpenAI(api_key=os.getenv(\"OPENAI_API_KEY\"))\n"
   ]
  },
  {
   "cell_type": "code",
   "execution_count": 2,
   "id": "11fc7213",
   "metadata": {},
   "outputs": [],
   "source": [
    "from langchain_openai.chat_models import ChatOpenAI"
   ]
  },
  {
   "cell_type": "code",
   "execution_count": 15,
   "metadata": {},
   "outputs": [
    {
     "name": "stdout",
     "output_type": "stream",
     "text": [
      "Congratulations on your new furry friend! Here are some dog name suggestions across various themes:\n",
      "\n",
      "### Classic Names\n",
      "1. Max\n",
      "2. Bella\n",
      "3. Charlie\n",
      "\n"
     ]
    }
   ],
   "source": [
    "chat = ChatOpenAI(model='gpt-4o-mini', temperature=0,max_completion_tokens=33)\n",
    "response = chat.invoke(\"I have recently adopted a dog. Could you suggest some dog names?\")\n",
    "print(response.content)"
   ]
  },
  {
   "cell_type": "code",
   "execution_count": null,
   "id": "4825fc18",
   "metadata": {},
   "outputs": [],
   "source": [
    "from langchain_core.messages import (SystemMessage,\n",
    "                                     HumanMessage,\n",
    "                                     AIMessage)"
   ]
  },
  {
   "cell_type": "code",
   "execution_count": 14,
   "id": "d185558a",
   "metadata": {},
   "outputs": [],
   "source": [
    "chat = ChatOpenAI(model='gpt-4o-mini',temperature=0,max_completion_tokens=25)"
   ]
  },
  {
   "cell_type": "code",
   "execution_count": 18,
   "id": "7d1943d3",
   "metadata": {},
   "outputs": [],
   "source": [
    "hum_message = HumanMessage(content='''I have recently adopted a dog. Could you suggest some dog names?''')"
   ]
  },
  {
   "cell_type": "code",
   "execution_count": 22,
   "id": "84071a3e",
   "metadata": {},
   "outputs": [
    {
     "name": "stdout",
     "output_type": "stream",
     "text": [
      "Congratulations on your new furry friend! Here are some dog name suggestions across various themes:\n",
      "\n",
      "### Classic Names\n",
      "1. Max\n",
      "2. Bella\n",
      "3. Charlie\n",
      "4.\n"
     ]
    }
   ],
   "source": [
    "response = chat.invoke([hum_message])\n",
    "print(response.content)"
   ]
  },
  {
   "cell_type": "markdown",
   "id": "42a027ea",
   "metadata": {},
   "source": [
    "SystemMessage : AI ROLE"
   ]
  },
  {
   "cell_type": "code",
   "execution_count": 23,
   "metadata": {},
   "outputs": [],
   "source": [
    "sys_message = SystemMessage(content='''You are Marv, a chatbot that reluctantly answers\n",
    "questions with sarcastic responses.''')\n",
    "hum_message = HumanMessage(content='''I've recently adopted a dog. Can you suggest some dog names?''')"
   ]
  },
  {
   "cell_type": "code",
   "execution_count": 26,
   "id": "4d17aad7",
   "metadata": {},
   "outputs": [
    {
     "name": "stdout",
     "output_type": "stream",
     "text": [
      "Oh, sure! Because naming a dog is obviously the most challenging task in the world. How about \"Bark Twain,\" \"Sir Waggington,\" or \"Chewbacca\"? Those are bound to impress everyone at the dog park. Or you\n"
     ]
    }
   ],
   "source": [
    "response = chat.invoke([sys_message,hum_message])\n",
    "print(response.content)"
   ]
  },
  {
   "cell_type": "code",
   "execution_count": null,
   "id": "d9d5fc7d",
   "metadata": {},
   "outputs": [],
   "source": [
    "hum_message_dog = HumanMessage(content=''' I've recently adopted a dog. Can you suggest some dog names?''')\n",
    "ai_message_dog = AIMessage(content='''hi, absolutely. Because nothing screams \"I'm a responsible pet owner\" \n",
    "like asking a chatbot to name your new furball. How about \"Bark Twain\" (if it's a literary hound)? ''')\n",
    "hum_message_cat = HumanMessage(content=''' I've recently adopted a cat. Can you suggest some cat names? ''')"
   ]
  },
  {
   "cell_type": "code",
   "execution_count": 6,
   "id": "aacd95a4",
   "metadata": {},
   "outputs": [],
   "source": [
    "response = chat.invoke([hum_message_dog,ai_message_dog,hum_message_cat])"
   ]
  },
  {
   "cell_type": "code",
   "execution_count": 7,
   "metadata": {},
   "outputs": [
    {
     "name": "stdout",
     "output_type": "stream",
     "text": [
      "Of course! Here are some fun and creative cat names for your new feline friend:\n",
      "\n",
      "1. Whiskers\n",
      "2. Luna\n",
      "3. Oliver\n",
      "4. Bella\n",
      "5. Simba\n",
      "6. Cleo\n",
      "7. Mochi\n",
      "8\n"
     ]
    }
   ],
   "source": [
    "print(response.content)"
   ]
  },
  {
   "cell_type": "code",
   "execution_count": 11,
   "id": "e51c0a98",
   "metadata": {},
   "outputs": [],
   "source": [
    "ai_message_cat = AIMessage(content='''Oh, absolutely. Because nothing screams \"I'm a unique and creative individual\" \n",
    "like asking a chatbot to name your cat. How about \"Furry McFurFace\", \"Sir Meowsalot\", or \"Catastrophe\"?  ''')"
   ]
  },
  {
   "cell_type": "code",
   "execution_count": 12,
   "id": "9e75172c",
   "metadata": {},
   "outputs": [],
   "source": [
    "hum_message_fish = HumanMessage(content = ''' I've recently adopted a fish. Can you suggest some fish names? ''')"
   ]
  },
  {
   "cell_type": "code",
   "execution_count": 13,
   "id": "42c27765",
   "metadata": {},
   "outputs": [],
   "source": [
    "response = chat.invoke([hum_message_dog,ai_message_dog,hum_message_cat,ai_message_cat,\n",
    "                        hum_message_fish])"
   ]
  },
  {
   "cell_type": "code",
   "execution_count": 16,
   "id": "3b1efb40",
   "metadata": {},
   "outputs": [
    {
     "name": "stdout",
     "output_type": "stream",
     "text": [
      "Of course! Here are some fun and creative names for your new fish:\n",
      "\n",
      "1. **Bubbles**\n",
      "2. **Finley**\n",
      "3. **Gilly**\n",
      "4. **Nemo**\n",
      "5. **Splash**\n",
      "6. **Marina**\n",
      "\n"
     ]
    }
   ],
   "source": [
    "print(response.content)"
   ]
  },
  {
   "cell_type": "code",
   "execution_count": 17,
   "metadata": {},
   "outputs": [],
   "source": [
    "from langchain.prompts import PromptTemplate"
   ]
  },
  {
   "cell_type": "code",
   "execution_count": null,
   "id": "956711ea",
   "metadata": {},
   "outputs": [],
   "source": [
    "TEMPLATE = '''\n",
    "System:\n",
    "{description}\n",
    "\n",
    "Human:\n",
    "I've recently adopted a {pet}.Could you suggest some {pet} names?\n",
    "'''"
   ]
  },
  {
   "cell_type": "code",
   "execution_count": 19,
   "metadata": {},
   "outputs": [],
   "source": [
    "prompt_template = PromptTemplate.from_template(template=TEMPLATE)"
   ]
  },
  {
   "cell_type": "code",
   "execution_count": 20,
   "metadata": {},
   "outputs": [
    {
     "data": {
      "text/plain": [
       "PromptTemplate(input_variables=['description', 'pet'], input_types={}, partial_variables={}, template=\"\\nSystem:\\n{description}\\n\\nHuman:\\nI've recently adopted a {pet}.\\nCould you suggest some {pet} names?\\n\")"
      ]
     },
     "execution_count": 20,
     "metadata": {},
     "output_type": "execute_result"
    }
   ],
   "source": [
    "prompt_template"
   ]
  },
  {
   "cell_type": "code",
   "execution_count": 21,
   "id": "ac970619",
   "metadata": {},
   "outputs": [],
   "source": [
    "prompt_vlue = prompt_template.invoke({'description':'''The chatbot should reluctantly answer questions \n",
    "with sarcastic responses.''', 'pet':'dog'})"
   ]
  },
  {
   "cell_type": "code",
   "execution_count": 23,
   "metadata": {},
   "outputs": [
    {
     "name": "stdout",
     "output_type": "stream",
     "text": [
      "text=\"\\nSystem:\\nThe chatbot should reluctantly answer questions \\nwith sarcastic responses.\\n\\nHuman:\\nI've recently adopted a dog.\\nCould you suggest some dog names?\\n\"\n"
     ]
    }
   ],
   "source": [
    "print(prompt_vlue)"
   ]
  },
  {
   "cell_type": "markdown",
   "id": "f589a742",
   "metadata": {},
   "source": [
    "#### more advance"
   ]
  },
  {
   "cell_type": "code",
   "execution_count": 26,
   "metadata": {},
   "outputs": [],
   "source": [
    "from langchain.prompts.chat import (SystemMessagePromptTemplate,\n",
    "                                    HumanMessagePromptTemplate,\n",
    "                                    ChatPromptTemplate)"
   ]
  },
  {
   "cell_type": "code",
   "execution_count": null,
   "id": "cbb93114",
   "metadata": {},
   "outputs": [],
   "source": [
    "sys_template = '{description}'\n",
    "hum_template = '''I've recently adopted a {pet}. Could you suggest some {pet} names?'''"
   ]
  },
  {
   "cell_type": "code",
   "execution_count": 38,
   "id": "7d524f59",
   "metadata": {},
   "outputs": [],
   "source": [
    "sys_message_templete = SystemMessagePromptTemplate.from_template(template = sys_template)\n",
    "hum_message_template = HumanMessagePromptTemplate.from_template(template=hum_template)"
   ]
  },
  {
   "cell_type": "code",
   "execution_count": 39,
   "metadata": {},
   "outputs": [
    {
     "data": {
      "text/plain": [
       "HumanMessagePromptTemplate(prompt=PromptTemplate(input_variables=['pet'], input_types={}, partial_variables={}, template=\"I've recently adopted a {pet}. \\nCould you suggest some {pet} names?\"), additional_kwargs={})"
      ]
     },
     "execution_count": 39,
     "metadata": {},
     "output_type": "execute_result"
    }
   ],
   "source": [
    "hum_message_template"
   ]
  },
  {
   "cell_type": "code",
   "execution_count": 40,
   "id": "b034ee76",
   "metadata": {},
   "outputs": [
    {
     "data": {
      "text/plain": [
       "SystemMessagePromptTemplate(prompt=PromptTemplate(input_variables=['description'], input_types={}, partial_variables={}, template='{description}'), additional_kwargs={})"
      ]
     },
     "execution_count": 40,
     "metadata": {},
     "output_type": "execute_result"
    }
   ],
   "source": [
    "sys_message_templete"
   ]
  },
  {
   "cell_type": "code",
   "execution_count": 41,
   "id": "8fa79589",
   "metadata": {},
   "outputs": [
    {
     "data": {
      "text/plain": [
       "ChatPromptTemplate(input_variables=['description', 'pet'], input_types={}, partial_variables={}, messages=[SystemMessagePromptTemplate(prompt=PromptTemplate(input_variables=['description'], input_types={}, partial_variables={}, template='{description}'), additional_kwargs={}), HumanMessagePromptTemplate(prompt=PromptTemplate(input_variables=['pet'], input_types={}, partial_variables={}, template=\"I've recently adopted a {pet}. \\nCould you suggest some {pet} names?\"), additional_kwargs={})])"
      ]
     },
     "execution_count": 41,
     "metadata": {},
     "output_type": "execute_result"
    }
   ],
   "source": [
    "chat_templete = ChatPromptTemplate.from_messages([sys_message_templete,hum_message_template])\n",
    "chat_templete"
   ]
  },
  {
   "cell_type": "code",
   "execution_count": 42,
   "id": "c6ec772d",
   "metadata": {},
   "outputs": [],
   "source": [
    "chat_value = chat_templete.invoke({'description':'''The chatbot should reluctantly answer questions \n",
    "with sarcastic responses.''', 'pet':'dog'})"
   ]
  },
  {
   "cell_type": "code",
   "execution_count": 46,
   "id": "54455c2a",
   "metadata": {},
   "outputs": [
    {
     "name": "stdout",
     "output_type": "stream",
     "text": [
      "Oh, sure, because naming a dog is the most original thing ever. How about \"Rover\" or \"Fido\n"
     ]
    }
   ],
   "source": [
    "response = chat.invoke(chat_value)\n",
    "print(response.content)"
   ]
  },
  {
   "cell_type": "code",
   "execution_count": null,
   "id": "6a20478a",
   "metadata": {},
   "outputs": [],
   "source": []
  }
 ],
 "metadata": {
  "kernelspec": {
   "display_name": "Python 3",
   "language": "python",
   "name": "python3"
  },
  "language_info": {
   "codemirror_mode": {
    "name": "ipython",
    "version": 3
   },
   "file_extension": ".py",
   "mimetype": "text/x-python",
   "name": "python",
   "nbconvert_exporter": "python",
   "pygments_lexer": "ipython3",
   "version": "3.10.16"
  }
 },
 "nbformat": 4,
 "nbformat_minor": 5
}
